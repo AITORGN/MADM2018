{
 "cells": [
  {
   "cell_type": "markdown",
   "metadata": {},
   "source": [
    "# Tutorial de Python\n",
    "\n",
    "**Introducción 1:** variables, tipos, operaciones y condicionales"
   ]
  },
  {
   "cell_type": "markdown",
   "metadata": {},
   "source": [
    "### Variables\n",
    "El concepto más básico que debemos conocer a la hora de empezar a programar es el concepto de variable: un espacio de memória en el que guardamos la información que maneja el programa."
   ]
  },
  {
   "cell_type": "code",
   "execution_count": null,
   "metadata": {},
   "outputs": [],
   "source": [
    "x = 3 # Tenemos una variable llamada x que guarda el valor 3\n",
    "x = 2 + 5 # x pasa a guardar el resultado de sumar 2 y 5\n",
    "\n",
    "print(x) # La función print nos permite mostrar información por pantalla\n",
    "\n",
    "# Podemos crear tantas variables como necesitemos\n",
    "y = 10\n",
    "z = 3.14 "
   ]
  },
  {
   "cell_type": "markdown",
   "metadata": {},
   "source": [
    "### Tipos de datos\n",
    "\n",
    "En Python tenemos 4 tipos de datos:\n",
    "    1. Números enteros (int): 1, -1, 0, 1000, -254\n",
    "    2. Números decimales (float): 3.14, 4.2, 1000.3, -33.001\n",
    "    3. Variables booleanas (boolean) :True, False\n",
    "    4. Caracteres y cadenas: \"a\", \"hola\", \"esto es una frase\"\n",
    "    \n",
    "Python es un lenguaje no tipado, esto quiere decir que no es necesario decir de que tipo es cada variable cuando las creamos. Además las variables pueden cambiar de tipo durant la ejecución de un programa.\n",
    "\n",
    "A continuación mostraremos como Python  gestiona los diferentes tipos de datos:"
   ]
  },
  {
   "cell_type": "code",
   "execution_count": null,
   "metadata": {},
   "outputs": [],
   "source": [
    "x  = 3\n",
    "print(type(x))\n",
    "f = 3.14\n",
    "print(type(f))\n",
    "b = True\n",
    "print(type(b))\n",
    "s = \"hola caracola\"\n",
    "print(type(s))"
   ]
  },
  {
   "cell_type": "markdown",
   "metadata": {},
   "source": [
    "### Operadores\n",
    "\n",
    "En Python, los operadores son símbolos especiales que designan que se debe realizar algún tipo de cálculo. Los valores en los que un operador actúa se llaman operandos.\n",
    "\n",
    "Un ejemplo puede ser la suma de dos valores:\n",
    "\n"
   ]
  },
  {
   "cell_type": "code",
   "execution_count": null,
   "metadata": {},
   "outputs": [],
   "source": [
    "x = 9 # Asignamos el valor 9 a la variable x\n",
    "y = 10 # Asignamos el valor 10 a la variable y\n",
    "\n",
    "z = x + y # Aplicamos el operador suma a las variables x e y"
   ]
  },
  {
   "cell_type": "markdown",
   "metadata": {},
   "source": [
    "En el siguiente enlace encontrareis todos los operadores de Python: [operadores](https://realpython.com/python-operators-expressions/)\n"
   ]
  },
  {
   "cell_type": "markdown",
   "metadata": {},
   "source": [
    "### Obtener información\n",
    "\n",
    "Un programa consiste en un flujo de datos de entrada, un conjunto de operaciones y una salida de información. Ya hemos visto como mostrar información al usuario usando la función **print()**.\n",
    "\n",
    "Ahora veremos como obtener información del usuario con la función **input()**, esta función nos devuelve una cadena de caracteres con la información del usuario."
   ]
  },
  {
   "cell_type": "code",
   "execution_count": null,
   "metadata": {},
   "outputs": [],
   "source": [
    "nombre = input(\"Hola, como te llamas? \")\n",
    "print(\"Encantado de conocerte\", nombre)"
   ]
  },
  {
   "cell_type": "code",
   "execution_count": null,
   "metadata": {},
   "outputs": [],
   "source": [
    "#Ahora quiero leer un número entero\n",
    "\n",
    "num = float(input(\"Que número introducirás? \")) # Si no ponemos int() no podemos operar\n",
    "\n",
    "num2 = num + 1\n",
    "print(num2) # Observad el resultado. De que tipo es?"
   ]
  },
  {
   "cell_type": "markdown",
   "metadata": {},
   "source": [
    "### Mi primer programa\n",
    "\n",
    "Un programa es un conjunto de sentencias de código que se ejecutan de forma secuencial y que reciben una entrada de datos, los procesan y muestran unos resultados.\n",
    "\n",
    "El sencillo programa siguiente obtiene dos números del usuario, los suma y muestra el resultado por pantalla\n"
   ]
  },
  {
   "cell_type": "code",
   "execution_count": null,
   "metadata": {},
   "outputs": [],
   "source": [
    "x = int(input(\"Introduce un número: \"))\n",
    "y = int(input(\"Introduce otro número: \"))\n",
    "\n",
    "resultado = x + y\n",
    "\n",
    "print(\"El resultado es: \", resultado)"
   ]
  },
  {
   "cell_type": "markdown",
   "metadata": {},
   "source": [
    "### Condicionales\n",
    "\n",
    "\n",
    "Las sentencias condicionales permiten evitar que nuestro código sea lineal y nos permiten realizar ramificaciones. Se expresan mediante la palabra reservada **if** y una condicion. Las condiciones son expresiones cuyo resultado debe ser *booleano*, tipicamente usamos los operadores de comparación: [Enlace a operadores de comparación](https://realpython.com/python-operators-expressions/#comparison-operators)\n",
    "\n",
    "**if** < condición > **:**\n",
    "    \n",
    "    código\n",
    "    código\n",
    "\n",
    "\n",
    "Podemos crear condiciones más complejas con la construccion **if-elif-else:**\n",
    "\n",
    "**if** <condición> **:**\n",
    "   \n",
    "    código\n",
    "    código\n",
    "   \n",
    "**elif** < otra condición > **:** #Podemos poner tantas condiciones como queramos\n",
    "   \n",
    "    código\n",
    "    código\n",
    "    código\n",
    "   \n",
    "**else:**\n",
    "\n",
    "    código\n",
    "    \n",
    "    \n",
    "A continuación teneis un ejemplo de su uso\n"
   ]
  },
  {
   "cell_type": "code",
   "execution_count": null,
   "metadata": {},
   "outputs": [],
   "source": [
    "\n",
    "x = int(input(\"Introduce un numero: \"))\n",
    "\n",
    "\n",
    "if x == 4: # Evaluamos si x vale 4\n",
    "    print(\"has introducido un 4\")\n",
    "    \n",
    "#Otro ejemplo\n",
    "    \n",
    "if x < 0:\n",
    "    print(\"el numero es negativo\")\n",
    "else:\n",
    "    print(\"el numero no es negativo\")\n",
    "\n",
    "\n",
    "# Si queremos poder discriminar si es 0, positivo o negativo\n",
    "if x < 0:\n",
    "    print(\"el numero es negativo\")\n",
    "elif x == 0: \n",
    "    print(\"el numero es 0\")\n",
    "else:\n",
    "    print(\"el numero es positivo\")\n",
    "    \n",
    "\n",
    "print(\"Esto siempre se ejecuta\")\n"
   ]
  },
  {
   "cell_type": "markdown",
   "metadata": {},
   "source": [
    "**Ejercicios**\n",
    "1. Escribe una secuencia de instrucciones que permitan leer un número real y muestre si el número está entre en el rango ( -1.0 ,\n",
    "1.0 ).\n",
    "2. Escribe una secuencia de instrucciones que permitan leer las coordenadas de un punto (x, y) e indique en el cuadrante en el\n",
    "que se encuentra dicho punto encuentra dicho punto.\n",
    "3. Escribe una secuencia de instrucciones que permitan leer dos números enteros y muestre el cociente de la división y el resto.\n",
    "4. Escribe una expresión que dados tres números enteros que representan dia, mes y año, nos muestre la fecha siguiente. Por\n",
    "ejemplo si introducimos 31, 12 y 2017 el programa debe responder 1-1-2018."
   ]
  },
  {
   "cell_type": "markdown",
   "metadata": {},
   "source": [
    "### Listas\n",
    "Las listas son contenedores que pueden almacenar una serie de objetos en un orden determinado. De manera sencilla podemos acceder, añadir y eliminar objetos de la secuencia.\n",
    "\n",
    "#### **Operaciones básicas**\n",
    "   **Crear lista **\n",
    "\n",
    "    L = [ ] # Lista vacia\n",
    "    L = ['a', 'e', 'i', 'o', 'u'] # L = [expression, ...]\n",
    "    L = [2, 4, 6, 8]\n",
    "    L = [0] * 5 # Crea la siguiente lista: [0, 0, 0, 0, 0]\n",
    "\n",
    "   **Acceder a un elemento**\n",
    "\n",
    "    print(L[0]) #Accedemos al primer elemento\n",
    "    L[2] = 4 #Modificamos el tercer elemento\n",
    "\n",
    "   **Añadir elemento**\n",
    "\n",
    "    L.append(5) #Añade el 5 al final de la lista L\n",
    "\n",
    "   **Eliminar elemento**\n",
    "\n",
    "    L.remove(4) #Elimina la primera ocurrencia de valor 4 en la lista L\n",
    "\n",
    "   **Acceder a varios elementos consecutivos** \n",
    "\n",
    "    print(L[0:3]) #Imprime los 3 primeros elementos de la lista\n",
    "    L[3:5] = [1, 2] #Modificamos los valores que se encuentra en las posiciones 3 y 4\n",
    "    \n",
    "    \n",
    "Existen maneras avanzadas de realizar ciertas operaciones usando listas:\n",
    "\n",
    "   Sea la lista: L= [1, 2, 3, 4, 5, 6]\n",
    "   Seleccionar elementos no contiguos seq = L[start:stop:step]\n",
    "\n",
    "\n",
    "En la [documentación de Python](https://docs.python.org/3.7/tutorial/datastructures.html#more-on-lists) podéis encontrar un buen número de ejemplos del uso de listas.\n",
    "\n"
   ]
  },
  {
   "cell_type": "code",
   "execution_count": null,
   "metadata": {},
   "outputs": [],
   "source": [
    "L = [2, 4, 6, 8]\n",
    "seq = L[1::2] # Seleccionamos todos los elementos en posiciones pares\n",
    "print(seq)\n",
    "seq = L[::1] # Seleccionamos todos los elementos en posiciones impares\n",
    "print(seq)\n",
    "#Seleccionar el último elemento sin saber longitud: \n",
    "\n",
    "L[-1]\n",
    "# Podemos conocer la longitud de una lista, usando la función len():\n",
    "len(L) # Devuelve un entero\n",
    "print(len(L))\n",
    "#Comprobar si un elemento se encuentra dentro de la lista, usando la palabra reservada in:\n",
    "3 in L # Esta operación devolverá True"
   ]
  },
  {
   "cell_type": "markdown",
   "metadata": {},
   "source": [
    "**Ejercicios**\n",
    "\n",
    "Te proponemos algunos ejercicios para que puedas evaluar si has entendido todos los conceptos:\n",
    "Dado la lista, noms = [“jordi”, “marta”, “jesus”, “juan”, “jaume”, “petra”]\n",
    "1. Muestra la lista ordenada alfabeticamente.\n",
    "2. Muestra la lista ordenada con el orden alfabético invertido.\n",
    "3. Elimina a “jordi” de la lista.\n",
    "4. Añade a “miquel” al final de la lista.\n",
    "5. Substituye a “joan” por “toni”.\n",
    "6. Substituye a “marta” por “pere”\n",
    "7. Muestra por pantalla el último elemento de la lista.\n",
    "8. Cuantos elementos tiene la lista ahora mismo?\n",
    "9. Cuantas veces tenemos a “joan” en la lista?\n",
    "10. Vacía la lista y muestra el resultado por pantalla"
   ]
  },
  {
   "cell_type": "markdown",
   "metadata": {},
   "source": [
    "### Extra, extra!!!\n",
    "\n",
    "Para los que quieran saber más, en la documentación teneis una [guía de estilo](https://docs.python.org/3.7/tutorial/controlflow.html#intermezzo-coding-style) de Pyton.\n",
    "\n",
    "*Real Python* es una [web](https://realpython.com/) con multitud de tutoriales que os pueden ser de interés, como habéis podido observar es un recurso que ya he utilitzado durante el tutorial.\n"
   ]
  },
  {
   "cell_type": "code",
   "execution_count": null,
   "metadata": {},
   "outputs": [],
   "source": [
    "import this # Ejecutadlo y veréis la filosofía detrás de Python ;)"
   ]
  },
  {
   "cell_type": "code",
   "execution_count": null,
   "metadata": {},
   "outputs": [],
   "source": []
  }
 ],
 "metadata": {
  "kernelspec": {
   "display_name": "Python [conda env:anaconda3]",
   "language": "python",
   "name": "conda-env-anaconda3-py"
  },
  "language_info": {
   "codemirror_mode": {
    "name": "ipython",
    "version": 3
   },
   "file_extension": ".py",
   "mimetype": "text/x-python",
   "name": "python",
   "nbconvert_exporter": "python",
   "pygments_lexer": "ipython3",
   "version": "3.5.4"
  }
 },
 "nbformat": 4,
 "nbformat_minor": 2
}
