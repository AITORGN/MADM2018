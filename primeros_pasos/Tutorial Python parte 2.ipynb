{
 "cells": [
  {
   "cell_type": "markdown",
   "metadata": {},
   "source": [
    "[Enlace a la documentación de Markdown](https://github.com/adam-p/markdown-here/wiki/Markdown-Cheatsheet#html)\n",
    "\n",
    "[Enlace a los atajos de teclado de Jupyter](https://www.cheatography.com/weidadeyue/cheat-sheets/jupyter-notebook/pdf_bw/)\n",
    "            "
   ]
  },
  {
   "cell_type": "markdown",
   "metadata": {},
   "source": [
    "# Tutorial de Python\n",
    "\n",
    "**Introducción 2**: bucles, funciones, diccionarios y alguna cosa mas"
   ]
  },
  {
   "cell_type": "markdown",
   "metadata": {},
   "source": [
    "### Bucles\n",
    "\n",
    "En la sesión anterior explicamos como podemos alterar el flujo estándar de un programa mediante las sentencias condicionales (if).\n",
    "\n",
    "Ahora veremos la segunda manera de alterar el flujo básico de un programa mediante la repetición de instrucciones: **while** y **for**"
   ]
  },
  {
   "cell_type": "code",
   "execution_count": null,
   "metadata": {},
   "outputs": [],
   "source": [
    "# Las tablas de multiplicar básicamente consisten en repetir la misma \n",
    "# operación cambiando un operando\n",
    "\n",
    "tabla = 2\n",
    "\n",
    "for i in range(0,11): #  for indica que vamos a realizar un bucle\n",
    "    \n",
    "    resultado = tabla * i\n",
    "    print (str(tabla) +\" x \" + str(i) + \" = \", resultado)\n",
    "\n"
   ]
  },
  {
   "cell_type": "markdown",
   "metadata": {},
   "source": [
    "**Ejercicio**\n",
    "\n",
    "Puedes modificar el código anterior para que el usuario introduzca cualquier número entero y nos muestre su tabla por pantalla?"
   ]
  },
  {
   "cell_type": "markdown",
   "metadata": {},
   "source": [
    "\n",
    "El operando for se \"lleva muy bien\" con las listas\n",
    "\n",
    "Para que sirve la función range?\n",
    "Puedo iterar sobre una lista?"
   ]
  },
  {
   "cell_type": "code",
   "execution_count": null,
   "metadata": {},
   "outputs": [],
   "source": [
    "numeros = [4,5,7,8,9]\n",
    "for i in range(0, 5):\n",
    "    numeros[i] = numeros[i] + 1\n",
    "    \n",
    "print(numeros)"
   ]
  },
  {
   "cell_type": "markdown",
   "metadata": {},
   "source": [
    "Los bucles while se repiten hasta que cierta condición booleana se deja de cumplir\n"
   ]
  },
  {
   "cell_type": "code",
   "execution_count": null,
   "metadata": {},
   "outputs": [],
   "source": [
    "#Imprime 0,1,2,3,4\n",
    "count = 0\n",
    "while count < 5:\n",
    "    print(count)\n",
    "    count = count + 1"
   ]
  },
  {
   "cell_type": "markdown",
   "metadata": {},
   "source": [
    "**Ejercicio**\n",
    "\n",
    "La sucesión de fibonacci parte de dos números 1 y 1. \n",
    "Los siguientes valores se calculan sumando los 2 anteriores:\n",
    "Ejemplo: 1, 1, 2, 3, 5, 8, 13....\n"
   ]
  },
  {
   "cell_type": "markdown",
   "metadata": {},
   "source": [
    "### Funciones\n",
    "Una de los grandes beneficios de Python és el de \"batteries included\", esto quiere decir que nos proporciona muchas funcionalidades ya hechas. Ahora aprenderemos como se construyen:\n",
    "\n",
    "**def** *nombre_de_la_funcion* (p1, p2, p3): # tantos parametros como necesitemos\n",
    "    \n",
    "    x = operacion_a\n",
    "    y = operacion_b\n",
    "    z = operacion(x,y)\n",
    "    \n",
    "    return z # Return es opcional"
   ]
  },
  {
   "cell_type": "code",
   "execution_count": null,
   "metadata": {},
   "outputs": [],
   "source": [
    "def primera_funcion():\n",
    "    print(\"Hello!\")\n",
    "    \n",
    "def suma(x, y):\n",
    "    r = x + y\n",
    "    return r\n",
    "\n",
    "primera_funcion()\n",
    "resultado = suma(2, 3)\n",
    "print(resultado)"
   ]
  },
  {
   "cell_type": "markdown",
   "metadata": {},
   "source": [
    "**Ejercicios**\n",
    "\n",
    "1. Crear una función que recibe dos números enteros y devuelve el mayor de ellos.\n",
    "2. Crear una función que recibe tres números y devuelve el mayor haciendo uso del subprograma del punto anterior.\n",
    "3. Crear una función que devuelve el valor absoluto del número que recibe por parámetro.\n",
    "4. Crear la función es_primo que reciba un entero por parámetro y nos diga si este es un número primo (la función debe retornar True o False)."
   ]
  },
  {
   "cell_type": "markdown",
   "metadata": {},
   "source": [
    "### Diccionarios\n",
    "Un diccionario en Python es una colección no ordenada de pares: clave, valor. A diferencia de las listas,\n",
    "indexamos el contenido del diccionario mediante las claves.\n",
    "\n",
    "Un diccionario vacio se crea así:\n",
    "\n",
    "new_dict = {}"
   ]
  },
  {
   "cell_type": "code",
   "execution_count": null,
   "metadata": {},
   "outputs": [],
   "source": [
    "listin = {\"Jordi\": 616646023, \"Marta\": 696321504, \"Juanfran\": 626123040} # Diccionario con tres elementos\n",
    "print (listin[\"Marta\"])\n",
    "\n",
    "listin[\"Jesus\"] = 636261728"
   ]
  },
  {
   "cell_type": "markdown",
   "metadata": {},
   "source": [
    "Así como vimos con las listas, los diccionarios también tienen propiedades: "
   ]
  },
  {
   "cell_type": "code",
   "execution_count": null,
   "metadata": {},
   "outputs": [],
   "source": [
    "nombres = listin.keys() # Lista de claves\n",
    "valores = listin.values() # Lista de valores\n",
    "\n",
    "print(nombres)\n",
    "print(valores)\n",
    "\n",
    "len(listin) # Número de elementos en el diccionario\n",
    "\n",
    "\n",
    "del listin[\"Juanfran\"] # Eliminar un elemento del diccionario, junto a su valor\n",
    "\n",
    "if \"Marta\" in listin: # Comprobar si un elemento se encuentra en el diccionario\n",
    "    \n",
    "    print(\"El número de marta es: \", listin[\"Marta\"])\n",
    "    \n"
   ]
  },
  {
   "cell_type": "markdown",
   "metadata": {},
   "source": [
    "**Ejercicios**\n",
    "\n",
    "1. Construye un diccionario donde las claves son los números entre 1 y 15 (ambos incluidos) y los valores son sus cuadrados. Luego imprime cada clave con su valor.\n",
    "\n",
    "2. Crea un nuevo listin telefónico vacio. Realiza un bucle que permita: añadir, eliminar, consultar el número de una persona y listar todo el listin completo. El menú de opciones lo realizaremos con los números del 1 al 4.\n"
   ]
  },
  {
   "cell_type": "markdown",
   "metadata": {},
   "source": [
    "### Números aleatorios\n",
    "\n",
    "La generación de números aleatorios es muy importante para algunos de los métodos de *machine learning* y tambien para el método clásico de aprendizaje en el que seleccionamos muestras aleatorias de un conjunto para aprender de ellas.\n",
    "\n",
    "[Enlace a la documentación de Python](https://docs.python.org/2/library/random.html)"
   ]
  },
  {
   "cell_type": "code",
   "execution_count": null,
   "metadata": {},
   "outputs": [],
   "source": [
    "import random\n",
    "\n",
    "random.seed(0)\n",
    "\n",
    "random.randint(1,10)\n",
    "\n",
    "#random.uniform(1,10)\n",
    "\n",
    "# random.choice([1,3,5,8,13])"
   ]
  },
  {
   "cell_type": "markdown",
   "metadata": {},
   "source": [
    "**Ejercicios**\n",
    "\n",
    "1. Generad 20 muestras aleatorias de una distribución Gaussiana con media 0 y desviación típica 1. Calculad su media.\n",
    "\n",
    "2. Construid una función que reciba los 3 coeficientes de una ecuación de segundo grado y nos devuelva las soluciones.\n",
    "\n",
    "[Libreria Math](https://docs.python.org/3.6/library/math.html)\n"
   ]
  }
 ],
 "metadata": {
  "anaconda-cloud": {},
  "kernelspec": {
   "display_name": "Python [conda env:anaconda3]",
   "language": "python",
   "name": "conda-env-anaconda3-py"
  },
  "language_info": {
   "codemirror_mode": {
    "name": "ipython",
    "version": 3
   },
   "file_extension": ".py",
   "mimetype": "text/x-python",
   "name": "python",
   "nbconvert_exporter": "python",
   "pygments_lexer": "ipython3",
   "version": "3.5.4"
  }
 },
 "nbformat": 4,
 "nbformat_minor": 2
}
