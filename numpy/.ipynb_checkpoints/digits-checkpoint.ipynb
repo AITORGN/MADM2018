{
 "cells": [
  {
   "cell_type": "markdown",
   "metadata": {},
   "source": [
    "# Clasificación de digitos escritos a mano"
   ]
  },
  {
   "cell_type": "code",
   "execution_count": null,
   "metadata": {},
   "outputs": [],
   "source": [
    "# Librerias que usaremos\n",
    "import numpy as np \n",
    "import matplotlib.pyplot as plt\n",
    "from sklearn.datasets import load_digits\n"
   ]
  },
  {
   "cell_type": "markdown",
   "metadata": {},
   "source": [
    "** Exploración inicial**"
   ]
  },
  {
   "cell_type": "code",
   "execution_count": null,
   "metadata": {},
   "outputs": [],
   "source": [
    "# Cargamos el dataset y realizamos una exploración inicial\n",
    "digits = load_digits() \n",
    "print(\"* Nuestro conjunto de datos nos proporciona la siguiente información: \")\n",
    "print(list(digits.keys()))\n",
    "print(\"* Tenemos \" , digits.data.shape[0], \" imagenes, con \", digits.data.shape[1], \" pixeles en cada una\")"
   ]
  },
  {
   "cell_type": "code",
   "execution_count": null,
   "metadata": {},
   "outputs": [],
   "source": [
    "# Vamos a enseñar un número aleatorio de nuestro dataset.\n",
    "#Probaremos a ejecutar esta celda múltiples veces.\n",
    "\n",
    "rnd = np.random.randint(0, digits.data.shape[0]) #generam un nombre aleatori dins el rang\n",
    "numero = digits.target[rnd] # consultam la columna d'objectius\n",
    "\n",
    "#Generación de la imagen\n",
    "plt.figure()\n",
    "\n",
    "image = digits.data[rnd,:] #cogemos una fila del conjunto y la transformamos en una matriz 8x8\n",
    "fila_2_matrix = np.reshape(image, (8,8))\n",
    "\n",
    "plt.imshow(fila_2_matrix, cmap=plt.cm.gray)\n",
    "plt.title(numero)\n",
    "plt.show()"
   ]
  },
  {
   "cell_type": "code",
   "execution_count": null,
   "metadata": {},
   "outputs": [],
   "source": [
    "# Visualización de los diferentes ejemplos que podemos encontrar dels exemples que podem trobar \n",
    "plt.figure(figsize=(20,4))\n",
    "plt.clf()\n",
    "\n",
    "for index, (image, label) in enumerate(zip(digits.data[0:5], digits.target[0:5])):\n",
    "    plt.subplot(1, 5, index + 1)\n",
    "    plt.imshow(np.reshape(image, (8,8)), cmap=plt.cm.gray)\n",
    "    plt.title('%i\\n' % label, fontsize = 20)\n",
    "plt.show()"
   ]
  },
  {
   "cell_type": "markdown",
   "metadata": {},
   "source": [
    "Vamos a descubrir cuantas muestras de cada número tenemos en nuestro conjunto de datos, así sabremos si este está equilibrado"
   ]
  },
  {
   "cell_type": "code",
   "execution_count": null,
   "metadata": {},
   "outputs": [],
   "source": [
    "contadors = np.zeros(10, dtype = np.uint8)\n",
    "\n",
    "for i in range(0,10):\n",
    "    llista = digits.target[digits.target == i]\n",
    "    contadors[i] = len(llista)\n",
    "\n",
    "# Función ad-hoc  de la libreria Numyp\n",
    "#unique, counts = np.unique(digits.target, return_counts=True)\n",
    "#dict(zip(unique, counts))\n",
    "\n",
    "plt.bar(range(10), contadors)\n",
    "plt.title(\"Número de elementos por clase\")\n",
    "plt.show()\n",
    "print(contadors)\n"
   ]
  },
  {
   "cell_type": "markdown",
   "metadata": {},
   "source": [
    "### **Clasificación automática**"
   ]
  },
  {
   "cell_type": "markdown",
   "metadata": {},
   "source": [
    "Para usar poder testear como bueno es nuestro clasificador dividimos nuestro conjunto de\n",
    "datos con dos subconjuntos: ** entrenamiento y test. **"
   ]
  },
  {
   "cell_type": "code",
   "execution_count": null,
   "metadata": {},
   "outputs": [],
   "source": [
    "from sklearn.model_selection import train_test_split\n",
    "\n",
    "x_train, x_test, y_train, y_test = train_test_split(digits.data, digits.target, test_size=0.33, random_state=50)\n",
    "\n",
    "print(x_train.shape)\n",
    "print(x_test.shape)\n",
    "\n",
    "# Comprovam que la suma dels dos subconjunts fa el conjunt total\n",
    "\n",
    "suma = x_train.shape[0] + x_test.shape[0]\n",
    "\n",
    "print(suma == digits.data.shape[0])"
   ]
  },
  {
   "cell_type": "markdown",
   "metadata": {},
   "source": [
    "En este caso aplicaremos una técnica de aprendizaje supervisado, es decir que cada ejemplo\n",
    "le diremos a qué clase pertenece. Utilizaremos Random Forest, que básicamente es un conjunto de árboles binarios de clasificación.\n",
    "\n",
    "[Más información](http://scikit-learn.org/stable/modules/ensemble.html#forest)"
   ]
  },
  {
   "cell_type": "code",
   "execution_count": null,
   "metadata": {},
   "outputs": [],
   "source": [
    "from sklearn.ensemble import RandomForestClassifier\n",
    "\n",
    "rfc = RandomForestClassifier(n_estimators=10)\n",
    "# La función fit hace que el clasificador se modele en base a los ejemplos que pasamos y su clase\n",
    "rfc.fit(x_train, y_train)\n",
    "# La funcion predict nos da la predicción de nuestro clasificador a nuevos ejemplos\n",
    "# En este caso, el subconjunto de test\n",
    "y_out = rfc.predict(x_test)\n"
   ]
  },
  {
   "cell_type": "markdown",
   "metadata": {},
   "source": [
    "Análisis de los resultados"
   ]
  },
  {
   "cell_type": "code",
   "execution_count": null,
   "metadata": {},
   "outputs": [],
   "source": [
    "# Podemos comparar y_out con y_test para saber com de bo és els nostre classificador\n",
    "\n",
    "def medidas(y_actual, y_comp):\n",
    "    positius = 0\n",
    "    negatius = 0\n",
    "\n",
    "    for i in range(len(y_comp)): \n",
    "        if y_actual[i]==y_comp[i]:\n",
    "            positius += 1\n",
    "        else:\n",
    "            negatius += 1\n",
    "\n",
    "    return positius, negatius\n",
    "\n"
   ]
  },
  {
   "cell_type": "code",
   "execution_count": null,
   "metadata": {},
   "outputs": [],
   "source": [
    "p, n = medidas(y_test, y_out)\n",
    "\n",
    "ratio_ = p / len(y_test)\n",
    "print(\"El nuestro ratio de aciertos es: \", ratio *  100, \"%\")"
   ]
  },
  {
   "cell_type": "code",
   "execution_count": null,
   "metadata": {},
   "outputs": [],
   "source": [
    "# Otra manera de hacerlo es con la matriz de confusión que nos da una visión más general de lo que está pasando.\n",
    "\n",
    "from sklearn.metrics import confusion_matrix\n",
    "conf = confusion_matrix(y_test, y_out)\n",
    "\n",
    "conf"
   ]
  },
  {
   "cell_type": "markdown",
   "metadata": {},
   "source": [
    "![Caption for the picture.](https://i.stack.imgur.com/AuTKP.png)"
   ]
  },
  {
   "cell_type": "markdown",
   "metadata": {},
   "source": [
    "Puede ser interesante ver ejemplos de las malas clasificaciones de nuestro modelo"
   ]
  },
  {
   "cell_type": "code",
   "execution_count": null,
   "metadata": {},
   "outputs": [],
   "source": [
    "diferencias = np.where(y_test != y_out)\n",
    "\n",
    "plt.figure()\n",
    "\n",
    "idx = diferencias[0][10]\n",
    "\n",
    "image = digits.data[idx, :] #agafam una fila del dataset i la transformam en imatge\n",
    "fila_2_matrix = np.reshape(image, (8,8))\n",
    "\n",
    "plt.imshow(fila_2_matrix, cmap=plt.cm.gray)\n",
    "plt.title(\"La imagen es un \" + str(y_test[idx]) + \" y lo clasifica como \" + str(y_out[idx]))\n",
    "plt.show()"
   ]
  },
  {
   "cell_type": "code",
   "execution_count": null,
   "metadata": {},
   "outputs": [],
   "source": []
  }
 ],
 "metadata": {
  "kernelspec": {
   "display_name": "Python 3",
   "language": "python",
   "name": "python3"
  },
  "language_info": {
   "codemirror_mode": {
    "name": "ipython",
    "version": 3
   },
   "file_extension": ".py",
   "mimetype": "text/x-python",
   "name": "python",
   "nbconvert_exporter": "python",
   "pygments_lexer": "ipython3",
   "version": "3.6.5"
  }
 },
 "nbformat": 4,
 "nbformat_minor": 2
}
