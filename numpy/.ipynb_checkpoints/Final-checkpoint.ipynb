{
 "cells": [
  {
   "cell_type": "markdown",
   "metadata": {},
   "source": [
    "## Ejercicio final\n",
    "En este ejercicio tiene un conjunto de datos generado de forma artificial, deberá aplicar los conceptos vistos durante las dos primeras sesiones del curso"
   ]
  },
  {
   "cell_type": "code",
   "execution_count": 10,
   "metadata": {},
   "outputs": [],
   "source": [
    "# Librerias necessarias\n",
    "\n",
    "import numpy as np\n",
    "import matplotlib.pyplot as plt\n",
    "from sklearn import datasets\n",
    "from sklearn.decomposition import PCA\n",
    "from sklearn.datasets import make_classification"
   ]
  },
  {
   "cell_type": "code",
   "execution_count": 11,
   "metadata": {},
   "outputs": [],
   "source": [
    "# Importamos los datos\n",
    "dataset, classes = make_classification(n_samples=np.random.randint(200,250), n_features=6, n_informative=2, n_redundant=0, n_repeated=0, n_classes=4, n_clusters_per_class=1,  random_state=33)"
   ]
  },
  {
   "cell_type": "markdown",
   "metadata": {},
   "source": [
    "**Describe el dataset**\n",
    "\n",
    "¿Cuantas características tiene?\n",
    "¿Cuantas observaciones?\n"
   ]
  },
  {
   "cell_type": "markdown",
   "metadata": {},
   "source": [
    "### Selección\n",
    "    1.Realiza una selección que tenga todas las filas pero sólo las columnas pares\n",
    "    2.Realiza una selección que sea el resultado de seleccionar las primeras 10 filas\n",
    "    3.Realiza una selección  que sea el resultado de seleccionar las últimas 10 filas\n",
    "    4.Realiza una selección  que sea el resultado de seleccionar  10 filas de forma aleatoria\n",
    "    5.Realiza una selección de las columnas 3 a la 5 y de las filas 150 a la 160"
   ]
  },
  {
   "cell_type": "markdown",
   "metadata": {},
   "source": [
    "### Selección condicional\n",
    "\n",
    "    6.Crea un nuevo subconjunto que solamente contenga las muestras que pertenecen a la clase \n",
    "    7.¿Cuántas muestras tenemos de esta clase?\n",
    "    8.Selecciona todas filas cuyos valores de la tercera columna sean positivos"
   ]
  },
  {
   "cell_type": "markdown",
   "metadata": {},
   "source": [
    "### Funciones de numpy\n",
    "    09.Muestra el valor mínimo, el valor máximo y la media de cada columna.\n",
    "    10.Guárdalo en una matriz de dimensiones 3x6\n",
    "    11.Puedes programar una sentencia que nos diga cuál de las clases tiene el valor más alto? ** [Difícil] (El mayor màximo)"
   ]
  },
  {
   "cell_type": "markdown",
   "metadata": {},
   "source": [
    "### Dibujando con Matplotlib\n",
    "    12.Dibuja un diagrama de barras donde se vea el valor medio de cada clase. Este gráfico debe tener como mínimo un título e información en los ejes\n",
    "    13.Dibuja un gráfico donde se pueda confrontar la primera característica (columna 0) con la quinta (columna 4). Serías capaz de asignar un color diferente a cada clase?\n",
    "    14.Muestra en un gráfico de los valores de la columna 4 por cada observación. Añadele la columna 2\n",
    "    15.No crees que sería mejor crear un histograma de los valores de la columna 4?"
   ]
  },
  {
   "cell_type": "markdown",
   "metadata": {},
   "source": [
    "### Aprendizaje automático \n",
    "(ver Notebook del dataset de digits)\n",
    "\n",
    "    16. Utiliza la técnica de aprendizaje de random forest para intentar clasificar este conjunto de características **"
   ]
  },
  {
   "cell_type": "markdown",
   "metadata": {},
   "source": [
    "    17.Existe otra técnica llamada Máquinas de vectores de soporte (SVM). Intenta aplicar esta técnica, qué resultados obtienes?\n",
    "   [Enlace](http://scikit-learn.org/stable/modules/generated/sklearn.svm.SVC.html)"
   ]
  }
 ],
 "metadata": {
  "kernelspec": {
   "display_name": "Python 3",
   "language": "python",
   "name": "python3"
  },
  "language_info": {
   "codemirror_mode": {
    "name": "ipython",
    "version": 3
   },
   "file_extension": ".py",
   "mimetype": "text/x-python",
   "name": "python",
   "nbconvert_exporter": "python",
   "pygments_lexer": "ipython3",
   "version": "3.6.5"
  }
 },
 "nbformat": 4,
 "nbformat_minor": 2
}
