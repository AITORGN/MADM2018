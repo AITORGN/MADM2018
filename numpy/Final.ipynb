{
 "cells": [
  {
   "cell_type": "markdown",
   "metadata": {},
   "source": [
    "## Ejercicio final\n",
    "En este ejercicio tiene un conjunto de datos generado de forma artificial, deberá aplicar los conceptos vistos durante las dos primeras sesiones del curso"
   ]
  },
  {
   "cell_type": "code",
   "execution_count": null,
   "metadata": {},
   "outputs": [],
   "source": [
    "# Librerias necessarias\n",
    "\n",
    "import numpy as np\n",
    "import matplotlib.pyplot as plt\n",
    "from sklearn import datasets\n",
    "from sklearn.decomposition import PCA\n",
    "from sklearn.datasets import make_classification"
   ]
  },
  {
   "cell_type": "code",
   "execution_count": null,
   "metadata": {},
   "outputs": [],
   "source": [
    "# Importamos los datos\n",
    "dataset, classes = make_classification(n_samples=200, n_features=6, n_informative=2, n_redundant=0, n_repeated=0, n_classes=4, n_clusters_per_class=1,  random_state=33)"
   ]
  },
  {
   "cell_type": "code",
   "execution_count": null,
   "metadata": {},
   "outputs": [],
   "source": [
    "dataset.shape"
   ]
  },
  {
   "cell_type": "markdown",
   "metadata": {},
   "source": [
    "** Muestra el valor mínimo, el valor máximo y la media de cada columna. **\n",
    "** Guárdalo en una matriz de dimensiones 3x6 **\n",
    "\n",
    "** Puedes programar una sentencia que nos diga cuál de las clases tiene el valor más alto? ** [Difícil] (El mayor màximo)"
   ]
  },
  {
   "cell_type": "markdown",
   "metadata": {},
   "source": [
    "** Crea un nuevo subconjunto que solamente contenga las muestras que pertenecen a la clase 5. ¿Cuántas muestras tenemos de esta clase? **"
   ]
  },
  {
   "cell_type": "markdown",
   "metadata": {},
   "source": [
    "** Crear una subconjunto que tenga todas las filas pero sólo las columnas impares **\n",
    "\n",
    "** Crea una matriz, que sea el resultado de seleccionar 15 filas de manera aleatoria **"
   ]
  },
  {
   "cell_type": "markdown",
   "metadata": {},
   "source": [
    "** Dibuja un diagrama de barras donde se vea el valor medio de cada clase. Este gráfico debe tener como mínimo un título e información en los ejes **"
   ]
  },
  {
   "cell_type": "markdown",
   "metadata": {},
   "source": [
    "** Dibuja un gráfico donde se pueda confrontar la primera característica (columna 0) con la quinta (columna 4). Cada clase debe tener un color diferente **"
   ]
  },
  {
   "cell_type": "markdown",
   "metadata": {},
   "source": [
    "** Utilice la técnica de aprendizaje de random forest para intentar clasificar este conjunto de características **"
   ]
  },
  {
   "cell_type": "markdown",
   "metadata": {},
   "source": [
    "** Existe otra técnica llamada Máquinas de vectores de soporte (SVM). Intenta aplicar esta técnica, qué resultados obtienes? **\n",
    "\n",
    "[Enlace](http://scikit-learn.org/stable/modules/generated/sklearn.svm.SVC.html)"
   ]
  }
 ],
 "metadata": {
  "kernelspec": {
   "display_name": "Python [default]",
   "language": "python",
   "name": "python3"
  },
  "language_info": {
   "codemirror_mode": {
    "name": "ipython",
    "version": 3
   },
   "file_extension": ".py",
   "mimetype": "text/x-python",
   "name": "python",
   "nbconvert_exporter": "python",
   "pygments_lexer": "ipython3",
   "version": "3.5.4"
  }
 },
 "nbformat": 4,
 "nbformat_minor": 2
}
