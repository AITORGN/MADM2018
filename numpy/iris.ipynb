{
 "cells": [
  {
   "cell_type": "markdown",
   "metadata": {},
   "source": [
    "## *Exploración inicial* del dataset iris, que tiene información de 3 especies"
   ]
  },
  {
   "cell_type": "code",
   "execution_count": null,
   "metadata": {},
   "outputs": [],
   "source": [
    "# Librerias necesarias\n",
    "\n",
    "import numpy as np\n",
    "import matplotlib.pyplot as plt\n",
    "from sklearn import datasets\n",
    "from sklearn.decomposition import PCA"
   ]
  },
  {
   "cell_type": "code",
   "execution_count": null,
   "metadata": {},
   "outputs": [],
   "source": [
    "# Importamos los datos\n",
    "\n",
    "iris = datasets.load_iris()\n",
    "\n",
    "print(iris.keys())\n",
    "print(iris.target_names)\n",
    "print(iris.feature_names)"
   ]
  },
  {
   "cell_type": "markdown",
   "metadata": {},
   "source": [
    "**Com estan organitzados los datos? Que estructuración tiene?**"
   ]
  },
  {
   "cell_type": "code",
   "execution_count": null,
   "metadata": {},
   "outputs": [],
   "source": [
    "type(iris.data) "
   ]
  },
  {
   "cell_type": "markdown",
   "metadata": {},
   "source": [
    "Esta estructura matricial (una matriz no es mas que una lista en 2D) está gestionada con la libreria Numpy\n",
    "\n",
    "[Tutorial inicial](# https://docs.scipy.org/doc/numpy/user/quickstart.html)"
   ]
  },
  {
   "cell_type": "code",
   "execution_count": null,
   "metadata": {},
   "outputs": [],
   "source": [
    "iris.data.shape # Esta instrucción nos muestra la dimensionalidad de la matriz"
   ]
  },
  {
   "cell_type": "markdown",
   "metadata": {},
   "source": [
    "Este conjunto de datos nos viene etiquetado, es decir que por cada muestra sabemos a que especie pertenece\n",
    "Vamos a explorar: iris.target"
   ]
  },
  {
   "cell_type": "markdown",
   "metadata": {},
   "source": [
    "**Numpy permite realizar selecciones inteligents sobre nuestra matriz**"
   ]
  },
  {
   "cell_type": "code",
   "execution_count": null,
   "metadata": {},
   "outputs": [],
   "source": [
    "#División del conjunto de datos con las diferentes especies\n",
    "\n",
    "setosa = iris.data[iris.target == 0, :]\n",
    "versicolor = iris.data[iris.target == 1, :]\n",
    "virginica = iris.data[iris.target == 2, :]\n",
    "setosa.shape"
   ]
  },
  {
   "cell_type": "markdown",
   "metadata": {},
   "source": [
    "**I cálculos agregados** , por ejemplo la media de cada una de las características de cada especie."
   ]
  },
  {
   "cell_type": "code",
   "execution_count": null,
   "metadata": {},
   "outputs": [],
   "source": [
    "valors_m = np.zeros((3, 4), dtype= np.float) # Cream una matriu buida on guardarem els valors agregats\n",
    "\n",
    "mitjanes_setosa = np.mean(setosa, axis=0)\n",
    "\n",
    "valors_m[0, :] = mitjanes_setosa #tornam a fer selecció intel·ligent\n",
    "\n",
    "valors_m[1, :] = np.mean(versicolor, axis=0)\n",
    "valors_m[2, :]  = np.mean(virginica, axis=0)\n",
    "\n",
    "print(valors_m)\n"
   ]
  },
  {
   "cell_type": "markdown",
   "metadata": {},
   "source": [
    "### Visualización con Matplotlib\n",
    "Matplotlib es otra libreria, está nos permite realizar visualizaciones de nuestros datos"
   ]
  },
  {
   "cell_type": "code",
   "execution_count": null,
   "metadata": {},
   "outputs": [],
   "source": [
    "#Vamos a ver como podemos observar las longitudes de los sépalos\n",
    "\n",
    "X = iris.data[:, :2]\n",
    "y = iris.target\n",
    "\n",
    "x_min, x_max = X[:, 0].min() - .5, X[:, 0].max() + .5 #Miram quins son els valors min i max per centrar el dibuix\n",
    "y_min, y_max = X[:, 1].min() - .5, X[:, 1].max() + .5\n",
    "\n",
    "plt.figure(2, figsize=(8, 6)) #Creamos una figura nueva\n",
    "\n",
    "# Dibujamos las 2 primeras columnas del conjunto de datos (longitud y amplitud del sépalo)\n",
    "plt.scatter(X[:, 0], X[:, 1], c=y, cmap=plt.cm.Set1)\n",
    "\n",
    "#Añadimos diferentes decoraciones a la figura\n",
    "plt.xlabel('Sepal length')\n",
    "plt.ylabel('Sepal width')\n",
    "\n",
    "plt.xlim(x_min, x_max)\n",
    "plt.ylim(y_min, y_max)\n",
    "\n",
    "plt.xticks(())\n",
    "plt.yticks(())\n",
    "\n",
    "plt.show()"
   ]
  },
  {
   "cell_type": "markdown",
   "metadata": {},
   "source": [
    "Podemos realizar la misma visualización de los pétalos"
   ]
  },
  {
   "cell_type": "code",
   "execution_count": null,
   "metadata": {},
   "outputs": [],
   "source": [
    "X = iris.data[:, 1:3]\n",
    "y = iris.target\n",
    "\n",
    "x_min, x_max = X[:, 0].min() - .5, X[:, 0].max() + .5 #Miram quins son els valors min i max per centrar el dibuix\n",
    "y_min, y_max = X[:, 1].min() - .5, X[:, 1].max() + .5\n",
    "\n",
    "plt.figure(2, figsize=(8, 6))\n",
    "\n",
    "plt.scatter(X[:, 0], X[:, 1], c=y, cmap=plt.cm.Set1)\n",
    "\n",
    "# Añadimos diferentes decoraciones a la figura\n",
    "plt.xlabel('Petal length')\n",
    "plt.ylabel('Petal width')\n",
    "\n",
    "plt.xlim(x_min, x_max)\n",
    "plt.ylim(y_min, y_max)\n",
    "\n",
    "plt.xticks(())\n",
    "plt.yticks(())\n",
    "plt.show()"
   ]
  },
  {
   "cell_type": "markdown",
   "metadata": {},
   "source": [
    "## Veremos como podemos obtener conocimiento del conjunto de datos\n",
    "\n",
    "Usaremos una técnica \"simple\" conocida como Kmeans, ya que ahora lo que nos interesa es la parte tecnológica. Queremos conocer la tercera\n",
    "libreria que usaremos en esta parte del curso. Scikit la libreria científica de Python."
   ]
  },
  {
   "cell_type": "code",
   "execution_count": null,
   "metadata": {},
   "outputs": [],
   "source": [
    "from sklearn.cluster import KMeans\n",
    "\n",
    "X = iris.data[:, :2]  # Realizaremos la clasificación en base al sépalo de las plantas\n",
    "Y = iris.target\n",
    "h = .02  # step size in the mesh\n",
    "\n",
    "\n",
    "x_min, x_max = X[:, 0].min() - .5, X[:, 0].max() + .5\n",
    "y_min, y_max = X[:, 1].min() - .5, X[:, 1].max() + .5\n",
    "\n",
    "# Creamos una parrilla sobre el espacio 2D que pueden ocupar los valores de los sépalos de un iris.\n",
    "xx, yy = np.meshgrid(np.arange(x_min, x_max, h), np.arange(y_min, y_max, h))\n"
   ]
  },
  {
   "cell_type": "markdown",
   "metadata": {},
   "source": [
    "Utilizaremos una técnica de aprendizaje no supervisado llamada Kmeans.\n",
    "Donde el propio clasificador es el que decide / aprende como la información está organizada.\n",
    "\n",
    "[Tutorial kmeans](https://www.datascience.com/blog/k-means-clustering)"
   ]
  },
  {
   "cell_type": "code",
   "execution_count": null,
   "metadata": {},
   "outputs": [],
   "source": [
    "# Cada clasificador de la libreria Scikit tiene un método (función) al que llamamos constructor, particular. En el que podemos\n",
    "# especificar sus parámetros particulares\n",
    "\n",
    "kmeans = KMeans(n_clusters=3, random_state=0)\n",
    "\n",
    "# La función fit realiza el proceso de creación del modelo en base a los ejemplos que  le proporcionamos\n",
    "kmeans.fit(X)\n",
    "\n",
    "# La función predict proporciona una predicción de nuestro clasificador en base a nuevos ejemplos\n",
    "Z = kmeans.predict(np.c_[xx.ravel(), yy.ravel()])\n"
   ]
  },
  {
   "cell_type": "code",
   "execution_count": null,
   "metadata": {},
   "outputs": [],
   "source": [
    "# Dibujamos los resultados\n",
    "\n",
    "\n",
    "Z = Z.reshape(xx.shape)\n",
    "plt.figure(1, figsize=(8, 6))\n",
    "plt.pcolormesh(xx, yy, Z, cmap=plt.cm.Set1)\n",
    "\n",
    "# Para saber cómo nos ha ido dibujamos los puntos que hemos usado para entrenar nuestro clasificador\n",
    "plt.scatter(X[:, 0], X[:, 1], c=Y, edgecolors='k', cmap=plt.cm.Set1)\n",
    "plt.xlabel('Sepal length')\n",
    "plt.ylabel('Sepal width')\n",
    "\n",
    "plt.xlim(xx.min(), xx.max())\n",
    "plt.ylim(yy.min(), yy.max())\n",
    "plt.xticks(())\n",
    "plt.yticks(())\n",
    "\n",
    "plt.show()"
   ]
  }
 ],
 "metadata": {
  "kernelspec": {
   "display_name": "Python [default]",
   "language": "python",
   "name": "python3"
  },
  "language_info": {
   "codemirror_mode": {
    "name": "ipython",
    "version": 3
   },
   "file_extension": ".py",
   "mimetype": "text/x-python",
   "name": "python",
   "nbconvert_exporter": "python",
   "pygments_lexer": "ipython3",
   "version": "3.5.4"
  }
 },
 "nbformat": 4,
 "nbformat_minor": 2
}
