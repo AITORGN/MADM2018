{
 "cells": [
  {
   "cell_type": "markdown",
   "metadata": {},
   "source": [
    "# Carga de distintos formatos de datos en Python\n",
    "\n",
    "Como hemos visto []() los datos pueden encontrarse en distintos formatos. Ahora veremos como podemos cargarlos en Python y usarlos de maneras conocidas.\n",
    "\n",
    "[Repositorio con APIs](https://github.com/toddmotto/public-apis/blob/master/README.md)"
   ]
  },
  {
   "cell_type": "markdown",
   "metadata": {},
   "source": [
    "## JSON\n",
    "\n",
    "[Gramática JSON](https://www.json.org/)\n",
    "\n",
    "Un JSON se cargará en Python como un diccionario, estructura de datos que ya deberiamos conocer. Cabe recordar que un diccionario es un conjunto no ordenado de pares clave-valor, que tiene los atributos: *keys* y *values.\n",
    "\n",
    "Vamos a ver como podemos obtener un json desde una url:"
   ]
  },
  {
   "cell_type": "code",
   "execution_count": null,
   "metadata": {},
   "outputs": [],
   "source": [
    "import json\n",
    "import requests\n",
    "\n",
    "response = requests.get(\"http://api.punkapi.com/v2/beers/random\" )\n",
    "todos = json.loads(response.text)\n",
    "print(type(todos))\n",
    "\n",
    "for key in todos[0].keys():\n",
    "    print(key)"
   ]
  },
  {
   "cell_type": "markdown",
   "metadata": {},
   "source": [
    "### **Ejercicio**\n",
    "\n",
    "Vamos a cargar un json desde una URL, visitad el siguiente [repositorio]() y elegid uno de los enlaces. Explorad la API y mirad que tipo de peticiones podemos hacer. Elegid una y evaluad la respuesta que os ha retornado.\n",
    "\n",
    "Cuantas claves tiene el diccionario¿?\n",
    "Mostrad cada clave con su correspondiente valor."
   ]
  },
  {
   "cell_type": "markdown",
   "metadata": {},
   "source": [
    "**También es posible crear un fichero json en Python y cargarlo desde nuestra carpeta local:**"
   ]
  },
  {
   "cell_type": "code",
   "execution_count": null,
   "metadata": {},
   "outputs": [],
   "source": [
    "# Partimos de un string en formato json:\n",
    "\n",
    "data = {\n",
    "    \"president\": {\n",
    "        \"name\": \"Zaphod Beeblebrox\",\n",
    "        \"species\": \"Betelgeusian\"\n",
    "    }\n",
    "    }"
   ]
  },
  {
   "cell_type": "markdown",
   "metadata": {},
   "source": [
    "Creamos un fichero con permísos de escritura y usamos la función **dump** de la libreria json. La función dump se encuentra en muchas librerias y nos sirve para guardar estructuras de datos en ficheros.\n"
   ]
  },
  {
   "cell_type": "code",
   "execution_count": null,
   "metadata": {},
   "outputs": [],
   "source": [
    "with open(\"data_file.json\", \"w\") as write_file:\n",
    "    json.dump(data, write_file)\n",
    "    \n",
    "# La función dumps nos transforma nuestro json en un string de Python\n",
    "\n",
    "# json_string = json.dumps(data)"
   ]
  },
  {
   "cell_type": "markdown",
   "metadata": {},
   "source": [
    "Ahora que tenemos un fichero con la información vamos a ver como podemos leer un fichero con información json."
   ]
  },
  {
   "cell_type": "code",
   "execution_count": null,
   "metadata": {},
   "outputs": [],
   "source": [
    "with open(\"data_file.json\", \"r\") as read_file:\n",
    "    data = json.load(read_file)\n",
    "type(data)\n",
    "\n",
    "for k in data.keys():\n",
    "    print(k)"
   ]
  },
  {
   "cell_type": "markdown",
   "metadata": {},
   "source": [
    "## XML\n",
    "\n",
    "Uno de los problemas que tenemos con los archivos en formato XML, es que es necesario conocer su estructura interna antes de tratarlo. La propia [documentación](https://docs.python.org/3.7/library/xml.etree.elementtree.html#) nos advierte que *El módulo xml.etree.ElementTree no es seguro contra datos construidos malintencionadamente. Si necesita analizar datos no confiables o no autenticados, consulte las vulnerabilidades de XML.*\n",
    "\n",
    "En este caso vamos a ver como podemos obtener la información del siguiente xml (guardado en la carpeta de datos):\n",
    "\n",
    "    <data>\n",
    "        <customer name=\"gokhan\">\n",
    "            <email>gokhan@gmail.com</email>\n",
    "            <phone>555-1234</phone>\n",
    "        </customer>\n",
    "        <customer name=\"mike\">\n",
    "            <email>mike@gmail.com</email>\n",
    "        </customer>\n",
    "        <customer name=\"john\">\n",
    "            <email>john@gmail.com</email>\n",
    "            <phone>555-4567</phone>\n",
    "        </customer>\n",
    "        <customer name=\"david\">\n",
    "            <phone>555-6472</phone>\n",
    "            <address><street>Fifth Avenue</street></address>\n",
    "        </customer>\n",
    "    </data>"
   ]
  },
  {
   "cell_type": "code",
   "execution_count": null,
   "metadata": {},
   "outputs": [],
   "source": [
    "import xml.etree.cElementTree as et\n",
    "\n",
    "parsedXML = et.parse( \"data/test.xml\" )\n",
    "\n",
    "for node in parsedXML.getroot():\n",
    "    name = node.attrib.get('name')\n",
    "    email = node.find('email')\n",
    "    phone = node.find('phone')\n",
    "    street = node.find('address/street')\n"
   ]
  },
  {
   "cell_type": "markdown",
   "metadata": {},
   "source": [
    "**Esta misma libreria nos proporciona métodos para modificar y posteriormente guardar / exportar nuestros XML.**"
   ]
  },
  {
   "cell_type": "markdown",
   "metadata": {},
   "source": [
    "https://docs.python.org/3.7/library/xml.etree.elementtree.html#modifying-an-xml-file"
   ]
  },
  {
   "cell_type": "markdown",
   "metadata": {},
   "source": [
    "### **Ejercicio**\n",
    "\n",
    "Transforma este xml en un json y guardalo en un archivo llamado *prueba.json*.\n",
    "\n",
    "*ALERTA* : \n",
    "Comprueba que esta correctamente construido cargándolo otra vez"
   ]
  },
  {
   "cell_type": "markdown",
   "metadata": {},
   "source": [
    "## CSV\n",
    "*Comma Separated Value* es el formato que relacionamos con las hojas de cálculo, Python tiene una libreria dedicada a este formato: **Pandas**"
   ]
  },
  {
   "cell_type": "code",
   "execution_count": null,
   "metadata": {},
   "outputs": [],
   "source": [
    "import pandas as pd"
   ]
  },
  {
   "cell_type": "code",
   "execution_count": null,
   "metadata": {},
   "outputs": [],
   "source": [
    "df = pd.read_csv(\"SacramentocrimeJanuary2006.csv\")\n",
    "df"
   ]
  },
  {
   "cell_type": "markdown",
   "metadata": {},
   "source": [
    "En este [enlace](https://pandas.pydata.org/pandas-docs/stable/generated/pandas.read_excel.html) podemos ver como también tenemos la posibilidad de cargar una hoja excel en el formato Pandas. Evidentemente, así como en las demas liberias, tenemos funciones para exportar nuestra información a diferentes formatos.\n",
    "\n",
    "Dedicaremos las próximas sesiones a esta interesante libreria"
   ]
  }
 ],
 "metadata": {
  "kernelspec": {
   "display_name": "Python 3",
   "language": "python",
   "name": "python3"
  },
  "language_info": {
   "codemirror_mode": {
    "name": "ipython",
    "version": 3
   },
   "file_extension": ".py",
   "mimetype": "text/x-python",
   "name": "python",
   "nbconvert_exporter": "python",
   "pygments_lexer": "ipython3",
   "version": "3.6.5"
  }
 },
 "nbformat": 4,
 "nbformat_minor": 2
}
