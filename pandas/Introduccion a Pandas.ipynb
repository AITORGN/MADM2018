{
 "cells": [
  {
   "cell_type": "code",
   "execution_count": null,
   "metadata": {
    "collapsed": true
   },
   "outputs": [],
   "source": [
    "%matplotlib inline"
   ]
  },
  {
   "cell_type": "markdown",
   "metadata": {},
   "source": [
    "# Pandas\n",
    "<!-- requirement: img/Data_Frame_Data_Series.png -->\n",
    "<!-- requirement: small_data/fha_by_tract.csv -->\n",
    "<!-- requirement: small_data/2013_Gaz_tracts_national.tsv -->\n",
    "Pandas es la solución que Python propone frente a R. Es una buena tecnología para tratar conjuntos de datos \"pequeños\", \n",
    "es decir, aquellos que caben en la memória RAM del ordenador.\n",
    "\n",
    "El concepto básico que introduce pandas es el de **data frame**."
   ]
  },
  {
   "cell_type": "markdown",
   "metadata": {},
   "source": [
    "## Nouns (objects) en Pandas\n",
    "\n",
    "### Data Frames\n",
    "\n",
    "Como una tabla, con filas y columnas (por ejemplo, como en SQL). \n",
    "Excepto:\n",
    "   - Las filas pueden ser indexadas por algo interesante (hay soporte especial para etiquetas como datos categóricos y de series temporales). Esto es especialmente útil cuando tiene datos de series temporales con puntos de datos potencialmente faltantes.\n",
    "   - Las celdas pueden almacenar objetos de Python. Al igual que en un excel, las columnas son homogéneas.\n",
    "   - En lugar de \"NULL\", el nombre para un valor inexistente es \"NA\". A diferencia de R, los dataframes de Python solo admiten NA en columnas de algunos tipos de datos (básicamente: números en coma flotante y 'objetos'), pero esto no es un problema en su mayor parte.\n",
    "  \n",
    "### Serie de datos:\n",
    "\n",
    "Estas son columnas nombradas de un DataFrame (más correctamente, un dataframe es un diccionario de Series). Las entradas de la serie tienen un tipo homogéneo.\n",
    "\n",
    "<img src=\"img/4-pandas/Data_Frame_Data_Series.png\">"
   ]
  },
  {
   "cell_type": "code",
   "execution_count": 1,
   "metadata": {},
   "outputs": [
    {
     "data": {
      "text/html": [
       "<div>\n",
       "<table border=\"1\" class=\"dataframe\">\n",
       "  <thead>\n",
       "    <tr style=\"text-align: right;\">\n",
       "      <th></th>\n",
       "      <th>animal</th>\n",
       "      <th>number</th>\n",
       "    </tr>\n",
       "  </thead>\n",
       "  <tbody>\n",
       "    <tr>\n",
       "      <th>0</th>\n",
       "      <td>cat</td>\n",
       "      <td>1</td>\n",
       "    </tr>\n",
       "    <tr>\n",
       "      <th>1</th>\n",
       "      <td>dog</td>\n",
       "      <td>2</td>\n",
       "    </tr>\n",
       "    <tr>\n",
       "      <th>2</th>\n",
       "      <td>mouse</td>\n",
       "      <td>3</td>\n",
       "    </tr>\n",
       "  </tbody>\n",
       "</table>\n",
       "</div>"
      ],
      "text/plain": [
       "  animal  number\n",
       "0    cat       1\n",
       "1    dog       2\n",
       "2  mouse       3"
      ]
     },
     "execution_count": 1,
     "metadata": {},
     "output_type": "execute_result"
    }
   ],
   "source": [
    "import pandas as pd\n",
    "import numpy as np\n",
    "\n",
    "# Visualización\n",
    "import matplotlib.pyplot as plt\n",
    "import seaborn as sns\n",
    "\n",
    "#import re # expresiones regulares\n",
    "\n",
    "# un data frame\n",
    "df1 = pd.DataFrame({\n",
    "    'number': [1, 2, 3],\n",
    "    'animal': ['cat', 'dog', 'mouse']\n",
    "})\n",
    "\n",
    "df1"
   ]
  },
  {
   "cell_type": "code",
   "execution_count": 2,
   "metadata": {},
   "outputs": [
    {
     "data": {
      "text/plain": [
       "0      cat\n",
       "1      dog\n",
       "2    mouse\n",
       "Name: animal, dtype: object"
      ]
     },
     "execution_count": 2,
     "metadata": {},
     "output_type": "execute_result"
    }
   ],
   "source": [
    "# seleccionamos la columna animal\n",
    "df1['animal']"
   ]
  },
  {
   "cell_type": "code",
   "execution_count": null,
   "metadata": {},
   "outputs": [],
   "source": [
    "df1.animal"
   ]
  },
  {
   "cell_type": "code",
   "execution_count": 3,
   "metadata": {},
   "outputs": [
    {
     "data": {
      "text/plain": [
       "animal    object\n",
       "number     int64\n",
       "dtype: object"
      ]
     },
     "execution_count": 3,
     "metadata": {},
     "output_type": "execute_result"
    }
   ],
   "source": [
    "# mostramos los tipos de datos de las columnas\n",
    "df1.dtypes"
   ]
  },
  {
   "cell_type": "code",
   "execution_count": 5,
   "metadata": {},
   "outputs": [],
   "source": [
    "df1['number'] = df1['number'].astype(float)"
   ]
  },
  {
   "cell_type": "code",
   "execution_count": 6,
   "metadata": {},
   "outputs": [
    {
     "data": {
      "text/html": [
       "<div>\n",
       "<table border=\"1\" class=\"dataframe\">\n",
       "  <thead>\n",
       "    <tr style=\"text-align: right;\">\n",
       "      <th></th>\n",
       "      <th>animal</th>\n",
       "      <th>number</th>\n",
       "    </tr>\n",
       "  </thead>\n",
       "  <tbody>\n",
       "    <tr>\n",
       "      <th>0</th>\n",
       "      <td>cat</td>\n",
       "      <td>1.0</td>\n",
       "    </tr>\n",
       "    <tr>\n",
       "      <th>1</th>\n",
       "      <td>dog</td>\n",
       "      <td>2.0</td>\n",
       "    </tr>\n",
       "    <tr>\n",
       "      <th>2</th>\n",
       "      <td>mouse</td>\n",
       "      <td>3.0</td>\n",
       "    </tr>\n",
       "  </tbody>\n",
       "</table>\n",
       "</div>"
      ],
      "text/plain": [
       "  animal  number\n",
       "0    cat     1.0\n",
       "1    dog     2.0\n",
       "2  mouse     3.0"
      ]
     },
     "execution_count": 6,
     "metadata": {},
     "output_type": "execute_result"
    }
   ],
   "source": [
    "df1"
   ]
  },
  {
   "cell_type": "code",
   "execution_count": 4,
   "metadata": {},
   "outputs": [
    {
     "data": {
      "text/plain": [
       "False"
      ]
     },
     "execution_count": 4,
     "metadata": {},
     "output_type": "execute_result"
    }
   ],
   "source": [
    "# Creamos un dataframe igual\n",
    "df2 = pd.DataFrame([\n",
    "    ('cat', 1),\n",
    "    ('dog', 3),\n",
    "    ('mouse', 3),\n",
    "], columns=['animal', 'number'])\n",
    "\n",
    "np.all(df1 == df2)"
   ]
  },
  {
   "cell_type": "markdown",
   "metadata": {},
   "source": [
    "## Verbos (operaciones) en Pandas\n",
    "  \n",
    "Pandas proporciona un análisis básico de datos \"con pilas incluidas\":\n",
    "  - ** Cargando datos: ** `read_csv`,` read_table`, `read_sql`, y ` read_html`\n",
    "  - ** Selección, filtrado y agregación ** (es decir, operaciones de tipo SQL): hay una sintaxis especial para seleccionar. Existe el método `merge`. También hay una sintaxis fácil para crear una columna nueva cuyo valor se calcula desde otra columna, con la ventaja que los cálculos pueden usar toda la potencia de Python (aunque podría ser más rápido si no lo hiciera ;) ).\n",
    "  - ** Agregación de estilo de \"tabla pivote\": ** Si eres un experto en Excel, puedes apreciar esto.\n",
    "  - ** NA handling: ** Al igual que los dataframes de R, hay un buen soporte para transformar los valores de NA con valores por defecto / trucos de promedios / etc.\n",
    "  - ** Estadísticas básicas: ** `mean`, ` median`, `max`,` min`, y el siempre útil `describe`.\n",
    "  - ** Conectando a análisis más avanzados: ** Esto no se incluye por defecto. Pero aún así, se entiende razonablemente bien con `sklearn`.\n",
    "  - ** Visualización: ** Por ejemplo `plot` y `hist`. Tambien podemos usar matplotlib y también seaborn.\n",
    "  \n",
    "Examinaremos un poco sobre todos estos en el contexto de un ejemplo.\n",
    "\n",
    "Vamos a explorar un conjunto de datos de seguro hipotecario emitido por la Autoridad Federal de Vivienda (FHA). Los datos se desglosan por tramo censal y nos dice qué tamaño tiene la FHA en cada tramo (cuántas casas, etc.)."
   ]
  },
  {
   "cell_type": "markdown",
   "metadata": {},
   "source": [
    "## Carga de datos y primera toma de contacto\n",
    "\n",
    "**Podemos leer un csv y decirle que nombre tiene cada columna**"
   ]
  },
  {
   "cell_type": "code",
   "execution_count": 18,
   "metadata": {
    "scrolled": true
   },
   "outputs": [
    {
     "data": {
      "text/html": [
       "<div>\n",
       "<table border=\"1\" class=\"dataframe\">\n",
       "  <thead>\n",
       "    <tr style=\"text-align: right;\">\n",
       "      <th></th>\n",
       "      <th>State_Code</th>\n",
       "      <th>County_Code</th>\n",
       "      <th>Census_Tract_Number</th>\n",
       "      <th>NUM_ALL</th>\n",
       "      <th>NUM_FHA</th>\n",
       "      <th>PCT_NUM_FHA</th>\n",
       "      <th>AMT_ALL</th>\n",
       "      <th>AMT_FHA</th>\n",
       "      <th>PCT_AMT_FHA</th>\n",
       "    </tr>\n",
       "  </thead>\n",
       "  <tbody>\n",
       "    <tr>\n",
       "      <th>0</th>\n",
       "      <td>8.0</td>\n",
       "      <td>75.0</td>\n",
       "      <td>NaN</td>\n",
       "      <td>1</td>\n",
       "      <td>1</td>\n",
       "      <td>100.0</td>\n",
       "      <td>258</td>\n",
       "      <td>258</td>\n",
       "      <td>100.0</td>\n",
       "    </tr>\n",
       "    <tr>\n",
       "      <th>1</th>\n",
       "      <td>28.0</td>\n",
       "      <td>49.0</td>\n",
       "      <td>103.01</td>\n",
       "      <td>1</td>\n",
       "      <td>1</td>\n",
       "      <td>100.0</td>\n",
       "      <td>71</td>\n",
       "      <td>71</td>\n",
       "      <td>100.0</td>\n",
       "    </tr>\n",
       "    <tr>\n",
       "      <th>2</th>\n",
       "      <td>40.0</td>\n",
       "      <td>3.0</td>\n",
       "      <td>NaN</td>\n",
       "      <td>1</td>\n",
       "      <td>1</td>\n",
       "      <td>100.0</td>\n",
       "      <td>215</td>\n",
       "      <td>215</td>\n",
       "      <td>100.0</td>\n",
       "    </tr>\n",
       "    <tr>\n",
       "      <th>3</th>\n",
       "      <td>39.0</td>\n",
       "      <td>113.0</td>\n",
       "      <td>603.00</td>\n",
       "      <td>3</td>\n",
       "      <td>3</td>\n",
       "      <td>100.0</td>\n",
       "      <td>206</td>\n",
       "      <td>206</td>\n",
       "      <td>100.0</td>\n",
       "    </tr>\n",
       "    <tr>\n",
       "      <th>4</th>\n",
       "      <td>12.0</td>\n",
       "      <td>105.0</td>\n",
       "      <td>124.04</td>\n",
       "      <td>2</td>\n",
       "      <td>2</td>\n",
       "      <td>100.0</td>\n",
       "      <td>303</td>\n",
       "      <td>303</td>\n",
       "      <td>100.0</td>\n",
       "    </tr>\n",
       "  </tbody>\n",
       "</table>\n",
       "</div>"
      ],
      "text/plain": [
       "   State_Code  County_Code  Census_Tract_Number  NUM_ALL  NUM_FHA  \\\n",
       "0         8.0         75.0                  NaN        1        1   \n",
       "1        28.0         49.0               103.01        1        1   \n",
       "2        40.0          3.0                  NaN        1        1   \n",
       "3        39.0        113.0               603.00        3        3   \n",
       "4        12.0        105.0               124.04        2        2   \n",
       "\n",
       "   PCT_NUM_FHA  AMT_ALL  AMT_FHA  PCT_AMT_FHA  \n",
       "0        100.0      258      258        100.0  \n",
       "1        100.0       71       71        100.0  \n",
       "2        100.0      215      215        100.0  \n",
       "3        100.0      206      206        100.0  \n",
       "4        100.0      303      303        100.0  "
      ]
     },
     "execution_count": 18,
     "metadata": {},
     "output_type": "execute_result"
    }
   ],
   "source": [
    "names =[\"State_Code\", \"County_Code\", \"Census_Tract_Number\",\n",
    "        \"NUM_ALL\", \"NUM_FHA\", \"PCT_NUM_FHA\", \"AMT_ALL\",\n",
    "        \"AMT_FHA\", \"PCT_AMT_FHA\"]\n",
    "\n",
    "df = pd.read_csv('fha_by_tract.csv', names=names)  # Cargamos un archivo csv\n",
    "\n",
    "df.head()"
   ]
  },
  {
   "cell_type": "markdown",
   "metadata": {},
   "source": [
    "**O también asignar los nombres a las columnas a posteriori**"
   ]
  },
  {
   "cell_type": "code",
   "execution_count": 21,
   "metadata": {},
   "outputs": [],
   "source": [
    "\n",
    "names =[\"StateCode\", \"County_Code\", \"Census_Tract_Number\",\n",
    "        \"NUM_ALL\", \"NUM_FHA\", \"PCT_NUM_FHA\", \"AMT_ALL\",\n",
    "        \"AMT_FHA\", \"PCT_AMT_FHA\"]\n",
    "\n",
    "df.columns = names\n"
   ]
  },
  {
   "cell_type": "code",
   "execution_count": 23,
   "metadata": {
    "collapsed": true
   },
   "outputs": [],
   "source": [
    "\n",
    "df = df.rename(columns={\"StateCode\":\"State_Code\"}) # incluso lo podemos hacer una columna en particular"
   ]
  },
  {
   "cell_type": "code",
   "execution_count": null,
   "metadata": {},
   "outputs": [],
   "source": [
    "df.head() #Probad de pasar un número por parámetro"
   ]
  },
  {
   "cell_type": "markdown",
   "metadata": {},
   "source": [
    "**Crear una nueva columna como combinación de otras:** 'Census_Tract_Number', 'County_Code' y 'State_Code'\n"
   ]
  },
  {
   "cell_type": "code",
   "execution_count": 26,
   "metadata": {
    "scrolled": true
   },
   "outputs": [
    {
     "data": {
      "text/html": [
       "<div>\n",
       "<table border=\"1\" class=\"dataframe\">\n",
       "  <thead>\n",
       "    <tr style=\"text-align: right;\">\n",
       "      <th></th>\n",
       "      <th>State_Code</th>\n",
       "      <th>County_Code</th>\n",
       "      <th>Census_Tract_Number</th>\n",
       "      <th>NUM_ALL</th>\n",
       "      <th>NUM_FHA</th>\n",
       "      <th>PCT_NUM_FHA</th>\n",
       "      <th>AMT_ALL</th>\n",
       "      <th>AMT_FHA</th>\n",
       "      <th>PCT_AMT_FHA</th>\n",
       "      <th>GEOID</th>\n",
       "    </tr>\n",
       "  </thead>\n",
       "  <tbody>\n",
       "    <tr>\n",
       "      <th>0</th>\n",
       "      <td>8.0</td>\n",
       "      <td>75.0</td>\n",
       "      <td>NaN</td>\n",
       "      <td>1</td>\n",
       "      <td>1</td>\n",
       "      <td>100.0</td>\n",
       "      <td>258</td>\n",
       "      <td>258</td>\n",
       "      <td>100.0</td>\n",
       "      <td>NaN</td>\n",
       "    </tr>\n",
       "    <tr>\n",
       "      <th>1</th>\n",
       "      <td>28.0</td>\n",
       "      <td>49.0</td>\n",
       "      <td>103.01</td>\n",
       "      <td>1</td>\n",
       "      <td>1</td>\n",
       "      <td>100.0</td>\n",
       "      <td>71</td>\n",
       "      <td>71</td>\n",
       "      <td>100.0</td>\n",
       "      <td>2.804901e+10</td>\n",
       "    </tr>\n",
       "    <tr>\n",
       "      <th>2</th>\n",
       "      <td>40.0</td>\n",
       "      <td>3.0</td>\n",
       "      <td>NaN</td>\n",
       "      <td>1</td>\n",
       "      <td>1</td>\n",
       "      <td>100.0</td>\n",
       "      <td>215</td>\n",
       "      <td>215</td>\n",
       "      <td>100.0</td>\n",
       "      <td>NaN</td>\n",
       "    </tr>\n",
       "    <tr>\n",
       "      <th>3</th>\n",
       "      <td>39.0</td>\n",
       "      <td>113.0</td>\n",
       "      <td>603.00</td>\n",
       "      <td>3</td>\n",
       "      <td>3</td>\n",
       "      <td>100.0</td>\n",
       "      <td>206</td>\n",
       "      <td>206</td>\n",
       "      <td>100.0</td>\n",
       "      <td>3.911306e+10</td>\n",
       "    </tr>\n",
       "    <tr>\n",
       "      <th>4</th>\n",
       "      <td>12.0</td>\n",
       "      <td>105.0</td>\n",
       "      <td>124.04</td>\n",
       "      <td>2</td>\n",
       "      <td>2</td>\n",
       "      <td>100.0</td>\n",
       "      <td>303</td>\n",
       "      <td>303</td>\n",
       "      <td>100.0</td>\n",
       "      <td>1.210501e+10</td>\n",
       "    </tr>\n",
       "  </tbody>\n",
       "</table>\n",
       "</div>"
      ],
      "text/plain": [
       "   State_Code  County_Code  Census_Tract_Number  NUM_ALL  NUM_FHA  \\\n",
       "0         8.0         75.0                  NaN        1        1   \n",
       "1        28.0         49.0               103.01        1        1   \n",
       "2        40.0          3.0                  NaN        1        1   \n",
       "3        39.0        113.0               603.00        3        3   \n",
       "4        12.0        105.0               124.04        2        2   \n",
       "\n",
       "   PCT_NUM_FHA  AMT_ALL  AMT_FHA  PCT_AMT_FHA         GEOID  \n",
       "0        100.0      258      258        100.0           NaN  \n",
       "1        100.0       71       71        100.0  2.804901e+10  \n",
       "2        100.0      215      215        100.0           NaN  \n",
       "3        100.0      206      206        100.0  3.911306e+10  \n",
       "4        100.0      303      303        100.0  1.210501e+10  "
      ]
     },
     "execution_count": 26,
     "metadata": {},
     "output_type": "execute_result"
    }
   ],
   "source": [
    "df['GEOID'] = df['Census_Tract_Number']*100 + 10**6 * df['County_Code'] + 10**9 * df['State_Code']   \n",
    "df.head()"
   ]
  },
  {
   "cell_type": "markdown",
   "metadata": {},
   "source": [
    "Si queremos eliminar una columna:"
   ]
  },
  {
   "cell_type": "code",
   "execution_count": 28,
   "metadata": {
    "scrolled": true
   },
   "outputs": [
    {
     "data": {
      "text/html": [
       "<div>\n",
       "<table border=\"1\" class=\"dataframe\">\n",
       "  <thead>\n",
       "    <tr style=\"text-align: right;\">\n",
       "      <th></th>\n",
       "      <th>State_Code</th>\n",
       "      <th>County_Code</th>\n",
       "      <th>Census_Tract_Number</th>\n",
       "      <th>NUM_ALL</th>\n",
       "      <th>NUM_FHA</th>\n",
       "      <th>PCT_NUM_FHA</th>\n",
       "      <th>AMT_ALL</th>\n",
       "      <th>AMT_FHA</th>\n",
       "      <th>PCT_AMT_FHA</th>\n",
       "    </tr>\n",
       "  </thead>\n",
       "  <tbody>\n",
       "    <tr>\n",
       "      <th>0</th>\n",
       "      <td>8.0</td>\n",
       "      <td>75.0</td>\n",
       "      <td>NaN</td>\n",
       "      <td>1</td>\n",
       "      <td>1</td>\n",
       "      <td>100.0</td>\n",
       "      <td>258</td>\n",
       "      <td>258</td>\n",
       "      <td>100.0</td>\n",
       "    </tr>\n",
       "    <tr>\n",
       "      <th>1</th>\n",
       "      <td>28.0</td>\n",
       "      <td>49.0</td>\n",
       "      <td>103.01</td>\n",
       "      <td>1</td>\n",
       "      <td>1</td>\n",
       "      <td>100.0</td>\n",
       "      <td>71</td>\n",
       "      <td>71</td>\n",
       "      <td>100.0</td>\n",
       "    </tr>\n",
       "    <tr>\n",
       "      <th>2</th>\n",
       "      <td>40.0</td>\n",
       "      <td>3.0</td>\n",
       "      <td>NaN</td>\n",
       "      <td>1</td>\n",
       "      <td>1</td>\n",
       "      <td>100.0</td>\n",
       "      <td>215</td>\n",
       "      <td>215</td>\n",
       "      <td>100.0</td>\n",
       "    </tr>\n",
       "    <tr>\n",
       "      <th>3</th>\n",
       "      <td>39.0</td>\n",
       "      <td>113.0</td>\n",
       "      <td>603.00</td>\n",
       "      <td>3</td>\n",
       "      <td>3</td>\n",
       "      <td>100.0</td>\n",
       "      <td>206</td>\n",
       "      <td>206</td>\n",
       "      <td>100.0</td>\n",
       "    </tr>\n",
       "    <tr>\n",
       "      <th>4</th>\n",
       "      <td>12.0</td>\n",
       "      <td>105.0</td>\n",
       "      <td>124.04</td>\n",
       "      <td>2</td>\n",
       "      <td>2</td>\n",
       "      <td>100.0</td>\n",
       "      <td>303</td>\n",
       "      <td>303</td>\n",
       "      <td>100.0</td>\n",
       "    </tr>\n",
       "  </tbody>\n",
       "</table>\n",
       "</div>"
      ],
      "text/plain": [
       "   State_Code  County_Code  Census_Tract_Number  NUM_ALL  NUM_FHA  \\\n",
       "0         8.0         75.0                  NaN        1        1   \n",
       "1        28.0         49.0               103.01        1        1   \n",
       "2        40.0          3.0                  NaN        1        1   \n",
       "3        39.0        113.0               603.00        3        3   \n",
       "4        12.0        105.0               124.04        2        2   \n",
       "\n",
       "   PCT_NUM_FHA  AMT_ALL  AMT_FHA  PCT_AMT_FHA  \n",
       "0        100.0      258      258        100.0  \n",
       "1        100.0       71       71        100.0  \n",
       "2        100.0      215      215        100.0  \n",
       "3        100.0      206      206        100.0  \n",
       "4        100.0      303      303        100.0  "
      ]
     },
     "execution_count": 28,
     "metadata": {},
     "output_type": "execute_result"
    }
   ],
   "source": [
    "column_to_drop = 'GEOID'\n",
    "df.drop(column_to_drop, axis = 1).head()"
   ]
  },
  {
   "cell_type": "markdown",
   "metadata": {},
   "source": [
    "La mayoría de las operaciones producen copias (a menos que se especifique `inplace = True`). El objeto `df` todavía tiene la columna GEOID."
   ]
  },
  {
   "cell_type": "code",
   "execution_count": 30,
   "metadata": {},
   "outputs": [
    {
     "data": {
      "text/plain": [
       "True"
      ]
     },
     "execution_count": 30,
     "metadata": {},
     "output_type": "execute_result"
    }
   ],
   "source": [
    "# miramos si la columna aún esta en el dataframe\n",
    "column_to_drop in df.columns"
   ]
  },
  {
   "cell_type": "code",
   "execution_count": null,
   "metadata": {},
   "outputs": [],
   "source": [
    "# Usar inplace=True no es recomendable, es mejor asignar el nuevo dataframe a una nueva variable.\n",
    "\n",
    "df_new = df.drop(column_to_drop, axis = 1)\n",
    "\n",
    "print(column_to_drop in df.columns)\n",
    "\n",
    "print(column_to_drop in df_new.columns)"
   ]
  },
  {
   "cell_type": "markdown",
   "metadata": {},
   "source": [
    "Las filas también se pueden eliminar. Los índices no se reinician. El índice está asociado con la fila, no con el orden."
   ]
  },
  {
   "cell_type": "code",
   "execution_count": null,
   "metadata": {},
   "outputs": [],
   "source": [
    "df.drop(0, axis=0).head()"
   ]
  },
  {
   "cell_type": "markdown",
   "metadata": {},
   "source": [
    "Por defecto, las filas están indexadas por su posición. Sin embargo, cualquier columna se puede convertir en un índice:"
   ]
  },
  {
   "cell_type": "code",
   "execution_count": 68,
   "metadata": {},
   "outputs": [
    {
     "data": {
      "text/html": [
       "<div>\n",
       "<table border=\"1\" class=\"dataframe\">\n",
       "  <thead>\n",
       "    <tr style=\"text-align: right;\">\n",
       "      <th></th>\n",
       "      <th>County_Code</th>\n",
       "      <th>Census_Tract_Number</th>\n",
       "      <th>NUM_ALL</th>\n",
       "      <th>NUM_FHA</th>\n",
       "      <th>PCT_NUM_FHA</th>\n",
       "      <th>AMT_ALL</th>\n",
       "      <th>AMT_FHA</th>\n",
       "      <th>PCT_AMT_FHA</th>\n",
       "      <th>GEOID</th>\n",
       "    </tr>\n",
       "    <tr>\n",
       "      <th>State_Code</th>\n",
       "      <th></th>\n",
       "      <th></th>\n",
       "      <th></th>\n",
       "      <th></th>\n",
       "      <th></th>\n",
       "      <th></th>\n",
       "      <th></th>\n",
       "      <th></th>\n",
       "      <th></th>\n",
       "    </tr>\n",
       "  </thead>\n",
       "  <tbody>\n",
       "    <tr>\n",
       "      <th>8.0</th>\n",
       "      <td>75.0</td>\n",
       "      <td>NaN</td>\n",
       "      <td>1</td>\n",
       "      <td>1</td>\n",
       "      <td>100.0</td>\n",
       "      <td>258</td>\n",
       "      <td>258</td>\n",
       "      <td>100.0</td>\n",
       "      <td>NaN</td>\n",
       "    </tr>\n",
       "    <tr>\n",
       "      <th>28.0</th>\n",
       "      <td>49.0</td>\n",
       "      <td>103.01</td>\n",
       "      <td>1</td>\n",
       "      <td>1</td>\n",
       "      <td>100.0</td>\n",
       "      <td>71</td>\n",
       "      <td>71</td>\n",
       "      <td>100.0</td>\n",
       "      <td>2.804901e+10</td>\n",
       "    </tr>\n",
       "    <tr>\n",
       "      <th>40.0</th>\n",
       "      <td>3.0</td>\n",
       "      <td>NaN</td>\n",
       "      <td>1</td>\n",
       "      <td>1</td>\n",
       "      <td>100.0</td>\n",
       "      <td>215</td>\n",
       "      <td>215</td>\n",
       "      <td>100.0</td>\n",
       "      <td>NaN</td>\n",
       "    </tr>\n",
       "    <tr>\n",
       "      <th>39.0</th>\n",
       "      <td>113.0</td>\n",
       "      <td>603.00</td>\n",
       "      <td>3</td>\n",
       "      <td>3</td>\n",
       "      <td>100.0</td>\n",
       "      <td>206</td>\n",
       "      <td>206</td>\n",
       "      <td>100.0</td>\n",
       "      <td>3.911306e+10</td>\n",
       "    </tr>\n",
       "    <tr>\n",
       "      <th>12.0</th>\n",
       "      <td>105.0</td>\n",
       "      <td>124.04</td>\n",
       "      <td>2</td>\n",
       "      <td>2</td>\n",
       "      <td>100.0</td>\n",
       "      <td>303</td>\n",
       "      <td>303</td>\n",
       "      <td>100.0</td>\n",
       "      <td>1.210501e+10</td>\n",
       "    </tr>\n",
       "  </tbody>\n",
       "</table>\n",
       "</div>"
      ],
      "text/plain": [
       "            County_Code  Census_Tract_Number  NUM_ALL  NUM_FHA  PCT_NUM_FHA  \\\n",
       "State_Code                                                                    \n",
       "8.0                75.0                  NaN        1        1        100.0   \n",
       "28.0               49.0               103.01        1        1        100.0   \n",
       "40.0                3.0                  NaN        1        1        100.0   \n",
       "39.0              113.0               603.00        3        3        100.0   \n",
       "12.0              105.0               124.04        2        2        100.0   \n",
       "\n",
       "            AMT_ALL  AMT_FHA  PCT_AMT_FHA         GEOID  \n",
       "State_Code                                               \n",
       "8.0             258      258        100.0           NaN  \n",
       "28.0             71       71        100.0  2.804901e+10  \n",
       "40.0            215      215        100.0           NaN  \n",
       "39.0            206      206        100.0  3.911306e+10  \n",
       "12.0            303      303        100.0  1.210501e+10  "
      ]
     },
     "execution_count": 68,
     "metadata": {},
     "output_type": "execute_result"
    }
   ],
   "source": [
    "df.set_index('State_Code').head()"
   ]
  },
  {
   "cell_type": "markdown",
   "metadata": {},
   "source": [
    "Podemos indexar a multiples niveles:"
   ]
  },
  {
   "cell_type": "code",
   "execution_count": 78,
   "metadata": {
    "scrolled": true
   },
   "outputs": [
    {
     "data": {
      "text/html": [
       "<div>\n",
       "<table border=\"1\" class=\"dataframe\">\n",
       "  <thead>\n",
       "    <tr style=\"text-align: right;\">\n",
       "      <th></th>\n",
       "      <th></th>\n",
       "      <th>Census_Tract_Number</th>\n",
       "      <th>NUM_ALL</th>\n",
       "      <th>NUM_FHA</th>\n",
       "      <th>PCT_NUM_FHA</th>\n",
       "      <th>AMT_ALL</th>\n",
       "      <th>AMT_FHA</th>\n",
       "      <th>PCT_AMT_FHA</th>\n",
       "      <th>GEOID</th>\n",
       "    </tr>\n",
       "    <tr>\n",
       "      <th>State_Code</th>\n",
       "      <th>County_Code</th>\n",
       "      <th></th>\n",
       "      <th></th>\n",
       "      <th></th>\n",
       "      <th></th>\n",
       "      <th></th>\n",
       "      <th></th>\n",
       "      <th></th>\n",
       "      <th></th>\n",
       "    </tr>\n",
       "  </thead>\n",
       "  <tbody>\n",
       "    <tr>\n",
       "      <th>8.0</th>\n",
       "      <th>75.0</th>\n",
       "      <td>NaN</td>\n",
       "      <td>1</td>\n",
       "      <td>1</td>\n",
       "      <td>100.0</td>\n",
       "      <td>258</td>\n",
       "      <td>258</td>\n",
       "      <td>100.0</td>\n",
       "      <td>NaN</td>\n",
       "    </tr>\n",
       "    <tr>\n",
       "      <th>28.0</th>\n",
       "      <th>49.0</th>\n",
       "      <td>103.01</td>\n",
       "      <td>1</td>\n",
       "      <td>1</td>\n",
       "      <td>100.0</td>\n",
       "      <td>71</td>\n",
       "      <td>71</td>\n",
       "      <td>100.0</td>\n",
       "      <td>2.804901e+10</td>\n",
       "    </tr>\n",
       "    <tr>\n",
       "      <th>40.0</th>\n",
       "      <th>3.0</th>\n",
       "      <td>NaN</td>\n",
       "      <td>1</td>\n",
       "      <td>1</td>\n",
       "      <td>100.0</td>\n",
       "      <td>215</td>\n",
       "      <td>215</td>\n",
       "      <td>100.0</td>\n",
       "      <td>NaN</td>\n",
       "    </tr>\n",
       "    <tr>\n",
       "      <th>39.0</th>\n",
       "      <th>113.0</th>\n",
       "      <td>603.00</td>\n",
       "      <td>3</td>\n",
       "      <td>3</td>\n",
       "      <td>100.0</td>\n",
       "      <td>206</td>\n",
       "      <td>206</td>\n",
       "      <td>100.0</td>\n",
       "      <td>3.911306e+10</td>\n",
       "    </tr>\n",
       "    <tr>\n",
       "      <th rowspan=\"2\" valign=\"top\">12.0</th>\n",
       "      <th>105.0</th>\n",
       "      <td>124.04</td>\n",
       "      <td>2</td>\n",
       "      <td>2</td>\n",
       "      <td>100.0</td>\n",
       "      <td>303</td>\n",
       "      <td>303</td>\n",
       "      <td>100.0</td>\n",
       "      <td>1.210501e+10</td>\n",
       "    </tr>\n",
       "    <tr>\n",
       "      <th>86.0</th>\n",
       "      <td>9808.00</td>\n",
       "      <td>1</td>\n",
       "      <td>1</td>\n",
       "      <td>100.0</td>\n",
       "      <td>188</td>\n",
       "      <td>188</td>\n",
       "      <td>100.0</td>\n",
       "      <td>1.208698e+10</td>\n",
       "    </tr>\n",
       "    <tr>\n",
       "      <th>39.0</th>\n",
       "      <th>35.0</th>\n",
       "      <td>1202.00</td>\n",
       "      <td>1</td>\n",
       "      <td>1</td>\n",
       "      <td>100.0</td>\n",
       "      <td>19</td>\n",
       "      <td>19</td>\n",
       "      <td>100.0</td>\n",
       "      <td>3.903512e+10</td>\n",
       "    </tr>\n",
       "    <tr>\n",
       "      <th>12.0</th>\n",
       "      <th>103.0</th>\n",
       "      <td>207.00</td>\n",
       "      <td>2</td>\n",
       "      <td>2</td>\n",
       "      <td>100.0</td>\n",
       "      <td>100</td>\n",
       "      <td>100</td>\n",
       "      <td>100.0</td>\n",
       "      <td>1.210302e+10</td>\n",
       "    </tr>\n",
       "    <tr>\n",
       "      <th>36.0</th>\n",
       "      <th>119.0</th>\n",
       "      <td>30.00</td>\n",
       "      <td>1</td>\n",
       "      <td>1</td>\n",
       "      <td>100.0</td>\n",
       "      <td>354</td>\n",
       "      <td>354</td>\n",
       "      <td>100.0</td>\n",
       "      <td>3.611900e+10</td>\n",
       "    </tr>\n",
       "    <tr>\n",
       "      <th>39.0</th>\n",
       "      <th>153.0</th>\n",
       "      <td>NaN</td>\n",
       "      <td>1</td>\n",
       "      <td>1</td>\n",
       "      <td>100.0</td>\n",
       "      <td>213</td>\n",
       "      <td>213</td>\n",
       "      <td>100.0</td>\n",
       "      <td>NaN</td>\n",
       "    </tr>\n",
       "  </tbody>\n",
       "</table>\n",
       "</div>"
      ],
      "text/plain": [
       "                        Census_Tract_Number  NUM_ALL  NUM_FHA  PCT_NUM_FHA  \\\n",
       "State_Code County_Code                                                       \n",
       "8.0        75.0                         NaN        1        1        100.0   \n",
       "28.0       49.0                      103.01        1        1        100.0   \n",
       "40.0       3.0                          NaN        1        1        100.0   \n",
       "39.0       113.0                     603.00        3        3        100.0   \n",
       "12.0       105.0                     124.04        2        2        100.0   \n",
       "           86.0                     9808.00        1        1        100.0   \n",
       "39.0       35.0                     1202.00        1        1        100.0   \n",
       "12.0       103.0                     207.00        2        2        100.0   \n",
       "36.0       119.0                      30.00        1        1        100.0   \n",
       "39.0       153.0                        NaN        1        1        100.0   \n",
       "\n",
       "                        AMT_ALL  AMT_FHA  PCT_AMT_FHA         GEOID  \n",
       "State_Code County_Code                                               \n",
       "8.0        75.0             258      258        100.0           NaN  \n",
       "28.0       49.0              71       71        100.0  2.804901e+10  \n",
       "40.0       3.0              215      215        100.0           NaN  \n",
       "39.0       113.0            206      206        100.0  3.911306e+10  \n",
       "12.0       105.0            303      303        100.0  1.210501e+10  \n",
       "           86.0             188      188        100.0  1.208698e+10  \n",
       "39.0       35.0              19       19        100.0  3.903512e+10  \n",
       "12.0       103.0            100      100        100.0  1.210302e+10  \n",
       "36.0       119.0            354      354        100.0  3.611900e+10  \n",
       "39.0       153.0            213      213        100.0           NaN  "
      ]
     },
     "execution_count": 78,
     "metadata": {},
     "output_type": "execute_result"
    }
   ],
   "source": [
    "df.set_index(['State_Code', 'County_Code']).head(10)"
   ]
  },
  {
   "cell_type": "markdown",
   "metadata": {},
   "source": [
    "Y podemos volver atrás:"
   ]
  },
  {
   "cell_type": "code",
   "execution_count": null,
   "metadata": {},
   "outputs": [],
   "source": [
    "df.set_index('State_Code').reset_index().head()"
   ]
  },
  {
   "cell_type": "code",
   "execution_count": 33,
   "metadata": {},
   "outputs": [
    {
     "name": "stdout",
     "output_type": "stream",
     "text": [
      "Percentage of mortages in each census tract insured by FHA\n"
     ]
    },
    {
     "data": {
      "text/plain": [
       "count    72035.000000\n",
       "mean        29.703179\n",
       "std         24.037779\n",
       "min          0.000000\n",
       "25%         10.780800\n",
       "50%         24.753900\n",
       "75%         44.207550\n",
       "max        100.000000\n",
       "Name: PCT_AMT_FHA, dtype: float64"
      ]
     },
     "execution_count": 33,
     "metadata": {},
     "output_type": "execute_result"
    }
   ],
   "source": [
    "# Podemos describir una columna\n",
    "print(\"Percentage of mortages in each census tract insured by FHA\")\n",
    "df['PCT_AMT_FHA'].describe()"
   ]
  },
  {
   "cell_type": "code",
   "execution_count": 34,
   "metadata": {},
   "outputs": [
    {
     "name": "stderr",
     "output_type": "stream",
     "text": [
      "/home/biel/anaconda3/lib/python3.5/site-packages/numpy/lib/function_base.py:4269: RuntimeWarning: Invalid value encountered in percentile\n",
      "  interpolation=interpolation)\n"
     ]
    },
    {
     "data": {
      "text/html": [
       "<div>\n",
       "<table border=\"1\" class=\"dataframe\">\n",
       "  <thead>\n",
       "    <tr style=\"text-align: right;\">\n",
       "      <th></th>\n",
       "      <th>State_Code</th>\n",
       "      <th>County_Code</th>\n",
       "      <th>Census_Tract_Number</th>\n",
       "      <th>NUM_ALL</th>\n",
       "      <th>NUM_FHA</th>\n",
       "      <th>PCT_NUM_FHA</th>\n",
       "      <th>AMT_ALL</th>\n",
       "      <th>AMT_FHA</th>\n",
       "      <th>PCT_AMT_FHA</th>\n",
       "      <th>GEOID</th>\n",
       "    </tr>\n",
       "  </thead>\n",
       "  <tbody>\n",
       "    <tr>\n",
       "      <th>count</th>\n",
       "      <td>72034.000000</td>\n",
       "      <td>71984.000000</td>\n",
       "      <td>71040.000000</td>\n",
       "      <td>72035.000000</td>\n",
       "      <td>72035.000000</td>\n",
       "      <td>72035.000000</td>\n",
       "      <td>7.203500e+04</td>\n",
       "      <td>72035.000000</td>\n",
       "      <td>72035.000000</td>\n",
       "      <td>7.104000e+04</td>\n",
       "    </tr>\n",
       "    <tr>\n",
       "      <th>mean</th>\n",
       "      <td>28.322528</td>\n",
       "      <td>85.612636</td>\n",
       "      <td>2534.598023</td>\n",
       "      <td>36.970389</td>\n",
       "      <td>9.741667</td>\n",
       "      <td>28.566878</td>\n",
       "      <td>7.886092e+03</td>\n",
       "      <td>1689.278851</td>\n",
       "      <td>29.703179</td>\n",
       "      <td>2.837319e+10</td>\n",
       "    </tr>\n",
       "    <tr>\n",
       "      <th>std</th>\n",
       "      <td>16.459507</td>\n",
       "      <td>98.672445</td>\n",
       "      <td>3451.173223</td>\n",
       "      <td>53.975403</td>\n",
       "      <td>15.187832</td>\n",
       "      <td>22.404545</td>\n",
       "      <td>1.302542e+04</td>\n",
       "      <td>2800.346300</td>\n",
       "      <td>24.037779</td>\n",
       "      <td>1.648784e+10</td>\n",
       "    </tr>\n",
       "    <tr>\n",
       "      <th>min</th>\n",
       "      <td>1.000000</td>\n",
       "      <td>1.000000</td>\n",
       "      <td>1.000000</td>\n",
       "      <td>1.000000</td>\n",
       "      <td>0.000000</td>\n",
       "      <td>0.000000</td>\n",
       "      <td>2.000000e+00</td>\n",
       "      <td>0.000000</td>\n",
       "      <td>0.000000</td>\n",
       "      <td>1.001020e+09</td>\n",
       "    </tr>\n",
       "    <tr>\n",
       "      <th>25%</th>\n",
       "      <td>NaN</td>\n",
       "      <td>NaN</td>\n",
       "      <td>NaN</td>\n",
       "      <td>13.000000</td>\n",
       "      <td>2.000000</td>\n",
       "      <td>11.111100</td>\n",
       "      <td>1.551000e+03</td>\n",
       "      <td>281.000000</td>\n",
       "      <td>10.780800</td>\n",
       "      <td>NaN</td>\n",
       "    </tr>\n",
       "    <tr>\n",
       "      <th>50%</th>\n",
       "      <td>NaN</td>\n",
       "      <td>NaN</td>\n",
       "      <td>NaN</td>\n",
       "      <td>27.000000</td>\n",
       "      <td>6.000000</td>\n",
       "      <td>25.000000</td>\n",
       "      <td>4.168000e+03</td>\n",
       "      <td>932.000000</td>\n",
       "      <td>24.753900</td>\n",
       "      <td>NaN</td>\n",
       "    </tr>\n",
       "    <tr>\n",
       "      <th>75%</th>\n",
       "      <td>NaN</td>\n",
       "      <td>NaN</td>\n",
       "      <td>NaN</td>\n",
       "      <td>48.000000</td>\n",
       "      <td>13.000000</td>\n",
       "      <td>41.935500</td>\n",
       "      <td>9.668000e+03</td>\n",
       "      <td>2197.000000</td>\n",
       "      <td>44.207550</td>\n",
       "      <td>NaN</td>\n",
       "    </tr>\n",
       "    <tr>\n",
       "      <th>max</th>\n",
       "      <td>72.000000</td>\n",
       "      <td>840.000000</td>\n",
       "      <td>9922.010000</td>\n",
       "      <td>9477.000000</td>\n",
       "      <td>1932.000000</td>\n",
       "      <td>100.000000</td>\n",
       "      <td>1.575871e+06</td>\n",
       "      <td>331515.000000</td>\n",
       "      <td>100.000000</td>\n",
       "      <td>7.215375e+10</td>\n",
       "    </tr>\n",
       "  </tbody>\n",
       "</table>\n",
       "</div>"
      ],
      "text/plain": [
       "         State_Code   County_Code  Census_Tract_Number       NUM_ALL  \\\n",
       "count  72034.000000  71984.000000         71040.000000  72035.000000   \n",
       "mean      28.322528     85.612636          2534.598023     36.970389   \n",
       "std       16.459507     98.672445          3451.173223     53.975403   \n",
       "min        1.000000      1.000000             1.000000      1.000000   \n",
       "25%             NaN           NaN                  NaN     13.000000   \n",
       "50%             NaN           NaN                  NaN     27.000000   \n",
       "75%             NaN           NaN                  NaN     48.000000   \n",
       "max       72.000000    840.000000          9922.010000   9477.000000   \n",
       "\n",
       "            NUM_FHA   PCT_NUM_FHA       AMT_ALL        AMT_FHA   PCT_AMT_FHA  \\\n",
       "count  72035.000000  72035.000000  7.203500e+04   72035.000000  72035.000000   \n",
       "mean       9.741667     28.566878  7.886092e+03    1689.278851     29.703179   \n",
       "std       15.187832     22.404545  1.302542e+04    2800.346300     24.037779   \n",
       "min        0.000000      0.000000  2.000000e+00       0.000000      0.000000   \n",
       "25%        2.000000     11.111100  1.551000e+03     281.000000     10.780800   \n",
       "50%        6.000000     25.000000  4.168000e+03     932.000000     24.753900   \n",
       "75%       13.000000     41.935500  9.668000e+03    2197.000000     44.207550   \n",
       "max     1932.000000    100.000000  1.575871e+06  331515.000000    100.000000   \n",
       "\n",
       "              GEOID  \n",
       "count  7.104000e+04  \n",
       "mean   2.837319e+10  \n",
       "std    1.648784e+10  \n",
       "min    1.001020e+09  \n",
       "25%             NaN  \n",
       "50%             NaN  \n",
       "75%             NaN  \n",
       "max    7.215375e+10  "
      ]
     },
     "execution_count": 34,
     "metadata": {},
     "output_type": "execute_result"
    }
   ],
   "source": [
    "# O el dataframe entero\n",
    "df.describe()"
   ]
  },
  {
   "cell_type": "code",
   "execution_count": null,
   "metadata": {
    "collapsed": true
   },
   "outputs": [],
   "source": [
    "%matplotlib inline"
   ]
  },
  {
   "cell_type": "code",
   "execution_count": null,
   "metadata": {},
   "outputs": [],
   "source": [
    "# Dibujar el histograma de una columna.\n",
    "df['PCT_AMT_FHA'].plot(kind='hist', bins=100); #Probad a poner y quitar el ;"
   ]
  },
  {
   "cell_type": "markdown",
   "metadata": {},
   "source": [
    "La distribución anterior parece sesgada, así que veamos su logaritmo."
   ]
  },
  {
   "cell_type": "code",
   "execution_count": null,
   "metadata": {},
   "outputs": [],
   "source": [
    "df['LOG_AMT_ALL'] = np.log1p(df['AMT_ALL'])  # Creamos una nueva columna\n",
    "print(df['LOG_AMT_ALL'].describe())\n",
    "\n",
    "df['AMT_ALL'].apply(np.log1p).hist(bins=500);  # Or apply a function to each element"
   ]
  },
  {
   "cell_type": "markdown",
   "metadata": {},
   "source": [
    "## Indexando un dataframe\n",
    "\n",
    "Indexar por un nombre de columna produce una serie de datos."
   ]
  },
  {
   "cell_type": "code",
   "execution_count": 51,
   "metadata": {},
   "outputs": [
    {
     "data": {
      "text/plain": [
       "0     8.0\n",
       "1    28.0\n",
       "2    40.0\n",
       "3    39.0\n",
       "4    12.0\n",
       "Name: State_Code, dtype: float64"
      ]
     },
     "execution_count": 51,
     "metadata": {},
     "output_type": "execute_result"
    }
   ],
   "source": [
    "df['State_Code'].head()"
   ]
  },
  {
   "cell_type": "markdown",
   "metadata": {},
   "source": [
    "Indexar por una lista de nombres de columna da otro dataframe."
   ]
  },
  {
   "cell_type": "code",
   "execution_count": 53,
   "metadata": {},
   "outputs": [
    {
     "data": {
      "text/html": [
       "<div>\n",
       "<table border=\"1\" class=\"dataframe\">\n",
       "  <thead>\n",
       "    <tr style=\"text-align: right;\">\n",
       "      <th></th>\n",
       "      <th>State_Code</th>\n",
       "      <th>County_Code</th>\n",
       "    </tr>\n",
       "  </thead>\n",
       "  <tbody>\n",
       "    <tr>\n",
       "      <th>0</th>\n",
       "      <td>8.0</td>\n",
       "      <td>75.0</td>\n",
       "    </tr>\n",
       "    <tr>\n",
       "      <th>1</th>\n",
       "      <td>28.0</td>\n",
       "      <td>49.0</td>\n",
       "    </tr>\n",
       "    <tr>\n",
       "      <th>2</th>\n",
       "      <td>40.0</td>\n",
       "      <td>3.0</td>\n",
       "    </tr>\n",
       "    <tr>\n",
       "      <th>3</th>\n",
       "      <td>39.0</td>\n",
       "      <td>113.0</td>\n",
       "    </tr>\n",
       "    <tr>\n",
       "      <th>4</th>\n",
       "      <td>12.0</td>\n",
       "      <td>105.0</td>\n",
       "    </tr>\n",
       "  </tbody>\n",
       "</table>\n",
       "</div>"
      ],
      "text/plain": [
       "   State_Code  County_Code\n",
       "0         8.0         75.0\n",
       "1        28.0         49.0\n",
       "2        40.0          3.0\n",
       "3        39.0        113.0\n",
       "4        12.0        105.0"
      ]
     },
     "execution_count": 53,
     "metadata": {},
     "output_type": "execute_result"
    }
   ],
   "source": [
    "df[['State_Code', 'County_Code']].head()"
   ]
  },
  {
   "cell_type": "markdown",
   "metadata": {},
   "source": [
    "**Pregunta:** Que nos devolverá?"
   ]
  },
  {
   "cell_type": "code",
   "execution_count": 54,
   "metadata": {},
   "outputs": [
    {
     "data": {
      "text/plain": [
       "pandas.core.frame.DataFrame"
      ]
     },
     "execution_count": 54,
     "metadata": {},
     "output_type": "execute_result"
    }
   ],
   "source": [
    "type(df[['State_Code']])"
   ]
  },
  {
   "cell_type": "code",
   "execution_count": 36,
   "metadata": {},
   "outputs": [
    {
     "data": {
      "text/html": [
       "<div>\n",
       "<table border=\"1\" class=\"dataframe\">\n",
       "  <thead>\n",
       "    <tr style=\"text-align: right;\">\n",
       "      <th></th>\n",
       "      <th>State_Code</th>\n",
       "    </tr>\n",
       "  </thead>\n",
       "  <tbody>\n",
       "    <tr>\n",
       "      <th>0</th>\n",
       "      <td>8.0</td>\n",
       "    </tr>\n",
       "    <tr>\n",
       "      <th>1</th>\n",
       "      <td>28.0</td>\n",
       "    </tr>\n",
       "    <tr>\n",
       "      <th>2</th>\n",
       "      <td>40.0</td>\n",
       "    </tr>\n",
       "    <tr>\n",
       "      <th>3</th>\n",
       "      <td>39.0</td>\n",
       "    </tr>\n",
       "    <tr>\n",
       "      <th>4</th>\n",
       "      <td>12.0</td>\n",
       "    </tr>\n",
       "  </tbody>\n",
       "</table>\n",
       "</div>"
      ],
      "text/plain": [
       "   State_Code\n",
       "0         8.0\n",
       "1        28.0\n",
       "2        40.0\n",
       "3        39.0\n",
       "4        12.0"
      ]
     },
     "execution_count": 36,
     "metadata": {},
     "output_type": "execute_result"
    }
   ],
   "source": [
    "df[['State_Code']].head()"
   ]
  },
  {
   "cell_type": "markdown",
   "metadata": {},
   "source": [
    "Un dataframe es un iterador que nos devuelve el nombre de las columnas"
   ]
  },
  {
   "cell_type": "code",
   "execution_count": 77,
   "metadata": {},
   "outputs": [
    {
     "name": "stdout",
     "output_type": "stream",
     "text": [
      "State_Code\n",
      "County_Code\n",
      "Census_Tract_Number\n",
      "NUM_ALL\n",
      "NUM_FHA\n",
      "PCT_NUM_FHA\n",
      "AMT_ALL\n",
      "AMT_FHA\n",
      "PCT_AMT_FHA\n",
      "GEOID\n"
     ]
    },
    {
     "data": {
      "text/plain": [
       "['State_Code',\n",
       " 'County_Code',\n",
       " 'Census_Tract_Number',\n",
       " 'NUM_ALL',\n",
       " 'NUM_FHA',\n",
       " 'PCT_NUM_FHA',\n",
       " 'AMT_ALL',\n",
       " 'AMT_FHA',\n",
       " 'PCT_AMT_FHA',\n",
       " 'GEOID']"
      ]
     },
     "execution_count": 77,
     "metadata": {},
     "output_type": "execute_result"
    }
   ],
   "source": [
    "for col in df:\n",
    "    print(col)\n",
    "\n",
    "# De forma avanzada, generamos una lista de columnas\n",
    "[col for col in df]"
   ]
  },
  {
   "cell_type": "markdown",
   "metadata": {},
   "source": [
    "Hasta ahora hemos visto como seleccionar columnas, pero no hemos visto como seleccionar filas de nuestro conjunto de datos"
   ]
  },
  {
   "cell_type": "code",
   "execution_count": 37,
   "metadata": {},
   "outputs": [
    {
     "data": {
      "text/html": [
       "<div>\n",
       "<table border=\"1\" class=\"dataframe\">\n",
       "  <thead>\n",
       "    <tr style=\"text-align: right;\">\n",
       "      <th></th>\n",
       "      <th>State_Code</th>\n",
       "      <th>County_Code</th>\n",
       "      <th>Census_Tract_Number</th>\n",
       "      <th>NUM_ALL</th>\n",
       "      <th>NUM_FHA</th>\n",
       "      <th>PCT_NUM_FHA</th>\n",
       "      <th>AMT_ALL</th>\n",
       "      <th>AMT_FHA</th>\n",
       "      <th>PCT_AMT_FHA</th>\n",
       "      <th>GEOID</th>\n",
       "    </tr>\n",
       "  </thead>\n",
       "  <tbody>\n",
       "    <tr>\n",
       "      <th>0</th>\n",
       "      <td>8.0</td>\n",
       "      <td>75.0</td>\n",
       "      <td>NaN</td>\n",
       "      <td>1</td>\n",
       "      <td>1</td>\n",
       "      <td>100.0</td>\n",
       "      <td>258</td>\n",
       "      <td>258</td>\n",
       "      <td>100.0</td>\n",
       "      <td>NaN</td>\n",
       "    </tr>\n",
       "    <tr>\n",
       "      <th>1</th>\n",
       "      <td>28.0</td>\n",
       "      <td>49.0</td>\n",
       "      <td>103.01</td>\n",
       "      <td>1</td>\n",
       "      <td>1</td>\n",
       "      <td>100.0</td>\n",
       "      <td>71</td>\n",
       "      <td>71</td>\n",
       "      <td>100.0</td>\n",
       "      <td>2.804901e+10</td>\n",
       "    </tr>\n",
       "    <tr>\n",
       "      <th>2</th>\n",
       "      <td>40.0</td>\n",
       "      <td>3.0</td>\n",
       "      <td>NaN</td>\n",
       "      <td>1</td>\n",
       "      <td>1</td>\n",
       "      <td>100.0</td>\n",
       "      <td>215</td>\n",
       "      <td>215</td>\n",
       "      <td>100.0</td>\n",
       "      <td>NaN</td>\n",
       "    </tr>\n",
       "  </tbody>\n",
       "</table>\n",
       "</div>"
      ],
      "text/plain": [
       "   State_Code  County_Code  Census_Tract_Number  NUM_ALL  NUM_FHA  \\\n",
       "0         8.0         75.0                  NaN        1        1   \n",
       "1        28.0         49.0               103.01        1        1   \n",
       "2        40.0          3.0                  NaN        1        1   \n",
       "\n",
       "   PCT_NUM_FHA  AMT_ALL  AMT_FHA  PCT_AMT_FHA         GEOID  \n",
       "0        100.0      258      258        100.0           NaN  \n",
       "1        100.0       71       71        100.0  2.804901e+10  \n",
       "2        100.0      215      215        100.0           NaN  "
      ]
     },
     "execution_count": 37,
     "metadata": {},
     "output_type": "execute_result"
    }
   ],
   "source": [
    "df[:3]"
   ]
  },
  {
   "cell_type": "markdown",
   "metadata": {},
   "source": [
    "Para indexar un elemento particular del dataframe, usaremos el atributo `.loc`.  Que toma como parámetroíndice y columna."
   ]
  },
  {
   "cell_type": "code",
   "execution_count": 80,
   "metadata": {},
   "outputs": [
    {
     "data": {
      "text/html": [
       "<div>\n",
       "<table border=\"1\" class=\"dataframe\">\n",
       "  <thead>\n",
       "    <tr style=\"text-align: right;\">\n",
       "      <th></th>\n",
       "      <th>County_Code</th>\n",
       "      <th>Census_Tract_Number</th>\n",
       "      <th>NUM_ALL</th>\n",
       "      <th>NUM_FHA</th>\n",
       "      <th>PCT_NUM_FHA</th>\n",
       "      <th>AMT_ALL</th>\n",
       "      <th>AMT_FHA</th>\n",
       "      <th>PCT_AMT_FHA</th>\n",
       "      <th>GEOID</th>\n",
       "    </tr>\n",
       "    <tr>\n",
       "      <th>State_Code</th>\n",
       "      <th></th>\n",
       "      <th></th>\n",
       "      <th></th>\n",
       "      <th></th>\n",
       "      <th></th>\n",
       "      <th></th>\n",
       "      <th></th>\n",
       "      <th></th>\n",
       "      <th></th>\n",
       "    </tr>\n",
       "  </thead>\n",
       "  <tbody>\n",
       "    <tr>\n",
       "      <th>28.0</th>\n",
       "      <td>49.0</td>\n",
       "      <td>103.01</td>\n",
       "      <td>1</td>\n",
       "      <td>1</td>\n",
       "      <td>100.0000</td>\n",
       "      <td>71</td>\n",
       "      <td>71</td>\n",
       "      <td>100.0000</td>\n",
       "      <td>2.804901e+10</td>\n",
       "    </tr>\n",
       "    <tr>\n",
       "      <th>28.0</th>\n",
       "      <td>77.0</td>\n",
       "      <td>NaN</td>\n",
       "      <td>1</td>\n",
       "      <td>1</td>\n",
       "      <td>100.0000</td>\n",
       "      <td>177</td>\n",
       "      <td>177</td>\n",
       "      <td>100.0000</td>\n",
       "      <td>NaN</td>\n",
       "    </tr>\n",
       "    <tr>\n",
       "      <th>28.0</th>\n",
       "      <td>63.0</td>\n",
       "      <td>9502.00</td>\n",
       "      <td>1</td>\n",
       "      <td>1</td>\n",
       "      <td>100.0000</td>\n",
       "      <td>133</td>\n",
       "      <td>133</td>\n",
       "      <td>100.0000</td>\n",
       "      <td>2.806395e+10</td>\n",
       "    </tr>\n",
       "    <tr>\n",
       "      <th>28.0</th>\n",
       "      <td>49.0</td>\n",
       "      <td>25.00</td>\n",
       "      <td>1</td>\n",
       "      <td>1</td>\n",
       "      <td>100.0000</td>\n",
       "      <td>82</td>\n",
       "      <td>82</td>\n",
       "      <td>100.0000</td>\n",
       "      <td>2.804900e+10</td>\n",
       "    </tr>\n",
       "    <tr>\n",
       "      <th>28.0</th>\n",
       "      <td>151.0</td>\n",
       "      <td>12.00</td>\n",
       "      <td>3</td>\n",
       "      <td>3</td>\n",
       "      <td>100.0000</td>\n",
       "      <td>118</td>\n",
       "      <td>118</td>\n",
       "      <td>100.0000</td>\n",
       "      <td>2.815100e+10</td>\n",
       "    </tr>\n",
       "    <tr>\n",
       "      <th>28.0</th>\n",
       "      <td>151.0</td>\n",
       "      <td>21.00</td>\n",
       "      <td>2</td>\n",
       "      <td>2</td>\n",
       "      <td>100.0000</td>\n",
       "      <td>107</td>\n",
       "      <td>107</td>\n",
       "      <td>100.0000</td>\n",
       "      <td>2.815100e+10</td>\n",
       "    </tr>\n",
       "    <tr>\n",
       "      <th>28.0</th>\n",
       "      <td>49.0</td>\n",
       "      <td>22.00</td>\n",
       "      <td>1</td>\n",
       "      <td>1</td>\n",
       "      <td>100.0000</td>\n",
       "      <td>39</td>\n",
       "      <td>39</td>\n",
       "      <td>100.0000</td>\n",
       "      <td>2.804900e+10</td>\n",
       "    </tr>\n",
       "    <tr>\n",
       "      <th>28.0</th>\n",
       "      <td>103.0</td>\n",
       "      <td>9502.00</td>\n",
       "      <td>1</td>\n",
       "      <td>1</td>\n",
       "      <td>100.0000</td>\n",
       "      <td>165</td>\n",
       "      <td>165</td>\n",
       "      <td>100.0000</td>\n",
       "      <td>2.810395e+10</td>\n",
       "    </tr>\n",
       "    <tr>\n",
       "      <th>28.0</th>\n",
       "      <td>49.0</td>\n",
       "      <td>27.00</td>\n",
       "      <td>1</td>\n",
       "      <td>1</td>\n",
       "      <td>100.0000</td>\n",
       "      <td>78</td>\n",
       "      <td>78</td>\n",
       "      <td>100.0000</td>\n",
       "      <td>2.804900e+10</td>\n",
       "    </tr>\n",
       "    <tr>\n",
       "      <th>28.0</th>\n",
       "      <td>151.0</td>\n",
       "      <td>7.01</td>\n",
       "      <td>19</td>\n",
       "      <td>16</td>\n",
       "      <td>84.2105</td>\n",
       "      <td>1365</td>\n",
       "      <td>1244</td>\n",
       "      <td>91.1355</td>\n",
       "      <td>2.815100e+10</td>\n",
       "    </tr>\n",
       "    <tr>\n",
       "      <th>28.0</th>\n",
       "      <td>37.0</td>\n",
       "      <td>9502.00</td>\n",
       "      <td>3</td>\n",
       "      <td>2</td>\n",
       "      <td>66.6667</td>\n",
       "      <td>380</td>\n",
       "      <td>339</td>\n",
       "      <td>89.2105</td>\n",
       "      <td>2.803795e+10</td>\n",
       "    </tr>\n",
       "    <tr>\n",
       "      <th>28.0</th>\n",
       "      <td>49.0</td>\n",
       "      <td>102.01</td>\n",
       "      <td>2</td>\n",
       "      <td>1</td>\n",
       "      <td>50.0000</td>\n",
       "      <td>176</td>\n",
       "      <td>149</td>\n",
       "      <td>84.6591</td>\n",
       "      <td>2.804901e+10</td>\n",
       "    </tr>\n",
       "    <tr>\n",
       "      <th>28.0</th>\n",
       "      <td>87.0</td>\n",
       "      <td>6.00</td>\n",
       "      <td>8</td>\n",
       "      <td>6</td>\n",
       "      <td>75.0000</td>\n",
       "      <td>502</td>\n",
       "      <td>419</td>\n",
       "      <td>83.4661</td>\n",
       "      <td>2.808700e+10</td>\n",
       "    </tr>\n",
       "    <tr>\n",
       "      <th>28.0</th>\n",
       "      <td>49.0</td>\n",
       "      <td>102.03</td>\n",
       "      <td>3</td>\n",
       "      <td>2</td>\n",
       "      <td>66.6667</td>\n",
       "      <td>338</td>\n",
       "      <td>280</td>\n",
       "      <td>82.8402</td>\n",
       "      <td>2.804901e+10</td>\n",
       "    </tr>\n",
       "    <tr>\n",
       "      <th>28.0</th>\n",
       "      <td>49.0</td>\n",
       "      <td>8.00</td>\n",
       "      <td>4</td>\n",
       "      <td>3</td>\n",
       "      <td>75.0000</td>\n",
       "      <td>221</td>\n",
       "      <td>181</td>\n",
       "      <td>81.9005</td>\n",
       "      <td>2.804900e+10</td>\n",
       "    </tr>\n",
       "    <tr>\n",
       "      <th>28.0</th>\n",
       "      <td>49.0</td>\n",
       "      <td>3.02</td>\n",
       "      <td>7</td>\n",
       "      <td>5</td>\n",
       "      <td>71.4286</td>\n",
       "      <td>522</td>\n",
       "      <td>418</td>\n",
       "      <td>80.0766</td>\n",
       "      <td>2.804900e+10</td>\n",
       "    </tr>\n",
       "    <tr>\n",
       "      <th>28.0</th>\n",
       "      <td>49.0</td>\n",
       "      <td>111.01</td>\n",
       "      <td>13</td>\n",
       "      <td>10</td>\n",
       "      <td>76.9231</td>\n",
       "      <td>1152</td>\n",
       "      <td>899</td>\n",
       "      <td>78.0382</td>\n",
       "      <td>2.804901e+10</td>\n",
       "    </tr>\n",
       "    <tr>\n",
       "      <th>28.0</th>\n",
       "      <td>49.0</td>\n",
       "      <td>108.08</td>\n",
       "      <td>15</td>\n",
       "      <td>10</td>\n",
       "      <td>66.6667</td>\n",
       "      <td>1118</td>\n",
       "      <td>865</td>\n",
       "      <td>77.3703</td>\n",
       "      <td>2.804901e+10</td>\n",
       "    </tr>\n",
       "    <tr>\n",
       "      <th>28.0</th>\n",
       "      <td>49.0</td>\n",
       "      <td>101.02</td>\n",
       "      <td>31</td>\n",
       "      <td>25</td>\n",
       "      <td>80.6452</td>\n",
       "      <td>3887</td>\n",
       "      <td>2988</td>\n",
       "      <td>76.8716</td>\n",
       "      <td>2.804901e+10</td>\n",
       "    </tr>\n",
       "    <tr>\n",
       "      <th>28.0</th>\n",
       "      <td>49.0</td>\n",
       "      <td>102.02</td>\n",
       "      <td>22</td>\n",
       "      <td>14</td>\n",
       "      <td>63.6364</td>\n",
       "      <td>2133</td>\n",
       "      <td>1633</td>\n",
       "      <td>76.5588</td>\n",
       "      <td>2.804901e+10</td>\n",
       "    </tr>\n",
       "    <tr>\n",
       "      <th>28.0</th>\n",
       "      <td>49.0</td>\n",
       "      <td>24.00</td>\n",
       "      <td>5</td>\n",
       "      <td>3</td>\n",
       "      <td>60.0000</td>\n",
       "      <td>343</td>\n",
       "      <td>257</td>\n",
       "      <td>74.9271</td>\n",
       "      <td>2.804900e+10</td>\n",
       "    </tr>\n",
       "    <tr>\n",
       "      <th>28.0</th>\n",
       "      <td>33.0</td>\n",
       "      <td>704.11</td>\n",
       "      <td>7</td>\n",
       "      <td>4</td>\n",
       "      <td>57.1429</td>\n",
       "      <td>578</td>\n",
       "      <td>421</td>\n",
       "      <td>72.8374</td>\n",
       "      <td>2.803307e+10</td>\n",
       "    </tr>\n",
       "    <tr>\n",
       "      <th>28.0</th>\n",
       "      <td>21.0</td>\n",
       "      <td>9503.00</td>\n",
       "      <td>4</td>\n",
       "      <td>2</td>\n",
       "      <td>50.0000</td>\n",
       "      <td>463</td>\n",
       "      <td>336</td>\n",
       "      <td>72.5702</td>\n",
       "      <td>2.802195e+10</td>\n",
       "    </tr>\n",
       "    <tr>\n",
       "      <th>28.0</th>\n",
       "      <td>121.0</td>\n",
       "      <td>203.01</td>\n",
       "      <td>25</td>\n",
       "      <td>17</td>\n",
       "      <td>68.0000</td>\n",
       "      <td>2363</td>\n",
       "      <td>1705</td>\n",
       "      <td>72.1540</td>\n",
       "      <td>2.812102e+10</td>\n",
       "    </tr>\n",
       "    <tr>\n",
       "      <th>28.0</th>\n",
       "      <td>47.0</td>\n",
       "      <td>36.00</td>\n",
       "      <td>2</td>\n",
       "      <td>1</td>\n",
       "      <td>50.0000</td>\n",
       "      <td>218</td>\n",
       "      <td>150</td>\n",
       "      <td>68.8073</td>\n",
       "      <td>2.804700e+10</td>\n",
       "    </tr>\n",
       "    <tr>\n",
       "      <th>28.0</th>\n",
       "      <td>33.0</td>\n",
       "      <td>704.21</td>\n",
       "      <td>21</td>\n",
       "      <td>15</td>\n",
       "      <td>71.4286</td>\n",
       "      <td>1965</td>\n",
       "      <td>1340</td>\n",
       "      <td>68.1934</td>\n",
       "      <td>2.803307e+10</td>\n",
       "    </tr>\n",
       "    <tr>\n",
       "      <th>28.0</th>\n",
       "      <td>49.0</td>\n",
       "      <td>110.01</td>\n",
       "      <td>6</td>\n",
       "      <td>2</td>\n",
       "      <td>33.3333</td>\n",
       "      <td>486</td>\n",
       "      <td>326</td>\n",
       "      <td>67.0782</td>\n",
       "      <td>2.804901e+10</td>\n",
       "    </tr>\n",
       "    <tr>\n",
       "      <th>28.0</th>\n",
       "      <td>19.0</td>\n",
       "      <td>9503.00</td>\n",
       "      <td>4</td>\n",
       "      <td>2</td>\n",
       "      <td>50.0000</td>\n",
       "      <td>239</td>\n",
       "      <td>158</td>\n",
       "      <td>66.1088</td>\n",
       "      <td>2.801995e+10</td>\n",
       "    </tr>\n",
       "    <tr>\n",
       "      <th>28.0</th>\n",
       "      <td>121.0</td>\n",
       "      <td>207.04</td>\n",
       "      <td>40</td>\n",
       "      <td>24</td>\n",
       "      <td>60.0000</td>\n",
       "      <td>3644</td>\n",
       "      <td>2399</td>\n",
       "      <td>65.8343</td>\n",
       "      <td>2.812102e+10</td>\n",
       "    </tr>\n",
       "    <tr>\n",
       "      <th>28.0</th>\n",
       "      <td>155.0</td>\n",
       "      <td>9503.00</td>\n",
       "      <td>3</td>\n",
       "      <td>2</td>\n",
       "      <td>66.6667</td>\n",
       "      <td>231</td>\n",
       "      <td>152</td>\n",
       "      <td>65.8009</td>\n",
       "      <td>2.815595e+10</td>\n",
       "    </tr>\n",
       "    <tr>\n",
       "      <th>28.0</th>\n",
       "      <td>33.0</td>\n",
       "      <td>703.23</td>\n",
       "      <td>44</td>\n",
       "      <td>26</td>\n",
       "      <td>59.0909</td>\n",
       "      <td>3244</td>\n",
       "      <td>2131</td>\n",
       "      <td>65.6905</td>\n",
       "      <td>2.803307e+10</td>\n",
       "    </tr>\n",
       "    <tr>\n",
       "      <th>28.0</th>\n",
       "      <td>49.0</td>\n",
       "      <td>108.04</td>\n",
       "      <td>8</td>\n",
       "      <td>6</td>\n",
       "      <td>75.0000</td>\n",
       "      <td>966</td>\n",
       "      <td>629</td>\n",
       "      <td>65.1139</td>\n",
       "      <td>2.804901e+10</td>\n",
       "    </tr>\n",
       "    <tr>\n",
       "      <th>28.0</th>\n",
       "      <td>47.0</td>\n",
       "      <td>26.00</td>\n",
       "      <td>5</td>\n",
       "      <td>3</td>\n",
       "      <td>60.0000</td>\n",
       "      <td>314</td>\n",
       "      <td>204</td>\n",
       "      <td>64.9682</td>\n",
       "      <td>2.804700e+10</td>\n",
       "    </tr>\n",
       "    <tr>\n",
       "      <th>28.0</th>\n",
       "      <td>49.0</td>\n",
       "      <td>103.05</td>\n",
       "      <td>20</td>\n",
       "      <td>12</td>\n",
       "      <td>60.0000</td>\n",
       "      <td>2344</td>\n",
       "      <td>1492</td>\n",
       "      <td>63.6519</td>\n",
       "      <td>2.804901e+10</td>\n",
       "    </tr>\n",
       "    <tr>\n",
       "      <th>28.0</th>\n",
       "      <td>33.0</td>\n",
       "      <td>706.10</td>\n",
       "      <td>14</td>\n",
       "      <td>8</td>\n",
       "      <td>57.1429</td>\n",
       "      <td>1227</td>\n",
       "      <td>779</td>\n",
       "      <td>63.4882</td>\n",
       "      <td>2.803307e+10</td>\n",
       "    </tr>\n",
       "    <tr>\n",
       "      <th>28.0</th>\n",
       "      <td>89.0</td>\n",
       "      <td>301.08</td>\n",
       "      <td>9</td>\n",
       "      <td>4</td>\n",
       "      <td>44.4444</td>\n",
       "      <td>763</td>\n",
       "      <td>469</td>\n",
       "      <td>61.4679</td>\n",
       "      <td>2.808903e+10</td>\n",
       "    </tr>\n",
       "    <tr>\n",
       "      <th>28.0</th>\n",
       "      <td>65.0</td>\n",
       "      <td>NaN</td>\n",
       "      <td>2</td>\n",
       "      <td>1</td>\n",
       "      <td>50.0000</td>\n",
       "      <td>297</td>\n",
       "      <td>182</td>\n",
       "      <td>61.2795</td>\n",
       "      <td>NaN</td>\n",
       "    </tr>\n",
       "    <tr>\n",
       "      <th>28.0</th>\n",
       "      <td>49.0</td>\n",
       "      <td>5.00</td>\n",
       "      <td>9</td>\n",
       "      <td>4</td>\n",
       "      <td>44.4444</td>\n",
       "      <td>395</td>\n",
       "      <td>242</td>\n",
       "      <td>61.2658</td>\n",
       "      <td>2.804900e+10</td>\n",
       "    </tr>\n",
       "    <tr>\n",
       "      <th>28.0</th>\n",
       "      <td>17.0</td>\n",
       "      <td>9501.00</td>\n",
       "      <td>3</td>\n",
       "      <td>2</td>\n",
       "      <td>66.6667</td>\n",
       "      <td>392</td>\n",
       "      <td>240</td>\n",
       "      <td>61.2245</td>\n",
       "      <td>2.801795e+10</td>\n",
       "    </tr>\n",
       "    <tr>\n",
       "      <th>28.0</th>\n",
       "      <td>151.0</td>\n",
       "      <td>8.00</td>\n",
       "      <td>19</td>\n",
       "      <td>10</td>\n",
       "      <td>52.6316</td>\n",
       "      <td>1666</td>\n",
       "      <td>1007</td>\n",
       "      <td>60.4442</td>\n",
       "      <td>2.815100e+10</td>\n",
       "    </tr>\n",
       "  </tbody>\n",
       "</table>\n",
       "</div>"
      ],
      "text/plain": [
       "            County_Code  Census_Tract_Number  NUM_ALL  NUM_FHA  PCT_NUM_FHA  \\\n",
       "State_Code                                                                    \n",
       "28.0               49.0               103.01        1        1     100.0000   \n",
       "28.0               77.0                  NaN        1        1     100.0000   \n",
       "28.0               63.0              9502.00        1        1     100.0000   \n",
       "28.0               49.0                25.00        1        1     100.0000   \n",
       "28.0              151.0                12.00        3        3     100.0000   \n",
       "28.0              151.0                21.00        2        2     100.0000   \n",
       "28.0               49.0                22.00        1        1     100.0000   \n",
       "28.0              103.0              9502.00        1        1     100.0000   \n",
       "28.0               49.0                27.00        1        1     100.0000   \n",
       "28.0              151.0                 7.01       19       16      84.2105   \n",
       "28.0               37.0              9502.00        3        2      66.6667   \n",
       "28.0               49.0               102.01        2        1      50.0000   \n",
       "28.0               87.0                 6.00        8        6      75.0000   \n",
       "28.0               49.0               102.03        3        2      66.6667   \n",
       "28.0               49.0                 8.00        4        3      75.0000   \n",
       "28.0               49.0                 3.02        7        5      71.4286   \n",
       "28.0               49.0               111.01       13       10      76.9231   \n",
       "28.0               49.0               108.08       15       10      66.6667   \n",
       "28.0               49.0               101.02       31       25      80.6452   \n",
       "28.0               49.0               102.02       22       14      63.6364   \n",
       "28.0               49.0                24.00        5        3      60.0000   \n",
       "28.0               33.0               704.11        7        4      57.1429   \n",
       "28.0               21.0              9503.00        4        2      50.0000   \n",
       "28.0              121.0               203.01       25       17      68.0000   \n",
       "28.0               47.0                36.00        2        1      50.0000   \n",
       "28.0               33.0               704.21       21       15      71.4286   \n",
       "28.0               49.0               110.01        6        2      33.3333   \n",
       "28.0               19.0              9503.00        4        2      50.0000   \n",
       "28.0              121.0               207.04       40       24      60.0000   \n",
       "28.0              155.0              9503.00        3        2      66.6667   \n",
       "28.0               33.0               703.23       44       26      59.0909   \n",
       "28.0               49.0               108.04        8        6      75.0000   \n",
       "28.0               47.0                26.00        5        3      60.0000   \n",
       "28.0               49.0               103.05       20       12      60.0000   \n",
       "28.0               33.0               706.10       14        8      57.1429   \n",
       "28.0               89.0               301.08        9        4      44.4444   \n",
       "28.0               65.0                  NaN        2        1      50.0000   \n",
       "28.0               49.0                 5.00        9        4      44.4444   \n",
       "28.0               17.0              9501.00        3        2      66.6667   \n",
       "28.0              151.0                 8.00       19       10      52.6316   \n",
       "\n",
       "            AMT_ALL  AMT_FHA  PCT_AMT_FHA         GEOID  \n",
       "State_Code                                               \n",
       "28.0             71       71     100.0000  2.804901e+10  \n",
       "28.0            177      177     100.0000           NaN  \n",
       "28.0            133      133     100.0000  2.806395e+10  \n",
       "28.0             82       82     100.0000  2.804900e+10  \n",
       "28.0            118      118     100.0000  2.815100e+10  \n",
       "28.0            107      107     100.0000  2.815100e+10  \n",
       "28.0             39       39     100.0000  2.804900e+10  \n",
       "28.0            165      165     100.0000  2.810395e+10  \n",
       "28.0             78       78     100.0000  2.804900e+10  \n",
       "28.0           1365     1244      91.1355  2.815100e+10  \n",
       "28.0            380      339      89.2105  2.803795e+10  \n",
       "28.0            176      149      84.6591  2.804901e+10  \n",
       "28.0            502      419      83.4661  2.808700e+10  \n",
       "28.0            338      280      82.8402  2.804901e+10  \n",
       "28.0            221      181      81.9005  2.804900e+10  \n",
       "28.0            522      418      80.0766  2.804900e+10  \n",
       "28.0           1152      899      78.0382  2.804901e+10  \n",
       "28.0           1118      865      77.3703  2.804901e+10  \n",
       "28.0           3887     2988      76.8716  2.804901e+10  \n",
       "28.0           2133     1633      76.5588  2.804901e+10  \n",
       "28.0            343      257      74.9271  2.804900e+10  \n",
       "28.0            578      421      72.8374  2.803307e+10  \n",
       "28.0            463      336      72.5702  2.802195e+10  \n",
       "28.0           2363     1705      72.1540  2.812102e+10  \n",
       "28.0            218      150      68.8073  2.804700e+10  \n",
       "28.0           1965     1340      68.1934  2.803307e+10  \n",
       "28.0            486      326      67.0782  2.804901e+10  \n",
       "28.0            239      158      66.1088  2.801995e+10  \n",
       "28.0           3644     2399      65.8343  2.812102e+10  \n",
       "28.0            231      152      65.8009  2.815595e+10  \n",
       "28.0           3244     2131      65.6905  2.803307e+10  \n",
       "28.0            966      629      65.1139  2.804901e+10  \n",
       "28.0            314      204      64.9682  2.804700e+10  \n",
       "28.0           2344     1492      63.6519  2.804901e+10  \n",
       "28.0           1227      779      63.4882  2.803307e+10  \n",
       "28.0            763      469      61.4679  2.808903e+10  \n",
       "28.0            297      182      61.2795           NaN  \n",
       "28.0            395      242      61.2658  2.804900e+10  \n",
       "28.0            392      240      61.2245  2.801795e+10  \n",
       "28.0           1666     1007      60.4442  2.815100e+10  "
      ]
     },
     "execution_count": 80,
     "metadata": {},
     "output_type": "execute_result"
    }
   ],
   "source": [
    "auxf = df.set_index('State_Code')\n",
    "auxf.loc[28.0,:].head(40)"
   ]
  },
  {
   "cell_type": "code",
   "execution_count": 81,
   "metadata": {},
   "outputs": [
    {
     "data": {
      "text/plain": [
       "39.0"
      ]
     },
     "execution_count": 81,
     "metadata": {},
     "output_type": "execute_result"
    }
   ],
   "source": [
    "df.loc[3, 'State_Code']"
   ]
  },
  {
   "cell_type": "markdown",
   "metadata": {},
   "source": [
    "Inusualmente para Python, ambos puntos finales se incluyen en el sector."
   ]
  },
  {
   "cell_type": "code",
   "execution_count": null,
   "metadata": {},
   "outputs": [],
   "source": [
    "df.loc[0:3, ['State_Code','Census_Tract_Number']]"
   ]
  },
  {
   "cell_type": "markdown",
   "metadata": {},
   "source": [
    "La indexación basada en la posición se realiza con el atributo `.iloc`."
   ]
  },
  {
   "cell_type": "code",
   "execution_count": null,
   "metadata": {},
   "outputs": [],
   "source": [
    "df.iloc[3, 0:3]"
   ]
  },
  {
   "cell_type": "markdown",
   "metadata": {},
   "source": [
    "La convención de corte habitual se utiliza para `.iloc`. Es decir, el extremo superior no se incluye en el segmento"
   ]
  },
  {
   "cell_type": "code",
   "execution_count": 83,
   "metadata": {},
   "outputs": [
    {
     "data": {
      "text/html": [
       "<div>\n",
       "<table border=\"1\" class=\"dataframe\">\n",
       "  <thead>\n",
       "    <tr style=\"text-align: right;\">\n",
       "      <th></th>\n",
       "      <th>State_Code</th>\n",
       "      <th>County_Code</th>\n",
       "      <th>Census_Tract_Number</th>\n",
       "    </tr>\n",
       "  </thead>\n",
       "  <tbody>\n",
       "    <tr>\n",
       "      <th>0</th>\n",
       "      <td>8.0</td>\n",
       "      <td>75.0</td>\n",
       "      <td>NaN</td>\n",
       "    </tr>\n",
       "    <tr>\n",
       "      <th>1</th>\n",
       "      <td>28.0</td>\n",
       "      <td>49.0</td>\n",
       "      <td>103.01</td>\n",
       "    </tr>\n",
       "    <tr>\n",
       "      <th>2</th>\n",
       "      <td>40.0</td>\n",
       "      <td>3.0</td>\n",
       "      <td>NaN</td>\n",
       "    </tr>\n",
       "  </tbody>\n",
       "</table>\n",
       "</div>"
      ],
      "text/plain": [
       "   State_Code  County_Code  Census_Tract_Number\n",
       "0         8.0         75.0                  NaN\n",
       "1        28.0         49.0               103.01\n",
       "2        40.0          3.0                  NaN"
      ]
     },
     "execution_count": 83,
     "metadata": {},
     "output_type": "execute_result"
    }
   ],
   "source": [
    "df.iloc[0:3, 0:3]"
   ]
  },
  {
   "cell_type": "markdown",
   "metadata": {},
   "source": [
    "## Filtrado de información\n",
    "\n",
    " La notación `df [...]` es muy flexible:\n",
    "   - Acepta nombres de columnas (cadenas y listas de cadenas);\n",
    "   - Acepta los números de las columnas (siempre que no haya ambigüedad con los nombres de las columnas);\n",
    "   - ¡Acepta series de datos binarias! \n",
    "  \n",
    "Esto significa que puedes escribir:\n",
    "```python\n",
    "\n",
    " df[ df['column_name2'] == 'MD' & ( df['column_name1']==5 | df['column_name1']==6 ) ]\n",
    "```   \n",
    "para los que sepan SQL seria una cosa muy similar a:\n",
    "```sql\n",
    "SELECT * FROM df\n",
    "WHERE column_name2=\"MD\" AND (column_name1=5 OR column_name1=6)\n",
    "```           \n",
    "Los operadores booleanos en un dataframe devuelven una serie de datos de bools."
   ]
  },
  {
   "cell_type": "code",
   "execution_count": 84,
   "metadata": {},
   "outputs": [
    {
     "data": {
      "text/plain": [
       "0    False\n",
       "1    False\n",
       "2    False\n",
       "3    False\n",
       "4    False\n",
       "Name: State_Code, dtype: bool"
      ]
     },
     "execution_count": 84,
     "metadata": {},
     "output_type": "execute_result"
    }
   ],
   "source": [
    "(df['State_Code'] == 1).head()"
   ]
  },
  {
   "cell_type": "markdown",
   "metadata": {},
   "source": [
    "Estos se pueden combinar con los operadores booleanos (a nivel de bit). Tened en cuenta que, debido a la precedencia del operador, es mejor poner las comparaciones individuales entre paréntesis."
   ]
  },
  {
   "cell_type": "code",
   "execution_count": null,
   "metadata": {},
   "outputs": [],
   "source": [
    "((df['State_Code'] == 1) & (df['Census_Tract_Number'] == 9613)).head()"
   ]
  },
  {
   "cell_type": "markdown",
   "metadata": {},
   "source": [
    "Los dataframes pueden ser indexados por series de booleanos"
   ]
  },
  {
   "cell_type": "code",
   "execution_count": null,
   "metadata": {
    "scrolled": false
   },
   "outputs": [],
   "source": [
    "df[df['State_Code'] == 5][['State_Code', 'County_Code']].head()"
   ]
  },
  {
   "cell_type": "markdown",
   "metadata": {},
   "source": [
    "** Nota: ** selecciona filas por series de datos binarios solo si comparten el mismo índice de datos.\n",
    "\n",
    "### **Ejercicio:**\n",
    "1. "
   ]
  },
  {
   "cell_type": "markdown",
   "metadata": {},
   "source": [
    "## Uniendo datos (joining)\n",
    "\n",
    "Lo análogo a\n",
    ">             \n",
    "    SELECT * \n",
    "        FROM df1\n",
    "        INNER JOIN df2 \n",
    "        ON df1.field_name=df2.field_name;\n",
    "\n",
    "es\n",
    "\n",
    "    df_joined = df1.merge(df2, on='field_name')\n",
    "\n",
    "También  se pueden hacer joins izquierda / derecha / outter, mezclar y combinar nombres de columna, etc. [Documentación Pandas](https://pandas.pydata.org/pandas-docs/stable/generated/pandas.DataFrame.merge.html)\n",
    "\n",
    "Por supuesto, solo mirando la distribución del seguro por zona censal no es interesante a menos que sepamos más sobre el tramo censal."
   ]
  },
  {
   "cell_type": "code",
   "execution_count": null,
   "metadata": {},
   "outputs": [],
   "source": [
    "df.head()"
   ]
  },
  {
   "cell_type": "code",
   "execution_count": 85,
   "metadata": {},
   "outputs": [
    {
     "data": {
      "text/html": [
       "<div>\n",
       "<table border=\"1\" class=\"dataframe\">\n",
       "  <thead>\n",
       "    <tr style=\"text-align: right;\">\n",
       "      <th></th>\n",
       "      <th>USPS</th>\n",
       "      <th>GEOID</th>\n",
       "      <th>ALAND</th>\n",
       "      <th>AWATER</th>\n",
       "      <th>ALAND_SQMI</th>\n",
       "      <th>AWATER_SQMI</th>\n",
       "      <th>INTPTLAT</th>\n",
       "      <th>INTPTLONG</th>\n",
       "    </tr>\n",
       "  </thead>\n",
       "  <tbody>\n",
       "    <tr>\n",
       "      <th>0</th>\n",
       "      <td>AL</td>\n",
       "      <td>1001020100</td>\n",
       "      <td>9809939</td>\n",
       "      <td>36312</td>\n",
       "      <td>3.788</td>\n",
       "      <td>0.014</td>\n",
       "      <td>32.481794</td>\n",
       "      <td>-86.490249</td>\n",
       "    </tr>\n",
       "    <tr>\n",
       "      <th>1</th>\n",
       "      <td>AL</td>\n",
       "      <td>1001020200</td>\n",
       "      <td>3340498</td>\n",
       "      <td>5846</td>\n",
       "      <td>1.290</td>\n",
       "      <td>0.002</td>\n",
       "      <td>32.475758</td>\n",
       "      <td>-86.472468</td>\n",
       "    </tr>\n",
       "    <tr>\n",
       "      <th>2</th>\n",
       "      <td>AL</td>\n",
       "      <td>1001020300</td>\n",
       "      <td>5349274</td>\n",
       "      <td>9054</td>\n",
       "      <td>2.065</td>\n",
       "      <td>0.003</td>\n",
       "      <td>32.474024</td>\n",
       "      <td>-86.459703</td>\n",
       "    </tr>\n",
       "    <tr>\n",
       "      <th>3</th>\n",
       "      <td>AL</td>\n",
       "      <td>1001020400</td>\n",
       "      <td>6382705</td>\n",
       "      <td>16244</td>\n",
       "      <td>2.464</td>\n",
       "      <td>0.006</td>\n",
       "      <td>32.471030</td>\n",
       "      <td>-86.444835</td>\n",
       "    </tr>\n",
       "    <tr>\n",
       "      <th>4</th>\n",
       "      <td>AL</td>\n",
       "      <td>1001020500</td>\n",
       "      <td>11397734</td>\n",
       "      <td>48412</td>\n",
       "      <td>4.401</td>\n",
       "      <td>0.019</td>\n",
       "      <td>32.458916</td>\n",
       "      <td>-86.421817</td>\n",
       "    </tr>\n",
       "  </tbody>\n",
       "</table>\n",
       "</div>"
      ],
      "text/plain": [
       "  USPS       GEOID     ALAND  AWATER  ALAND_SQMI  AWATER_SQMI   INTPTLAT  \\\n",
       "0   AL  1001020100   9809939   36312       3.788        0.014  32.481794   \n",
       "1   AL  1001020200   3340498    5846       1.290        0.002  32.475758   \n",
       "2   AL  1001020300   5349274    9054       2.065        0.003  32.474024   \n",
       "3   AL  1001020400   6382705   16244       2.464        0.006  32.471030   \n",
       "4   AL  1001020500  11397734   48412       4.401        0.019  32.458916   \n",
       "\n",
       "   INTPTLONG                                                                                                                               \n",
       "0                                         -86.490249                                                                                       \n",
       "1                                         -86.472468                                                                                       \n",
       "2                                         -86.459703                                                                                       \n",
       "3                                         -86.444835                                                                                       \n",
       "4                                         -86.421817                                                                                       "
      ]
     },
     "execution_count": 85,
     "metadata": {},
     "output_type": "execute_result"
    }
   ],
   "source": [
    "df_geo = pd.read_csv('2013_Gaz_tracts_national.tsv', sep='\\t')\n",
    "df_geo.head()"
   ]
  },
  {
   "cell_type": "code",
   "execution_count": 86,
   "metadata": {},
   "outputs": [
    {
     "data": {
      "text/html": [
       "<div>\n",
       "<table border=\"1\" class=\"dataframe\">\n",
       "  <thead>\n",
       "    <tr style=\"text-align: right;\">\n",
       "      <th></th>\n",
       "      <th>State_Code</th>\n",
       "      <th>County_Code</th>\n",
       "      <th>Census_Tract_Number</th>\n",
       "      <th>NUM_ALL</th>\n",
       "      <th>NUM_FHA</th>\n",
       "      <th>PCT_NUM_FHA</th>\n",
       "      <th>AMT_ALL</th>\n",
       "      <th>AMT_FHA</th>\n",
       "      <th>PCT_AMT_FHA</th>\n",
       "      <th>GEOID</th>\n",
       "      <th>USPS</th>\n",
       "      <th>ALAND</th>\n",
       "      <th>AWATER</th>\n",
       "      <th>ALAND_SQMI</th>\n",
       "      <th>AWATER_SQMI</th>\n",
       "      <th>INTPTLAT</th>\n",
       "      <th>INTPTLONG</th>\n",
       "    </tr>\n",
       "  </thead>\n",
       "  <tbody>\n",
       "    <tr>\n",
       "      <th>0</th>\n",
       "      <td>8.0</td>\n",
       "      <td>75.0</td>\n",
       "      <td>NaN</td>\n",
       "      <td>1</td>\n",
       "      <td>1</td>\n",
       "      <td>100.0</td>\n",
       "      <td>258</td>\n",
       "      <td>258</td>\n",
       "      <td>100.0</td>\n",
       "      <td>NaN</td>\n",
       "      <td>NaN</td>\n",
       "      <td>NaN</td>\n",
       "      <td>NaN</td>\n",
       "      <td>NaN</td>\n",
       "      <td>NaN</td>\n",
       "      <td>NaN</td>\n",
       "      <td>NaN</td>\n",
       "    </tr>\n",
       "    <tr>\n",
       "      <th>1</th>\n",
       "      <td>28.0</td>\n",
       "      <td>49.0</td>\n",
       "      <td>103.01</td>\n",
       "      <td>1</td>\n",
       "      <td>1</td>\n",
       "      <td>100.0</td>\n",
       "      <td>71</td>\n",
       "      <td>71</td>\n",
       "      <td>100.0</td>\n",
       "      <td>2.804901e+10</td>\n",
       "      <td>MS</td>\n",
       "      <td>8162270.0</td>\n",
       "      <td>22648.0</td>\n",
       "      <td>3.151</td>\n",
       "      <td>0.009</td>\n",
       "      <td>32.365904</td>\n",
       "      <td>-90.262379</td>\n",
       "    </tr>\n",
       "    <tr>\n",
       "      <th>2</th>\n",
       "      <td>40.0</td>\n",
       "      <td>3.0</td>\n",
       "      <td>NaN</td>\n",
       "      <td>1</td>\n",
       "      <td>1</td>\n",
       "      <td>100.0</td>\n",
       "      <td>215</td>\n",
       "      <td>215</td>\n",
       "      <td>100.0</td>\n",
       "      <td>NaN</td>\n",
       "      <td>NaN</td>\n",
       "      <td>NaN</td>\n",
       "      <td>NaN</td>\n",
       "      <td>NaN</td>\n",
       "      <td>NaN</td>\n",
       "      <td>NaN</td>\n",
       "      <td>NaN</td>\n",
       "    </tr>\n",
       "    <tr>\n",
       "      <th>3</th>\n",
       "      <td>39.0</td>\n",
       "      <td>113.0</td>\n",
       "      <td>603.00</td>\n",
       "      <td>3</td>\n",
       "      <td>3</td>\n",
       "      <td>100.0</td>\n",
       "      <td>206</td>\n",
       "      <td>206</td>\n",
       "      <td>100.0</td>\n",
       "      <td>3.911306e+10</td>\n",
       "      <td>OH</td>\n",
       "      <td>5382347.0</td>\n",
       "      <td>0.0</td>\n",
       "      <td>2.078</td>\n",
       "      <td>0.000</td>\n",
       "      <td>39.729932</td>\n",
       "      <td>-84.268323</td>\n",
       "    </tr>\n",
       "    <tr>\n",
       "      <th>4</th>\n",
       "      <td>12.0</td>\n",
       "      <td>105.0</td>\n",
       "      <td>124.04</td>\n",
       "      <td>2</td>\n",
       "      <td>2</td>\n",
       "      <td>100.0</td>\n",
       "      <td>303</td>\n",
       "      <td>303</td>\n",
       "      <td>100.0</td>\n",
       "      <td>1.210501e+10</td>\n",
       "      <td>FL</td>\n",
       "      <td>105120002.0</td>\n",
       "      <td>1800522.0</td>\n",
       "      <td>40.587</td>\n",
       "      <td>0.695</td>\n",
       "      <td>28.224489</td>\n",
       "      <td>-81.739745</td>\n",
       "    </tr>\n",
       "  </tbody>\n",
       "</table>\n",
       "</div>"
      ],
      "text/plain": [
       "   State_Code  County_Code  Census_Tract_Number  NUM_ALL  NUM_FHA  \\\n",
       "0         8.0         75.0                  NaN        1        1   \n",
       "1        28.0         49.0               103.01        1        1   \n",
       "2        40.0          3.0                  NaN        1        1   \n",
       "3        39.0        113.0               603.00        3        3   \n",
       "4        12.0        105.0               124.04        2        2   \n",
       "\n",
       "   PCT_NUM_FHA  AMT_ALL  AMT_FHA  PCT_AMT_FHA         GEOID USPS        ALAND  \\\n",
       "0        100.0      258      258        100.0           NaN  NaN          NaN   \n",
       "1        100.0       71       71        100.0  2.804901e+10   MS    8162270.0   \n",
       "2        100.0      215      215        100.0           NaN  NaN          NaN   \n",
       "3        100.0      206      206        100.0  3.911306e+10   OH    5382347.0   \n",
       "4        100.0      303      303        100.0  1.210501e+10   FL  105120002.0   \n",
       "\n",
       "      AWATER  ALAND_SQMI  AWATER_SQMI   INTPTLAT  \\\n",
       "0        NaN         NaN          NaN        NaN   \n",
       "1    22648.0       3.151        0.009  32.365904   \n",
       "2        NaN         NaN          NaN        NaN   \n",
       "3        0.0       2.078        0.000  39.729932   \n",
       "4  1800522.0      40.587        0.695  28.224489   \n",
       "\n",
       "   INTPTLONG                                                                                                                               \n",
       "0                                                NaN                                                                                       \n",
       "1                                         -90.262379                                                                                       \n",
       "2                                                NaN                                                                                       \n",
       "3                                         -84.268323                                                                                       \n",
       "4                                         -81.739745                                                                                       "
      ]
     },
     "execution_count": 86,
     "metadata": {},
     "output_type": "execute_result"
    }
   ],
   "source": [
    "df_joined = df.merge(df_geo, on='GEOID', how='left')\n",
    "df_joined.head()"
   ]
  },
  {
   "cell_type": "markdown",
   "metadata": {},
   "source": [
    "## Agregando información\n",
    "\n",
    "El análogo al SQL `GROUP BY` es\n",
    "\n",
    "    grouped = df.groupby(['field_name1', ...])...\n",
    "\n",
    "The above is analogous to\n",
    ">             \n",
    "    SELECT mean(df.value1), std(df.value2) \n",
    "        FROM df\n",
    "        GROUP BY df.field_name1, ...\n",
    "\n",
    "Pandas es algo más flexible en cuanto a cómo agrupar los datos."
   ]
  },
  {
   "cell_type": "code",
   "execution_count": 87,
   "metadata": {},
   "outputs": [
    {
     "data": {
      "text/plain": [
       "<pandas.core.groupby.DataFrameGroupBy object at 0x7f47db4367b8>"
      ]
     },
     "execution_count": 87,
     "metadata": {},
     "output_type": "execute_result"
    }
   ],
   "source": [
    "usps_groups = df_joined.groupby('USPS')\n",
    "usps_groups"
   ]
  },
  {
   "cell_type": "markdown",
   "metadata": {},
   "source": [
    "La razón por la que Pandas no requiere que especifiques una función de agregación por adelantado es porque el método groupby por sí solo ya realiza parte del trabajo. Devuelve un tipo de datos `DataFrameGroupBy` que contiene un diccionario de claves de grupo para las listas."
   ]
  },
  {
   "cell_type": "code",
   "execution_count": 88,
   "metadata": {},
   "outputs": [
    {
     "name": "stdout",
     "output_type": "stream",
     "text": [
      "<class 'dict'>\n"
     ]
    },
    {
     "data": {
      "text/plain": [
       "[91, 298, 536, 2528, 4146]"
      ]
     },
     "execution_count": 88,
     "metadata": {},
     "output_type": "execute_result"
    }
   ],
   "source": [
    "print(type(usps_groups.groups))\n",
    "usps_groups.groups['AK'][:5] # Vemos los 5 primeros"
   ]
  },
  {
   "cell_type": "code",
   "execution_count": 89,
   "metadata": {},
   "outputs": [
    {
     "data": {
      "text/plain": [
       "dict_keys(['LA', 'NJ', 'TX', 'SD', 'DE', 'NC', 'NY', 'UT', 'WV', 'CT', 'PA', 'MN', 'MI', 'OK', 'WY', 'KS', 'VT', 'AL', 'IN', 'AZ', 'WI', 'IA', 'SC', 'IL', 'RI', 'MO', 'FL', 'ID', 'OH', 'KY', 'DC', 'NH', 'AR', 'MD', 'MT', 'NM', 'OR', 'VA', 'MS', 'ND', 'NV', 'ME', 'NE', 'WA', 'AK', 'PR', 'MA', 'TN', 'GA', 'CO', 'CA', 'HI'])"
      ]
     },
     "execution_count": 89,
     "metadata": {},
     "output_type": "execute_result"
    }
   ],
   "source": [
    "usps_groups.groups.keys()"
   ]
  },
  {
   "cell_type": "markdown",
   "metadata": {},
   "source": [
    "Podemos recuperar el grupo de datos asociados con una clave:"
   ]
  },
  {
   "cell_type": "code",
   "execution_count": 90,
   "metadata": {},
   "outputs": [
    {
     "data": {
      "text/html": [
       "<div>\n",
       "<table border=\"1\" class=\"dataframe\">\n",
       "  <thead>\n",
       "    <tr style=\"text-align: right;\">\n",
       "      <th></th>\n",
       "      <th>State_Code</th>\n",
       "      <th>County_Code</th>\n",
       "      <th>Census_Tract_Number</th>\n",
       "      <th>NUM_ALL</th>\n",
       "      <th>NUM_FHA</th>\n",
       "      <th>PCT_NUM_FHA</th>\n",
       "      <th>AMT_ALL</th>\n",
       "      <th>AMT_FHA</th>\n",
       "      <th>PCT_AMT_FHA</th>\n",
       "      <th>GEOID</th>\n",
       "      <th>USPS</th>\n",
       "      <th>ALAND</th>\n",
       "      <th>AWATER</th>\n",
       "      <th>ALAND_SQMI</th>\n",
       "      <th>AWATER_SQMI</th>\n",
       "      <th>INTPTLAT</th>\n",
       "      <th>INTPTLONG</th>\n",
       "    </tr>\n",
       "  </thead>\n",
       "  <tbody>\n",
       "    <tr>\n",
       "      <th>91</th>\n",
       "      <td>2.0</td>\n",
       "      <td>50.0</td>\n",
       "      <td>3.0</td>\n",
       "      <td>1</td>\n",
       "      <td>1</td>\n",
       "      <td>100.0000</td>\n",
       "      <td>121</td>\n",
       "      <td>121</td>\n",
       "      <td>100.0000</td>\n",
       "      <td>2.050000e+09</td>\n",
       "      <td>AK</td>\n",
       "      <td>4.930719e+10</td>\n",
       "      <td>6.258804e+08</td>\n",
       "      <td>19037.615</td>\n",
       "      <td>241.654</td>\n",
       "      <td>61.468804</td>\n",
       "      <td>-156.692206</td>\n",
       "    </tr>\n",
       "    <tr>\n",
       "      <th>298</th>\n",
       "      <td>2.0</td>\n",
       "      <td>20.0</td>\n",
       "      <td>4.0</td>\n",
       "      <td>1</td>\n",
       "      <td>1</td>\n",
       "      <td>100.0000</td>\n",
       "      <td>192</td>\n",
       "      <td>192</td>\n",
       "      <td>100.0000</td>\n",
       "      <td>2.020000e+09</td>\n",
       "      <td>AK</td>\n",
       "      <td>5.336808e+07</td>\n",
       "      <td>2.393787e+07</td>\n",
       "      <td>20.606</td>\n",
       "      <td>9.242</td>\n",
       "      <td>61.266668</td>\n",
       "      <td>-149.830858</td>\n",
       "    </tr>\n",
       "    <tr>\n",
       "      <th>536</th>\n",
       "      <td>2.0</td>\n",
       "      <td>122.0</td>\n",
       "      <td>1.0</td>\n",
       "      <td>1</td>\n",
       "      <td>1</td>\n",
       "      <td>100.0000</td>\n",
       "      <td>39</td>\n",
       "      <td>39</td>\n",
       "      <td>100.0000</td>\n",
       "      <td>2.122000e+09</td>\n",
       "      <td>AK</td>\n",
       "      <td>1.982658e+10</td>\n",
       "      <td>1.006239e+10</td>\n",
       "      <td>7655.087</td>\n",
       "      <td>3885.112</td>\n",
       "      <td>60.123779</td>\n",
       "      <td>-152.841141</td>\n",
       "    </tr>\n",
       "    <tr>\n",
       "      <th>2528</th>\n",
       "      <td>2.0</td>\n",
       "      <td>185.0</td>\n",
       "      <td>1.0</td>\n",
       "      <td>11</td>\n",
       "      <td>8</td>\n",
       "      <td>72.7273</td>\n",
       "      <td>1958</td>\n",
       "      <td>1604</td>\n",
       "      <td>81.9203</td>\n",
       "      <td>2.185000e+09</td>\n",
       "      <td>AK</td>\n",
       "      <td>2.532416e+08</td>\n",
       "      <td>3.781985e+08</td>\n",
       "      <td>97.777</td>\n",
       "      <td>146.023</td>\n",
       "      <td>71.287938</td>\n",
       "      <td>-156.685618</td>\n",
       "    </tr>\n",
       "    <tr>\n",
       "      <th>4146</th>\n",
       "      <td>2.0</td>\n",
       "      <td>122.0</td>\n",
       "      <td>12.0</td>\n",
       "      <td>3</td>\n",
       "      <td>2</td>\n",
       "      <td>66.6667</td>\n",
       "      <td>530</td>\n",
       "      <td>392</td>\n",
       "      <td>73.9623</td>\n",
       "      <td>2.122001e+09</td>\n",
       "      <td>AK</td>\n",
       "      <td>2.498757e+09</td>\n",
       "      <td>4.721135e+09</td>\n",
       "      <td>964.775</td>\n",
       "      <td>1822.840</td>\n",
       "      <td>59.356474</td>\n",
       "      <td>-151.771450</td>\n",
       "    </tr>\n",
       "  </tbody>\n",
       "</table>\n",
       "</div>"
      ],
      "text/plain": [
       "      State_Code  County_Code  Census_Tract_Number  NUM_ALL  NUM_FHA  \\\n",
       "91           2.0         50.0                  3.0        1        1   \n",
       "298          2.0         20.0                  4.0        1        1   \n",
       "536          2.0        122.0                  1.0        1        1   \n",
       "2528         2.0        185.0                  1.0       11        8   \n",
       "4146         2.0        122.0                 12.0        3        2   \n",
       "\n",
       "      PCT_NUM_FHA  AMT_ALL  AMT_FHA  PCT_AMT_FHA         GEOID USPS  \\\n",
       "91       100.0000      121      121     100.0000  2.050000e+09   AK   \n",
       "298      100.0000      192      192     100.0000  2.020000e+09   AK   \n",
       "536      100.0000       39       39     100.0000  2.122000e+09   AK   \n",
       "2528      72.7273     1958     1604      81.9203  2.185000e+09   AK   \n",
       "4146      66.6667      530      392      73.9623  2.122001e+09   AK   \n",
       "\n",
       "             ALAND        AWATER  ALAND_SQMI  AWATER_SQMI   INTPTLAT  \\\n",
       "91    4.930719e+10  6.258804e+08   19037.615      241.654  61.468804   \n",
       "298   5.336808e+07  2.393787e+07      20.606        9.242  61.266668   \n",
       "536   1.982658e+10  1.006239e+10    7655.087     3885.112  60.123779   \n",
       "2528  2.532416e+08  3.781985e+08      97.777      146.023  71.287938   \n",
       "4146  2.498757e+09  4.721135e+09     964.775     1822.840  59.356474   \n",
       "\n",
       "      INTPTLONG                                                                                                                               \n",
       "91                                          -156.692206                                                                                       \n",
       "298                                         -149.830858                                                                                       \n",
       "536                                         -152.841141                                                                                       \n",
       "2528                                        -156.685618                                                                                       \n",
       "4146                                        -151.771450                                                                                       "
      ]
     },
     "execution_count": 90,
     "metadata": {},
     "output_type": "execute_result"
    }
   ],
   "source": [
    "usps_groups.get_group('AK')[:5]"
   ]
  },
  {
   "cell_type": "markdown",
   "metadata": {},
   "source": [
    "Esto es lo mismo que:"
   ]
  },
  {
   "cell_type": "code",
   "execution_count": null,
   "metadata": {},
   "outputs": [],
   "source": [
    "df_joined.iloc[usps_groups.groups['AK'][:5]]"
   ]
  },
  {
   "cell_type": "code",
   "execution_count": null,
   "metadata": {},
   "outputs": [],
   "source": [
    "usps_groups.mean().head()  #Proporciona la media de cada grupo"
   ]
  },
  {
   "cell_type": "code",
   "execution_count": 92,
   "metadata": {
    "collapsed": true
   },
   "outputs": [],
   "source": [
    "df_by_state = df_joined.groupby('USPS').sum()"
   ]
  },
  {
   "cell_type": "code",
   "execution_count": null,
   "metadata": {
    "scrolled": true
   },
   "outputs": [],
   "source": [
    "df_by_state"
   ]
  },
  {
   "cell_type": "code",
   "execution_count": null,
   "metadata": {},
   "outputs": [],
   "source": [
    "# This is the analog of\n",
    "# SELECT USPS, SUM(AMT_FHA), SUM(AMT_ALL), ... FROM df GROUP BY USPS;\n",
    "df_by_state = usps_groups['AMT_FHA', 'AMT_ALL', 'NUM_FHA', 'NUM_ALL'].sum()\n",
    "df_by_state.head()"
   ]
  },
  {
   "cell_type": "code",
   "execution_count": null,
   "metadata": {},
   "outputs": [],
   "source": [
    "df_by_state['PCT_AMT_FHA'] = 100.0 * df_by_state['AMT_FHA']  / df_by_state['AMT_ALL']\n",
    "\n",
    "# Se puede observar la diferencia respecto al histograma de tracto censal\n",
    "df_by_state['PCT_AMT_FHA'].hist(bins=20);"
   ]
  },
  {
   "cell_type": "markdown",
   "metadata": {},
   "source": [
    "También puedes especificar una función de agregación para cada columna:"
   ]
  },
  {
   "cell_type": "code",
   "execution_count": null,
   "metadata": {},
   "outputs": [],
   "source": [
    "usps_groups['NUM_FHA', 'NUM_ALL'].agg({'NUM_FHA': np.sum, 'NUM_ALL': np.mean}).head()"
   ]
  },
  {
   "cell_type": "markdown",
   "metadata": {},
   "source": [
    "La función **groupby** es especialmente útil cuando definimos nuestras propias funciones de agregación. Aquí, definimos una función que devuelve la fila para la pista del censo ubicada más al norte. La función de aplicar intenta 'combinar resultados de una manera inteligente'. La lista de objetos Serie de cada llamada a `farthest_north` para cada código USPS se contrae en una sola tabla DataFrame."
   ]
  },
  {
   "cell_type": "code",
   "execution_count": null,
   "metadata": {},
   "outputs": [],
   "source": [
    "def farthest_north(state_df):\n",
    "    # descending sort, then select row 0\n",
    "    # the datatype will be a pandas Series\n",
    "    return state_df.sort_values('INTPTLAT', ascending=False).iloc[0]\n",
    "\n",
    "df_joined.groupby('USPS').apply(farthest_north)[:10]"
   ]
  },
  {
   "cell_type": "markdown",
   "metadata": {},
   "source": [
    "## Ordenando por índices y columnas\n",
    "\n",
    "Podemos ordenar por el índice\n"
   ]
  },
  {
   "cell_type": "code",
   "execution_count": 93,
   "metadata": {},
   "outputs": [
    {
     "data": {
      "text/html": [
       "<div>\n",
       "<table border=\"1\" class=\"dataframe\">\n",
       "  <thead>\n",
       "    <tr style=\"text-align: right;\">\n",
       "      <th></th>\n",
       "      <th>State_Code</th>\n",
       "      <th>County_Code</th>\n",
       "      <th>Census_Tract_Number</th>\n",
       "      <th>NUM_ALL</th>\n",
       "      <th>NUM_FHA</th>\n",
       "      <th>PCT_NUM_FHA</th>\n",
       "      <th>AMT_ALL</th>\n",
       "      <th>AMT_FHA</th>\n",
       "      <th>PCT_AMT_FHA</th>\n",
       "      <th>GEOID</th>\n",
       "      <th>ALAND</th>\n",
       "      <th>AWATER</th>\n",
       "      <th>ALAND_SQMI</th>\n",
       "      <th>AWATER_SQMI</th>\n",
       "      <th>INTPTLAT</th>\n",
       "      <th>INTPTLONG</th>\n",
       "    </tr>\n",
       "    <tr>\n",
       "      <th>USPS</th>\n",
       "      <th></th>\n",
       "      <th></th>\n",
       "      <th></th>\n",
       "      <th></th>\n",
       "      <th></th>\n",
       "      <th></th>\n",
       "      <th></th>\n",
       "      <th></th>\n",
       "      <th></th>\n",
       "      <th></th>\n",
       "      <th></th>\n",
       "      <th></th>\n",
       "      <th></th>\n",
       "      <th></th>\n",
       "      <th></th>\n",
       "      <th></th>\n",
       "    </tr>\n",
       "  </thead>\n",
       "  <tbody>\n",
       "    <tr>\n",
       "      <th>WY</th>\n",
       "      <td>7224.0</td>\n",
       "      <td>2793.0</td>\n",
       "      <td>674510.46</td>\n",
       "      <td>6644</td>\n",
       "      <td>1418</td>\n",
       "      <td>2547.593870</td>\n",
       "      <td>1313697</td>\n",
       "      <td>248573</td>\n",
       "      <td>2603.529903</td>\n",
       "      <td>7.226860e+12</td>\n",
       "      <td>2.514528e+11</td>\n",
       "      <td>1.862544e+09</td>\n",
       "      <td>97086.470</td>\n",
       "      <td>719.139</td>\n",
       "      <td>5504.476940</td>\n",
       "      <td>-13801.565936</td>\n",
       "    </tr>\n",
       "    <tr>\n",
       "      <th>WV</th>\n",
       "      <td>26136.0</td>\n",
       "      <td>25338.0</td>\n",
       "      <td>1778944.91</td>\n",
       "      <td>11739</td>\n",
       "      <td>2129</td>\n",
       "      <td>9271.010760</td>\n",
       "      <td>1675079</td>\n",
       "      <td>282703</td>\n",
       "      <td>9584.306890</td>\n",
       "      <td>2.616152e+13</td>\n",
       "      <td>6.226658e+10</td>\n",
       "      <td>4.894455e+08</td>\n",
       "      <td>24041.264</td>\n",
       "      <td>188.978</td>\n",
       "      <td>18780.862461</td>\n",
       "      <td>-39110.042522</td>\n",
       "    </tr>\n",
       "    <tr>\n",
       "      <th>WI</th>\n",
       "      <td>75295.0</td>\n",
       "      <td>104154.0</td>\n",
       "      <td>3317836.54</td>\n",
       "      <td>47913</td>\n",
       "      <td>7104</td>\n",
       "      <td>22031.121552</td>\n",
       "      <td>7500688</td>\n",
       "      <td>971178</td>\n",
       "      <td>22901.272090</td>\n",
       "      <td>7.539949e+13</td>\n",
       "      <td>1.401892e+11</td>\n",
       "      <td>8.509759e+09</td>\n",
       "      <td>54127.361</td>\n",
       "      <td>3285.636</td>\n",
       "      <td>59885.350451</td>\n",
       "      <td>-121833.117630</td>\n",
       "    </tr>\n",
       "    <tr>\n",
       "      <th>WA</th>\n",
       "      <td>76055.0</td>\n",
       "      <td>60321.0</td>\n",
       "      <td>2525773.28</td>\n",
       "      <td>68902</td>\n",
       "      <td>15019</td>\n",
       "      <td>33769.050593</td>\n",
       "      <td>17267705</td>\n",
       "      <td>3201463</td>\n",
       "      <td>34514.086295</td>\n",
       "      <td>7.611557e+13</td>\n",
       "      <td>1.711495e+11</td>\n",
       "      <td>9.474026e+09</td>\n",
       "      <td>66081.203</td>\n",
       "      <td>3657.953</td>\n",
       "      <td>67911.362121</td>\n",
       "      <td>-174531.160542</td>\n",
       "    </tr>\n",
       "    <tr>\n",
       "      <th>VT</th>\n",
       "      <td>9100.0</td>\n",
       "      <td>2728.0</td>\n",
       "      <td>1309303.31</td>\n",
       "      <td>4777</td>\n",
       "      <td>421</td>\n",
       "      <td>1738.821260</td>\n",
       "      <td>940893</td>\n",
       "      <td>77355</td>\n",
       "      <td>1744.257130</td>\n",
       "      <td>9.102859e+12</td>\n",
       "      <td>2.386749e+10</td>\n",
       "      <td>1.034339e+09</td>\n",
       "      <td>9215.295</td>\n",
       "      <td>399.366</td>\n",
       "      <td>8013.192295</td>\n",
       "      <td>-13244.209002</td>\n",
       "    </tr>\n",
       "  </tbody>\n",
       "</table>\n",
       "</div>"
      ],
      "text/plain": [
       "      State_Code  County_Code  Census_Tract_Number  NUM_ALL  NUM_FHA  \\\n",
       "USPS                                                                   \n",
       "WY        7224.0       2793.0            674510.46     6644     1418   \n",
       "WV       26136.0      25338.0           1778944.91    11739     2129   \n",
       "WI       75295.0     104154.0           3317836.54    47913     7104   \n",
       "WA       76055.0      60321.0           2525773.28    68902    15019   \n",
       "VT        9100.0       2728.0           1309303.31     4777      421   \n",
       "\n",
       "       PCT_NUM_FHA   AMT_ALL  AMT_FHA   PCT_AMT_FHA         GEOID  \\\n",
       "USPS                                                                \n",
       "WY     2547.593870   1313697   248573   2603.529903  7.226860e+12   \n",
       "WV     9271.010760   1675079   282703   9584.306890  2.616152e+13   \n",
       "WI    22031.121552   7500688   971178  22901.272090  7.539949e+13   \n",
       "WA    33769.050593  17267705  3201463  34514.086295  7.611557e+13   \n",
       "VT     1738.821260    940893    77355   1744.257130  9.102859e+12   \n",
       "\n",
       "             ALAND        AWATER  ALAND_SQMI  AWATER_SQMI      INTPTLAT  \\\n",
       "USPS                                                                      \n",
       "WY    2.514528e+11  1.862544e+09   97086.470      719.139   5504.476940   \n",
       "WV    6.226658e+10  4.894455e+08   24041.264      188.978  18780.862461   \n",
       "WI    1.401892e+11  8.509759e+09   54127.361     3285.636  59885.350451   \n",
       "WA    1.711495e+11  9.474026e+09   66081.203     3657.953  67911.362121   \n",
       "VT    2.386749e+10  1.034339e+09    9215.295      399.366   8013.192295   \n",
       "\n",
       "      INTPTLONG                                                                                                                               \n",
       "USPS                                                                                                                                          \n",
       "WY                                        -13801.565936                                                                                       \n",
       "WV                                        -39110.042522                                                                                       \n",
       "WI                                       -121833.117630                                                                                       \n",
       "WA                                       -174531.160542                                                                                       \n",
       "VT                                        -13244.209002                                                                                       "
      ]
     },
     "execution_count": 93,
     "metadata": {},
     "output_type": "execute_result"
    }
   ],
   "source": [
    "df_by_state.sort_index(ascending=False).head()"
   ]
  },
  {
   "cell_type": "markdown",
   "metadata": {},
   "source": [
    "También podemos ordenar según el valor de una columna"
   ]
  },
  {
   "cell_type": "code",
   "execution_count": 102,
   "metadata": {},
   "outputs": [
    {
     "data": {
      "text/html": [
       "<div>\n",
       "<table border=\"1\" class=\"dataframe\">\n",
       "  <thead>\n",
       "    <tr style=\"text-align: right;\">\n",
       "      <th></th>\n",
       "      <th>State_Code</th>\n",
       "      <th>County_Code</th>\n",
       "      <th>Census_Tract_Number</th>\n",
       "      <th>NUM_ALL</th>\n",
       "      <th>NUM_FHA</th>\n",
       "      <th>PCT_NUM_FHA</th>\n",
       "      <th>AMT_ALL</th>\n",
       "      <th>AMT_FHA</th>\n",
       "      <th>PCT_AMT_FHA</th>\n",
       "      <th>GEOID</th>\n",
       "      <th>ALAND</th>\n",
       "      <th>AWATER</th>\n",
       "      <th>ALAND_SQMI</th>\n",
       "      <th>AWATER_SQMI</th>\n",
       "      <th>INTPTLAT</th>\n",
       "      <th>INTPTLONG</th>\n",
       "    </tr>\n",
       "    <tr>\n",
       "      <th>USPS</th>\n",
       "      <th></th>\n",
       "      <th></th>\n",
       "      <th></th>\n",
       "      <th></th>\n",
       "      <th></th>\n",
       "      <th></th>\n",
       "      <th></th>\n",
       "      <th></th>\n",
       "      <th></th>\n",
       "      <th></th>\n",
       "      <th></th>\n",
       "      <th></th>\n",
       "      <th></th>\n",
       "      <th></th>\n",
       "      <th></th>\n",
       "      <th></th>\n",
       "    </tr>\n",
       "  </thead>\n",
       "  <tbody>\n",
       "    <tr>\n",
       "      <th>CA</th>\n",
       "      <td>47058.0</td>\n",
       "      <td>429621.0</td>\n",
       "      <td>1.572751e+07</td>\n",
       "      <td>307087</td>\n",
       "      <td>88650</td>\n",
       "      <td>231906.640878</td>\n",
       "      <td>99817500</td>\n",
       "      <td>22607179</td>\n",
       "      <td>258551.356138</td>\n",
       "      <td>4.748919e+13</td>\n",
       "      <td>3.845024e+11</td>\n",
       "      <td>6.572385e+09</td>\n",
       "      <td>148457.258</td>\n",
       "      <td>2537.612</td>\n",
       "      <td>278462.046524</td>\n",
       "      <td>-936564.108106</td>\n",
       "    </tr>\n",
       "    <tr>\n",
       "      <th>TX</th>\n",
       "      <td>241584.0</td>\n",
       "      <td>1147425.0</td>\n",
       "      <td>1.328567e+07</td>\n",
       "      <td>243977</td>\n",
       "      <td>73549</td>\n",
       "      <td>175000.372320</td>\n",
       "      <td>45870174</td>\n",
       "      <td>10789870</td>\n",
       "      <td>179065.734095</td>\n",
       "      <td>2.427328e+14</td>\n",
       "      <td>6.518961e+11</td>\n",
       "      <td>1.416095e+10</td>\n",
       "      <td>251698.524</td>\n",
       "      <td>5467.578</td>\n",
       "      <td>156128.381067</td>\n",
       "      <td>-490564.133622</td>\n",
       "    </tr>\n",
       "    <tr>\n",
       "      <th>FL</th>\n",
       "      <td>48864.0</td>\n",
       "      <td>292224.0</td>\n",
       "      <td>2.845053e+06</td>\n",
       "      <td>157431</td>\n",
       "      <td>44511</td>\n",
       "      <td>131126.352219</td>\n",
       "      <td>30754332</td>\n",
       "      <td>6866263</td>\n",
       "      <td>134137.105306</td>\n",
       "      <td>4.915651e+13</td>\n",
       "      <td>1.314206e+11</td>\n",
       "      <td>1.311422e+10</td>\n",
       "      <td>50741.788</td>\n",
       "      <td>5063.422</td>\n",
       "      <td>113139.351341</td>\n",
       "      <td>-332655.086780</td>\n",
       "    </tr>\n",
       "    <tr>\n",
       "      <th>NY</th>\n",
       "      <td>165780.0</td>\n",
       "      <td>288479.0</td>\n",
       "      <td>5.743982e+06</td>\n",
       "      <td>101335</td>\n",
       "      <td>25019</td>\n",
       "      <td>135397.247540</td>\n",
       "      <td>30631391</td>\n",
       "      <td>5578590</td>\n",
       "      <td>143698.707311</td>\n",
       "      <td>1.660691e+14</td>\n",
       "      <td>1.204434e+11</td>\n",
       "      <td>5.656721e+09</td>\n",
       "      <td>46503.460</td>\n",
       "      <td>2184.083</td>\n",
       "      <td>191221.672549</td>\n",
       "      <td>-343856.056861</td>\n",
       "    </tr>\n",
       "    <tr>\n",
       "      <th>VA</th>\n",
       "      <td>94146.0</td>\n",
       "      <td>543493.0</td>\n",
       "      <td>4.895165e+06</td>\n",
       "      <td>85169</td>\n",
       "      <td>20495</td>\n",
       "      <td>45519.182440</td>\n",
       "      <td>23048658</td>\n",
       "      <td>4713396</td>\n",
       "      <td>46582.061165</td>\n",
       "      <td>9.468998e+13</td>\n",
       "      <td>1.018544e+11</td>\n",
       "      <td>4.499377e+09</td>\n",
       "      <td>39326.196</td>\n",
       "      <td>1737.214</td>\n",
       "      <td>69750.877112</td>\n",
       "      <td>-143608.120106</td>\n",
       "    </tr>\n",
       "  </tbody>\n",
       "</table>\n",
       "</div>"
      ],
      "text/plain": [
       "      State_Code  County_Code  Census_Tract_Number  NUM_ALL  NUM_FHA  \\\n",
       "USPS                                                                   \n",
       "CA       47058.0     429621.0         1.572751e+07   307087    88650   \n",
       "TX      241584.0    1147425.0         1.328567e+07   243977    73549   \n",
       "FL       48864.0     292224.0         2.845053e+06   157431    44511   \n",
       "NY      165780.0     288479.0         5.743982e+06   101335    25019   \n",
       "VA       94146.0     543493.0         4.895165e+06    85169    20495   \n",
       "\n",
       "        PCT_NUM_FHA   AMT_ALL   AMT_FHA    PCT_AMT_FHA         GEOID  \\\n",
       "USPS                                                                   \n",
       "CA    231906.640878  99817500  22607179  258551.356138  4.748919e+13   \n",
       "TX    175000.372320  45870174  10789870  179065.734095  2.427328e+14   \n",
       "FL    131126.352219  30754332   6866263  134137.105306  4.915651e+13   \n",
       "NY    135397.247540  30631391   5578590  143698.707311  1.660691e+14   \n",
       "VA     45519.182440  23048658   4713396   46582.061165  9.468998e+13   \n",
       "\n",
       "             ALAND        AWATER  ALAND_SQMI  AWATER_SQMI       INTPTLAT  \\\n",
       "USPS                                                                       \n",
       "CA    3.845024e+11  6.572385e+09  148457.258     2537.612  278462.046524   \n",
       "TX    6.518961e+11  1.416095e+10  251698.524     5467.578  156128.381067   \n",
       "FL    1.314206e+11  1.311422e+10   50741.788     5063.422  113139.351341   \n",
       "NY    1.204434e+11  5.656721e+09   46503.460     2184.083  191221.672549   \n",
       "VA    1.018544e+11  4.499377e+09   39326.196     1737.214   69750.877112   \n",
       "\n",
       "      INTPTLONG                                                                                                                               \n",
       "USPS                                                                                                                                          \n",
       "CA                                       -936564.108106                                                                                       \n",
       "TX                                       -490564.133622                                                                                       \n",
       "FL                                       -332655.086780                                                                                       \n",
       "NY                                       -343856.056861                                                                                       \n",
       "VA                                       -143608.120106                                                                                       "
      ]
     },
     "execution_count": 102,
     "metadata": {},
     "output_type": "execute_result"
    }
   ],
   "source": [
    "df_by_state.sort_values('AMT_FHA', ascending=False).head()"
   ]
  },
  {
   "cell_type": "markdown",
   "metadata": {},
   "source": [
    "## Valores únicos\n",
    "\n",
    "\n",
    "En Pandas podemos contar el número de valores únicos, repeticiones i testear la pertenencia:"
   ]
  },
  {
   "cell_type": "code",
   "execution_count": null,
   "metadata": {},
   "outputs": [],
   "source": [
    "df['State_Code'].unique()[:10]"
   ]
  },
  {
   "cell_type": "code",
   "execution_count": null,
   "metadata": {},
   "outputs": [],
   "source": [
    "df['State_Code'].value_counts().head()"
   ]
  },
  {
   "cell_type": "code",
   "execution_count": null,
   "metadata": {},
   "outputs": [],
   "source": [
    "df[df['State_Code'].isin(df['State_Code'].head(3))] #Seleccionamos según la pertenencia"
   ]
  },
  {
   "cell_type": "markdown",
   "metadata": {},
   "source": [
    "## Tratamiento de información faltante y NA\n",
    "\n",
    "Cuando leemous en  archivo CSV o una base de datos SQL, a menudo encontramos valores \"NA\" (o \"nulo\", \"Ninguno\", etc.). El lector CSV tiene un campo especial para especificar cómo se denota esto, y SQL tiene la noción incorporada de NULL. Pandas proporciona algunas herramientas para trabajar con estos; generalmente son similares a (y un poco peor que) `R`.\n",
    "\n",
    "Debemos tener en cuenta que estos métodos no lo hacen ´inplace´, es decir, crean una nueva serie y no cambian la original.\n",
    "For more details: http://pandas.pydata.org/pandas-docs/stable/missing_data.html"
   ]
  },
  {
   "cell_type": "code",
   "execution_count": null,
   "metadata": {},
   "outputs": [],
   "source": [
    "df['GEOID'][:10]"
   ]
  },
  {
   "cell_type": "markdown",
   "metadata": {},
   "source": [
    "`.isnull()` y `.notnull()` examinan si existe algún null y devuelven una lista."
   ]
  },
  {
   "cell_type": "code",
   "execution_count": null,
   "metadata": {},
   "outputs": [],
   "source": [
    "df['GEOID'].isnull()[:10]"
   ]
  },
  {
   "cell_type": "markdown",
   "metadata": {},
   "source": [
    "`.dropna()`  elimina las filas con información nula."
   ]
  },
  {
   "cell_type": "code",
   "execution_count": null,
   "metadata": {},
   "outputs": [],
   "source": [
    "df['GEOID'].size, df['GEOID'].dropna().size"
   ]
  },
  {
   "cell_type": "markdown",
   "metadata": {},
   "source": [
    "`.fillna()` substituye los valores N/A con otro valor.  `.interpolate()` substituye los valores nulos con una interpolación (linear, or quadratic, or...). "
   ]
  },
  {
   "cell_type": "code",
   "execution_count": null,
   "metadata": {},
   "outputs": [],
   "source": [
    "df['fill_0'] = df['GEOID'].fillna(0)                          # Fills constant value, here 0\n",
    "df['fill_forward'] = df['GEOID'].fillna(method='ffill')       # Fill forwards\n",
    "df['fill_back'] = df['GEOID'].fillna(method='bfill', limit=5) # Fill backwards, at most 5\n",
    "df['fill_mean'] = df['GEOID'].fillna(df['GEOID'].mean())      # Fills constant value, here the mean (imputation)\n",
    "df['fill_interp'] = df['GEOID'].interpolate()                 # Fills interpolated value\n",
    "df[['GEOID', 'fill_0', 'fill_forward', 'fill_back', 'fill_mean', 'fill_interp']][:10]"
   ]
  },
  {
   "cell_type": "markdown",
   "metadata": {},
   "source": [
    "### Nota\n",
    "Los valores N / A (generalmente) se ignoran inteligentemente al realizar otros cálculos en dataframes. Por ejemplo, cuando se usan métodos de cadena en series:"
   ]
  },
  {
   "cell_type": "code",
   "execution_count": null,
   "metadata": {
    "collapsed": true
   },
   "outputs": [],
   "source": [
    "text_series = df['GEOID'].replace(0, np.nan).apply(str)\n",
    "print(text_series[:10])"
   ]
  },
  {
   "cell_type": "code",
   "execution_count": null,
   "metadata": {
    "collapsed": true
   },
   "outputs": [],
   "source": [
    "text_series[:10].str.split('.')"
   ]
  },
  {
   "cell_type": "markdown",
   "metadata": {},
   "source": [
    "La aplicación de la media en los datos numéricos ignora los NA por defecto (consultar la documentación):"
   ]
  },
  {
   "cell_type": "code",
   "execution_count": 98,
   "metadata": {
    "collapsed": true
   },
   "outputs": [
    {
     "data": {
      "text/plain": [
       "28373187313.969"
      ]
     },
     "execution_count": 98,
     "metadata": {},
     "output_type": "execute_result"
    }
   ],
   "source": [
    "df['GEOID'].mean()"
   ]
  },
  {
   "cell_type": "markdown",
   "metadata": {},
   "source": [
    "## Manipulación de strings\n",
    "\n",
    "Las operaciones de string a nivel de elemento están disponibles a través del atributo `.str`.\n",
    "\n",
    "[más información](https://pandas.pydata.org/pandas-docs/stable/text.html)"
   ]
  },
  {
   "cell_type": "code",
   "execution_count": 97,
   "metadata": {
    "collapsed": true
   },
   "outputs": [
    {
     "data": {
      "text/plain": [
       "12    GA\n",
       "20    GA\n",
       "23    LA\n",
       "26    AZ\n",
       "27    GA\n",
       "Name: USPS, dtype: object"
      ]
     },
     "execution_count": 97,
     "metadata": {},
     "output_type": "execute_result"
    }
   ],
   "source": [
    "states = df_joined['USPS'].dropna()\n",
    "states[states.str.contains('A')].head()\n"
   ]
  },
  {
   "cell_type": "markdown",
   "metadata": {},
   "source": [
    "## Indices en Pandas\n",
    "\n",
    "Los índices de pandas nos permiten manejar los datos de forma natural. ** Como hemos comentado antes, los elementos se asocian en función de su índice, no de su orden. **"
   ]
  },
  {
   "cell_type": "code",
   "execution_count": 100,
   "metadata": {
    "collapsed": true
   },
   "outputs": [
    {
     "data": {
      "text/plain": [
       "a    2\n",
       "b    4\n",
       "c    6\n",
       "dtype: int64"
      ]
     },
     "execution_count": 100,
     "metadata": {},
     "output_type": "execute_result"
    }
   ],
   "source": [
    "s1 = pd.Series([1,2,3], index=['a', 'b', 'c'])\n",
    "s2 = pd.Series([3,2,1], index=['c', 'b', 'a'])\n",
    "s1 + s2"
   ]
  },
  {
   "cell_type": "code",
   "execution_count": 101,
   "metadata": {
    "collapsed": true
   },
   "outputs": [
    {
     "data": {
      "text/plain": [
       "a    NaN\n",
       "b    NaN\n",
       "c    6.0\n",
       "d    NaN\n",
       "e    NaN\n",
       "dtype: float64"
      ]
     },
     "execution_count": 101,
     "metadata": {},
     "output_type": "execute_result"
    }
   ],
   "source": [
    "s3 = pd.Series([3,2,1], index=['c', 'd', 'e'])\n",
    "s1 + s3"
   ]
  },
  {
   "cell_type": "markdown",
   "metadata": {},
   "source": [
    "Los valores faltantes obtienen un NaN, pero esto puede ser reemplazado por un valor de relleno de nuestra elección."
   ]
  },
  {
   "cell_type": "code",
   "execution_count": null,
   "metadata": {
    "collapsed": true
   },
   "outputs": [],
   "source": [
    "s1.add(s3, fill_value=0)"
   ]
  },
  {
   "cell_type": "markdown",
   "metadata": {},
   "source": [
    "## Function application and mapping\n",
    "\n",
    "Para la aplicación de funciones a nivel de elemento, lo más sencillo es aplicar funciones **numpy** a estos objetos:"
   ]
  },
  {
   "cell_type": "code",
   "execution_count": null,
   "metadata": {
    "collapsed": true
   },
   "outputs": [],
   "source": [
    "df1 = pd.DataFrame(np.arange(24).reshape(4,6))\n",
    "\n",
    "np.sin(df1)"
   ]
  },
  {
   "cell_type": "markdown",
   "metadata": {},
   "source": [
    "Esto se basa en funciones numpy que se transmiten automáticamente para trabajar en función de los elementos. Para aplicar una función Python a cada elemento, use el método `.applymap ()`."
   ]
  },
  {
   "cell_type": "code",
   "execution_count": null,
   "metadata": {
    "collapsed": true
   },
   "outputs": [],
   "source": [
    "df1.applymap(lambda x: \"%.2f\" % x)"
   ]
  },
  {
   "cell_type": "markdown",
   "metadata": {},
   "source": [
    "Sin embargo, a veces desea calcular cosas en columnas o filas. En este caso, deberá usar el método `apply`.\n",
    "\n",
    "Por ejemplo, el siguiente código muestra el rango de valores de cada columna."
   ]
  },
  {
   "cell_type": "code",
   "execution_count": null,
   "metadata": {
    "collapsed": true
   },
   "outputs": [],
   "source": [
    "df1.apply(lambda x: x.max() - x.min())"
   ]
  },
  {
   "cell_type": "markdown",
   "metadata": {},
   "source": [
    "## Realizando análisis más avanzados\n",
    "\n",
    "Casi cualquier herramienta de \"análisis avanzado\" en el ecosistema de Python va a tomar matrices de tipo `np.array` como entrada. Puede acceder a la matriz subyacente de una columna de un data frame como\n",
    "\n",
    "         df ['column']. values\n",
    "        \n",
    "Muchos de ellos toman `nd.array` a cuyos datos subyacentes se puede acceder mediante\n",
    "\n",
    "         df.values\n",
    "        \n",
    "directamente. * La mayoría * de las veces, tomarán `df ['column']` y `df` sin necesidad de mirar los valores.\n",
    "\n",
    "Esto es particularmente importante si desea usar Pandas con la biblioteca sklearn. Consultad esta [publicación](http://www.markhneedham.com/blog/2013/11/09/python-making-scikit-learn-and-pandas-play-nice/) para ver un ejemplo."
   ]
  },
  {
   "cell_type": "code",
   "execution_count": null,
   "metadata": {
    "collapsed": true
   },
   "outputs": [],
   "source": [
    "df1.apply(lambda x: x.max() - x.min(), axis=1)"
   ]
  },
  {
   "cell_type": "markdown",
   "metadata": {},
   "source": [
    "# Extra !!!"
   ]
  },
  {
   "cell_type": "markdown",
   "metadata": {},
   "source": [
    "## Pandas Timestamps\n",
    "\n",
    "Pandas viene con excelentes herramientas para administrar datos temporales. El elemento central de esto es la clase Timestamp, que puede inferir marcas de tiempo de muchas entradas diferentes:"
   ]
  },
  {
   "cell_type": "code",
   "execution_count": null,
   "metadata": {
    "collapsed": true
   },
   "outputs": [],
   "source": [
    "print(pd.Timestamp('July 4, 2016'))\n",
    "print(pd.Timestamp('Monday, July 4, 2016'))\n",
    "print(pd.Timestamp('Tuesday, July 4th, 2016'))  # notice it ignored 'Tuesday'\n",
    "print(pd.Timestamp('Monday, July 4th, 2016 05:00 PM'))\n",
    "print(pd.Timestamp('04/07/2016T17:20:13.123456'))\n",
    "print(pd.Timestamp(1467651600000000000))  # number of ns since the epoch, 1/1/1970"
   ]
  },
  {
   "cell_type": "markdown",
   "metadata": {},
   "source": [
    "Tambien con zonas horarias:"
   ]
  },
  {
   "cell_type": "code",
   "execution_count": null,
   "metadata": {
    "collapsed": true
   },
   "outputs": [],
   "source": [
    "july4 = pd.Timestamp('Monday, July 4th, 2016 05:00 PM').tz_localize('US/Eastern')\n",
    "labor_day = pd.Timestamp('9/5/2016 12:00', tz='US/Eastern')\n",
    "thanksgiving = pd.Timestamp('11/24/2016 16:00')  # no timezone"
   ]
  },
  {
   "cell_type": "markdown",
   "metadata": {},
   "source": [
    "Pandas puede hacer cálculos en Timestamps si están localizados en la misma zona horaria o ninguno tiene una zona horaria."
   ]
  },
  {
   "cell_type": "code",
   "execution_count": null,
   "metadata": {
    "collapsed": true
   },
   "outputs": [],
   "source": [
    "print(labor_day - july4)\n",
    "# con  thanksgiving - july4  # obtendriamos un error"
   ]
  },
  {
   "cell_type": "markdown",
   "metadata": {},
   "source": [
    "Los desplazamientos de series de tiempo son útiles para calcular fechas relativas a otra fecha. Observad que omite durante los días de fin de semana, pero es ajeno a las vacaciones. Pandas admite [calendarios personalizados] (http://pandas.pydata.org/pandas-docs/stable/timeseries.html#holidays-holiday-calendars) si los necesitamos."
   ]
  },
  {
   "cell_type": "code",
   "execution_count": null,
   "metadata": {
    "collapsed": true
   },
   "outputs": [],
   "source": [
    "from pandas.tseries.offsets import BDay, Day, BMonthEnd\n",
    "\n",
    "print(july4 + Day(5))  # 5 calendar days later, a Saturday.\n",
    "print(july4 + BDay(5))  # 5 business days later, or the following Monday.\n",
    "print(july4 - BDay(1))  # 1 business day earlier, or the previous Friday.\n",
    "print(july4 + BMonthEnd(1))  # last business day of the month."
   ]
  },
  {
   "cell_type": "markdown",
   "metadata": {},
   "source": [
    "Pandas puede generar rangos de fechas. Aquí generamos una lista de los días de trabajo de enero de 2016:"
   ]
  },
  {
   "cell_type": "code",
   "execution_count": null,
   "metadata": {
    "collapsed": true
   },
   "outputs": [],
   "source": [
    "business_days = pd.date_range('1/1/2016', '1/31/2016', freq='B')\n",
    "business_days"
   ]
  },
  {
   "cell_type": "markdown",
   "metadata": {},
   "source": [
    "Esto a su vez puede usarse como un índice de DataFrame:"
   ]
  },
  {
   "cell_type": "code",
   "execution_count": null,
   "metadata": {
    "collapsed": true
   },
   "outputs": [],
   "source": [
    "time_df = pd.DataFrame(np.random.rand(len(business_days)),\n",
    "                    index=business_days,\n",
    "                   columns=['random'])\n",
    "time_df.head()"
   ]
  },
  {
   "cell_type": "markdown",
   "metadata": {},
   "source": [
    "Las funciones de zona horaria siguen siendo usables:"
   ]
  },
  {
   "cell_type": "code",
   "execution_count": null,
   "metadata": {
    "collapsed": true
   },
   "outputs": [],
   "source": [
    "time_df.tz_localize('UTC').tz_convert('US/Pacific').head()"
   ]
  },
  {
   "cell_type": "markdown",
   "metadata": {},
   "source": [
    "## Multi-indices, stacking, and pivot tables\n",
    "\n",
    "Data frames pueden contener múltiples índices para filas o columnas. Por ejemplo, la agrupación por dos columnas producirá un índice de fila de dos niveles."
   ]
  },
  {
   "cell_type": "code",
   "execution_count": null,
   "metadata": {
    "collapsed": true
   },
   "outputs": [],
   "source": [
    "grouped = df.groupby(['State_Code', 'County_Code'])[['NUM_ALL', 'NUM_FHA']].sum()\n",
    "grouped.head()"
   ]
  },
  {
   "cell_type": "markdown",
   "metadata": {},
   "source": [
    "Un índice de fila pues ser transformado a un índice de columna con el método `.unstack()`:"
   ]
  },
  {
   "cell_type": "code",
   "execution_count": null,
   "metadata": {
    "collapsed": true,
    "scrolled": true
   },
   "outputs": [],
   "source": [
    "grouped.unstack().head()"
   ]
  },
  {
   "cell_type": "markdown",
   "metadata": {},
   "source": [
    "El método `.stack()` realiza el trabajo contrario:"
   ]
  },
  {
   "cell_type": "code",
   "execution_count": null,
   "metadata": {
    "collapsed": true
   },
   "outputs": [],
   "source": [
    "np.all(grouped.unstack().stack() == grouped)"
   ]
  },
  {
   "cell_type": "markdown",
   "metadata": {},
   "source": [
    "Esto puede llevarse a cabo con la función `pivot_table()` function."
   ]
  },
  {
   "cell_type": "code",
   "execution_count": null,
   "metadata": {
    "collapsed": true,
    "scrolled": false
   },
   "outputs": [],
   "source": [
    "pd.pivot_table(df, index='State_Code', columns='County_Code',\n",
    "               values=['NUM_ALL', 'NUM_FHA'], aggfunc=np.sum).head()"
   ]
  },
  {
   "cell_type": "markdown",
   "metadata": {},
   "source": [
    "You may already by familiar with pivot tables in Excel.  These work similarly, and area  good tool for changing the dependent and independent variables for aggregations of data. See http://pandas.pydata.org/pandas-docs/stable/reshaping.html for more information."
   ]
  },
  {
   "cell_type": "markdown",
   "metadata": {},
   "source": [
    "### Pandas HTML data import example\n",
    "\n",
    "Pandas takes a \"batteries included\" approach and throws in a whole lot of convenience functions.  For instance it has import functions for a variety of formats.  One of the pleasant surprises is a command `read_html` that's meant to automate the process of extracting tabular data from HTML.  In particular, it works pretty well with tables on Wikipedia.  \n",
    "\n",
    "Let's do an example: We'll try to extract the list of the world's tallest structures from\n",
    "http://en.wikipedia.org/wiki/List_of_tallest_buildings_and_structures_in_the_world."
   ]
  },
  {
   "cell_type": "code",
   "execution_count": 94,
   "metadata": {
    "collapsed": true
   },
   "outputs": [
    {
     "name": "stdout",
     "output_type": "stream",
     "text": [
      "Index(['Category', 'Structure', 'Country', 'City', 'Height (metres)',\n",
      "       'Height (feet)', 'Year built', 'Coordinates'],\n",
      "      dtype='object')\n"
     ]
    },
    {
     "data": {
      "text/html": [
       "<div>\n",
       "<table border=\"1\" class=\"dataframe\">\n",
       "  <thead>\n",
       "    <tr style=\"text-align: right;\">\n",
       "      <th></th>\n",
       "      <th>Category</th>\n",
       "      <th>Structure</th>\n",
       "      <th>Country</th>\n",
       "      <th>City</th>\n",
       "      <th>Height (metres)</th>\n",
       "      <th>Height (feet)</th>\n",
       "      <th>Year built</th>\n",
       "      <th>Coordinates</th>\n",
       "      <th>Clean_Coordinates</th>\n",
       "      <th>Latitude</th>\n",
       "      <th>Longitude</th>\n",
       "    </tr>\n",
       "  </thead>\n",
       "  <tbody>\n",
       "    <tr>\n",
       "      <th>0</th>\n",
       "      <td>Mixed-use</td>\n",
       "      <td>Burj Khalifa</td>\n",
       "      <td>United Arab Emirates</td>\n",
       "      <td>Dubai</td>\n",
       "      <td>829.8</td>\n",
       "      <td>2722.0</td>\n",
       "      <td>2010</td>\n",
       "      <td>25°11′50.0″N 55°16′26.6″E﻿ / ﻿25.197222°N 55.2...</td>\n",
       "      <td>(25.197222, 55.274056)</td>\n",
       "      <td>25.197222</td>\n",
       "      <td>55.274056</td>\n",
       "    </tr>\n",
       "    <tr>\n",
       "      <th>1</th>\n",
       "      <td>Self-supporting tower</td>\n",
       "      <td>Tokyo Skytree</td>\n",
       "      <td>Japan</td>\n",
       "      <td>Tokyo</td>\n",
       "      <td>634</td>\n",
       "      <td>2080.0</td>\n",
       "      <td>2011</td>\n",
       "      <td>35°42′36.5″N 139°48′39″E﻿ / ﻿35.710139°N 139.8...</td>\n",
       "      <td>(35.710139, 139.81083)</td>\n",
       "      <td>35.710139</td>\n",
       "      <td>139.81083</td>\n",
       "    </tr>\n",
       "    <tr>\n",
       "      <th>2</th>\n",
       "      <td>Guyed steel lattice mast</td>\n",
       "      <td>KVLY-TV mast</td>\n",
       "      <td>United States</td>\n",
       "      <td>Blanchard, North Dakota</td>\n",
       "      <td>628.8</td>\n",
       "      <td>2063.0</td>\n",
       "      <td>1963</td>\n",
       "      <td>47°20′32″N 97°17′25″W﻿ / ﻿47.34222°N 97.29028°...</td>\n",
       "      <td>(47.34222, 97.29028)</td>\n",
       "      <td>47.34222</td>\n",
       "      <td>97.29028</td>\n",
       "    </tr>\n",
       "    <tr>\n",
       "      <th>3</th>\n",
       "      <td>Office</td>\n",
       "      <td>One World Trade Center</td>\n",
       "      <td>United States</td>\n",
       "      <td>New York, New York</td>\n",
       "      <td>541</td>\n",
       "      <td>1776.0</td>\n",
       "      <td>2013</td>\n",
       "      <td>40°42′46.8″N 74°0′48.6″W﻿ / ﻿40.713000°N 74.01...</td>\n",
       "      <td>(40.713000, 74.013500)</td>\n",
       "      <td>40.713000</td>\n",
       "      <td>74.013500</td>\n",
       "    </tr>\n",
       "    <tr>\n",
       "      <th>4</th>\n",
       "      <td>Military structure</td>\n",
       "      <td>Large masts of INS Kattabomman</td>\n",
       "      <td>India</td>\n",
       "      <td>Tirunelveli, Tamil Nadu</td>\n",
       "      <td>471</td>\n",
       "      <td>1545.0</td>\n",
       "      <td>2014</td>\n",
       "      <td>8°22′42.52″N 77°44′38.45″E﻿ / ﻿8.3784778°N 77....</td>\n",
       "      <td>(8.3784778, 77.7440139)</td>\n",
       "      <td>8.3784778</td>\n",
       "      <td>77.7440139</td>\n",
       "    </tr>\n",
       "  </tbody>\n",
       "</table>\n",
       "</div>"
      ],
      "text/plain": [
       "                   Category                       Structure  \\\n",
       "0                 Mixed-use                    Burj Khalifa   \n",
       "1     Self-supporting tower                   Tokyo Skytree   \n",
       "2  Guyed steel lattice mast                    KVLY-TV mast   \n",
       "3                    Office          One World Trade Center   \n",
       "4        Military structure  Large masts of INS Kattabomman   \n",
       "\n",
       "                Country                     City Height (metres)  \\\n",
       "0  United Arab Emirates                    Dubai           829.8   \n",
       "1                 Japan                    Tokyo             634   \n",
       "2         United States  Blanchard, North Dakota           628.8   \n",
       "3         United States       New York, New York             541   \n",
       "4                 India  Tirunelveli, Tamil Nadu             471   \n",
       "\n",
       "   Height (feet) Year built  \\\n",
       "0         2722.0       2010   \n",
       "1         2080.0       2011   \n",
       "2         2063.0       1963   \n",
       "3         1776.0       2013   \n",
       "4         1545.0       2014   \n",
       "\n",
       "                                         Coordinates        Clean_Coordinates  \\\n",
       "0  25°11′50.0″N 55°16′26.6″E﻿ / ﻿25.197222°N 55.2...   (25.197222, 55.274056)   \n",
       "1  35°42′36.5″N 139°48′39″E﻿ / ﻿35.710139°N 139.8...   (35.710139, 139.81083)   \n",
       "2  47°20′32″N 97°17′25″W﻿ / ﻿47.34222°N 97.29028°...     (47.34222, 97.29028)   \n",
       "3  40°42′46.8″N 74°0′48.6″W﻿ / ﻿40.713000°N 74.01...   (40.713000, 74.013500)   \n",
       "4  8°22′42.52″N 77°44′38.45″E﻿ / ﻿8.3784778°N 77....  (8.3784778, 77.7440139)   \n",
       "\n",
       "    Latitude   Longitude  \n",
       "0  25.197222   55.274056  \n",
       "1  35.710139   139.81083  \n",
       "2   47.34222    97.29028  \n",
       "3  40.713000   74.013500  \n",
       "4  8.3784778  77.7440139  "
      ]
     },
     "execution_count": 94,
     "metadata": {},
     "output_type": "execute_result"
    }
   ],
   "source": [
    "dfs = pd.read_html('http://en.wikipedia.org/wiki/List_of_tallest_buildings_and_structures_in_the_world', header=0, parse_dates=False)\n",
    "\n",
    "# There are several tables on the page.  By inspection we can figure out which one we want\n",
    "tallest = dfs[3]\n",
    "print(tallest.columns)\n",
    "# The coordinates column needs to be fixed up.  This is a bit of string parsing:\n",
    "def clean_lat_long(s):\n",
    "    try:\n",
    "        parts = s.split(\"/\")\n",
    "    except AttributeError:\n",
    "        return (None, None)\n",
    "    if len(parts) < 3:\n",
    "        return (None, None)\n",
    "    m = re.search(r\"(\\d+[.]\\d+);[^\\d]*(\\d+[.]\\d+)[^\\d]\", parts[2])\n",
    "    if not m:\n",
    "        return (None, None)\n",
    "    return (m.group(1), m.group(2))\n",
    "\n",
    "tallest['Clean_Coordinates'] = tallest['Coordinates'].apply(clean_lat_long)\n",
    "tallest['Latitude'] = tallest['Clean_Coordinates'].apply(lambda x:x[0])\n",
    "tallest['Longitude'] = tallest['Clean_Coordinates'].apply(lambda x:x[1])\n",
    "\n",
    "# Et voila\n",
    "tallest.head()"
   ]
  },
  {
   "cell_type": "markdown",
   "metadata": {},
   "source": [
    "**Exercise**\n",
    "\n",
    "1. Parse the table rankings of [UK universities available on Wikipedia](https://en.wikipedia.org/wiki/Rankings_of_universities_in_the_United_Kingdom):"
   ]
  }
 ],
 "metadata": {
  "kernelspec": {
   "display_name": "Python [default]",
   "language": "python",
   "name": "python3"
  },
  "language_info": {
   "codemirror_mode": {
    "name": "ipython",
    "version": 3
   },
   "file_extension": ".py",
   "mimetype": "text/x-python",
   "name": "python",
   "nbconvert_exporter": "python",
   "pygments_lexer": "ipython3",
   "version": "3.5.4"
  }
 },
 "nbformat": 4,
 "nbformat_minor": 2
}
