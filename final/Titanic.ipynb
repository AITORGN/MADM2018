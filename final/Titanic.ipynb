{
 "cells": [
  {
   "cell_type": "markdown",
   "metadata": {},
   "source": [
    "# Titanic\n",
    "## Ejercicio final, anàlisis de un conjunto de datos. "
   ]
  },
  {
   "cell_type": "code",
   "execution_count": 3,
   "metadata": {},
   "outputs": [],
   "source": [
    "import pandas as pd"
   ]
  },
  {
   "cell_type": "markdown",
   "metadata": {},
   "source": [
    "1. Descripción del conjunto de datos: número de observaciones, que características (columnas) tenemos? Muestra las 5 primeras filas\n",
    "2. Mostrar la probabilidad de supervivencia por sexo.\n",
    "3. Cuantas clases había? Mostrar la probabilidad de supervivencia por clase.\n",
    "4. Crea una nueva columna de datos *Fam* que sea el resultado de sumar SibSp y Parch, con esto conoceremos el número de familiares que cada persona tenía en el barco. Elimina la columna PassengerId.\n",
    "5. Crea una función que reciba una lista por parámetro y devuelva una nueva lista de valores *True* / *False*. *True* Si el valor recibido es mayor a 5, *False* en caso contrario. Probad vuestra función con la columna *Fam* \n",
    "5. Rellenar las edades faltantes con la media de la clase las edades faltantes. \n",
    "6. Cuales son los nombres de las 10 personas mas mayores? Cuantos menores de 18 años había en el barco?\n",
    "7. Con el resultado anterior dibuja un histograma de las edades del barco.\n",
    "8. Cual es el precio medio de ticket (Fare) de los supervivientes, y de los no supervivientes?\n",
    "9. Existe alguna relación entre la Clase y el Precio? Puedes evaluarlo mediante la aplicación de una regresión lineal?\n",
    "10. Cread un json de las 5 primeras filas, guardadlo en un fichero llamado *resumen.json*\n"
   ]
  },
  {
   "cell_type": "markdown",
   "metadata": {},
   "source": [
    "El conjunto de datos se llama *train.csv*"
   ]
  }
 ],
 "metadata": {
  "kernelspec": {
   "display_name": "Python 3",
   "language": "python",
   "name": "python3"
  },
  "language_info": {
   "codemirror_mode": {
    "name": "ipython",
    "version": 3
   },
   "file_extension": ".py",
   "mimetype": "text/x-python",
   "name": "python",
   "nbconvert_exporter": "python",
   "pygments_lexer": "ipython3",
   "version": "3.6.5"
  }
 },
 "nbformat": 4,
 "nbformat_minor": 2
}
